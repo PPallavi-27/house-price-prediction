{
 "cells": [
  {
   "cell_type": "code",
   "execution_count": 1,
   "id": "2727ec88",
   "metadata": {},
   "outputs": [],
   "source": [
    "import pandas as pd\n",
    "import numpy as np\n",
    "import matplotlib.pyplot as plt\n",
    "import seaborn as sns\n",
    "import plotly.express as px"
   ]
  },
  {
   "cell_type": "code",
   "execution_count": 2,
   "id": "ce262cfd",
   "metadata": {},
   "outputs": [],
   "source": [
    "import pandas as pd\n",
    "import numpy as np\n",
    "import matplotlib.pyplot as plt\n",
    "import seaborn as sns\n",
    "from scipy import stats\n",
    "import statsmodels.api as sm\n",
    "from statsmodels.formula.api import ols\n",
    "from statsmodels.stats.multicomp import pairwise_tukeyhsd\n",
    "import statsmodels.formula.api as smf\n",
    "pd.set_option('display.max_column',None)\n",
    "from sklearn.linear_model import LinearRegression"
   ]
  },
  {
   "cell_type": "code",
   "execution_count": 3,
   "id": "239c9a80",
   "metadata": {},
   "outputs": [
    {
     "data": {
      "text/html": [
       "<div>\n",
       "<style scoped>\n",
       "    .dataframe tbody tr th:only-of-type {\n",
       "        vertical-align: middle;\n",
       "    }\n",
       "\n",
       "    .dataframe tbody tr th {\n",
       "        vertical-align: top;\n",
       "    }\n",
       "\n",
       "    .dataframe thead th {\n",
       "        text-align: right;\n",
       "    }\n",
       "</style>\n",
       "<table border=\"1\" class=\"dataframe\">\n",
       "  <thead>\n",
       "    <tr style=\"text-align: right;\">\n",
       "      <th></th>\n",
       "      <th>Id</th>\n",
       "      <th>MSSubClass</th>\n",
       "      <th>MSZoning</th>\n",
       "      <th>LotFrontage</th>\n",
       "      <th>LotArea</th>\n",
       "      <th>Street</th>\n",
       "      <th>Alley</th>\n",
       "      <th>LotShape</th>\n",
       "      <th>LandContour</th>\n",
       "      <th>Utilities</th>\n",
       "      <th>LotConfig</th>\n",
       "      <th>LandSlope</th>\n",
       "      <th>Neighborhood</th>\n",
       "      <th>Condition1</th>\n",
       "      <th>Condition2</th>\n",
       "      <th>BldgType</th>\n",
       "      <th>HouseStyle</th>\n",
       "      <th>OverallQual</th>\n",
       "      <th>OverallCond</th>\n",
       "      <th>YearBuilt</th>\n",
       "      <th>YearRemodAdd</th>\n",
       "      <th>RoofStyle</th>\n",
       "      <th>RoofMatl</th>\n",
       "      <th>Exterior1st</th>\n",
       "      <th>Exterior2nd</th>\n",
       "      <th>MasVnrType</th>\n",
       "      <th>MasVnrArea</th>\n",
       "      <th>ExterQual</th>\n",
       "      <th>ExterCond</th>\n",
       "      <th>Foundation</th>\n",
       "      <th>BsmtQual</th>\n",
       "      <th>BsmtCond</th>\n",
       "      <th>BsmtExposure</th>\n",
       "      <th>BsmtFinType1</th>\n",
       "      <th>BsmtFinSF1</th>\n",
       "      <th>BsmtFinType2</th>\n",
       "      <th>BsmtFinSF2</th>\n",
       "      <th>BsmtUnfSF</th>\n",
       "      <th>TotalBsmtSF</th>\n",
       "      <th>Heating</th>\n",
       "      <th>HeatingQC</th>\n",
       "      <th>CentralAir</th>\n",
       "      <th>Electrical</th>\n",
       "      <th>1stFlrSF</th>\n",
       "      <th>2ndFlrSF</th>\n",
       "      <th>LowQualFinSF</th>\n",
       "      <th>GrLivArea</th>\n",
       "      <th>BsmtFullBath</th>\n",
       "      <th>BsmtHalfBath</th>\n",
       "      <th>FullBath</th>\n",
       "      <th>HalfBath</th>\n",
       "      <th>BedroomAbvGr</th>\n",
       "      <th>KitchenAbvGr</th>\n",
       "      <th>KitchenQual</th>\n",
       "      <th>TotRmsAbvGrd</th>\n",
       "      <th>Functional</th>\n",
       "      <th>Fireplaces</th>\n",
       "      <th>FireplaceQu</th>\n",
       "      <th>GarageType</th>\n",
       "      <th>GarageYrBlt</th>\n",
       "      <th>GarageFinish</th>\n",
       "      <th>GarageCars</th>\n",
       "      <th>GarageArea</th>\n",
       "      <th>GarageQual</th>\n",
       "      <th>GarageCond</th>\n",
       "      <th>PavedDrive</th>\n",
       "      <th>WoodDeckSF</th>\n",
       "      <th>OpenPorchSF</th>\n",
       "      <th>EnclosedPorch</th>\n",
       "      <th>3SsnPorch</th>\n",
       "      <th>ScreenPorch</th>\n",
       "      <th>PoolArea</th>\n",
       "      <th>PoolQC</th>\n",
       "      <th>Fence</th>\n",
       "      <th>MiscFeature</th>\n",
       "      <th>MiscVal</th>\n",
       "      <th>MoSold</th>\n",
       "      <th>YrSold</th>\n",
       "      <th>SaleType</th>\n",
       "      <th>SaleCondition</th>\n",
       "      <th>SalePrice</th>\n",
       "    </tr>\n",
       "  </thead>\n",
       "  <tbody>\n",
       "    <tr>\n",
       "      <th>0</th>\n",
       "      <td>1</td>\n",
       "      <td>60</td>\n",
       "      <td>RL</td>\n",
       "      <td>65.0</td>\n",
       "      <td>8450</td>\n",
       "      <td>Pave</td>\n",
       "      <td>NaN</td>\n",
       "      <td>Reg</td>\n",
       "      <td>Lvl</td>\n",
       "      <td>AllPub</td>\n",
       "      <td>Inside</td>\n",
       "      <td>Gtl</td>\n",
       "      <td>CollgCr</td>\n",
       "      <td>Norm</td>\n",
       "      <td>Norm</td>\n",
       "      <td>1Fam</td>\n",
       "      <td>2Story</td>\n",
       "      <td>7</td>\n",
       "      <td>5</td>\n",
       "      <td>2003</td>\n",
       "      <td>2003</td>\n",
       "      <td>Gable</td>\n",
       "      <td>CompShg</td>\n",
       "      <td>VinylSd</td>\n",
       "      <td>VinylSd</td>\n",
       "      <td>BrkFace</td>\n",
       "      <td>196.0</td>\n",
       "      <td>Gd</td>\n",
       "      <td>TA</td>\n",
       "      <td>PConc</td>\n",
       "      <td>Gd</td>\n",
       "      <td>TA</td>\n",
       "      <td>No</td>\n",
       "      <td>GLQ</td>\n",
       "      <td>706</td>\n",
       "      <td>Unf</td>\n",
       "      <td>0</td>\n",
       "      <td>150</td>\n",
       "      <td>856</td>\n",
       "      <td>GasA</td>\n",
       "      <td>Ex</td>\n",
       "      <td>Y</td>\n",
       "      <td>SBrkr</td>\n",
       "      <td>856</td>\n",
       "      <td>854</td>\n",
       "      <td>0</td>\n",
       "      <td>1710</td>\n",
       "      <td>1</td>\n",
       "      <td>0</td>\n",
       "      <td>2</td>\n",
       "      <td>1</td>\n",
       "      <td>3</td>\n",
       "      <td>1</td>\n",
       "      <td>Gd</td>\n",
       "      <td>8</td>\n",
       "      <td>Typ</td>\n",
       "      <td>0</td>\n",
       "      <td>NaN</td>\n",
       "      <td>Attchd</td>\n",
       "      <td>2003.0</td>\n",
       "      <td>RFn</td>\n",
       "      <td>2</td>\n",
       "      <td>548</td>\n",
       "      <td>TA</td>\n",
       "      <td>TA</td>\n",
       "      <td>Y</td>\n",
       "      <td>0</td>\n",
       "      <td>61</td>\n",
       "      <td>0</td>\n",
       "      <td>0</td>\n",
       "      <td>0</td>\n",
       "      <td>0</td>\n",
       "      <td>NaN</td>\n",
       "      <td>NaN</td>\n",
       "      <td>NaN</td>\n",
       "      <td>0</td>\n",
       "      <td>2</td>\n",
       "      <td>2008</td>\n",
       "      <td>WD</td>\n",
       "      <td>Normal</td>\n",
       "      <td>208500</td>\n",
       "    </tr>\n",
       "    <tr>\n",
       "      <th>1</th>\n",
       "      <td>2</td>\n",
       "      <td>20</td>\n",
       "      <td>RL</td>\n",
       "      <td>80.0</td>\n",
       "      <td>9600</td>\n",
       "      <td>Pave</td>\n",
       "      <td>NaN</td>\n",
       "      <td>Reg</td>\n",
       "      <td>Lvl</td>\n",
       "      <td>AllPub</td>\n",
       "      <td>FR2</td>\n",
       "      <td>Gtl</td>\n",
       "      <td>Veenker</td>\n",
       "      <td>Feedr</td>\n",
       "      <td>Norm</td>\n",
       "      <td>1Fam</td>\n",
       "      <td>1Story</td>\n",
       "      <td>6</td>\n",
       "      <td>8</td>\n",
       "      <td>1976</td>\n",
       "      <td>1976</td>\n",
       "      <td>Gable</td>\n",
       "      <td>CompShg</td>\n",
       "      <td>MetalSd</td>\n",
       "      <td>MetalSd</td>\n",
       "      <td>None</td>\n",
       "      <td>0.0</td>\n",
       "      <td>TA</td>\n",
       "      <td>TA</td>\n",
       "      <td>CBlock</td>\n",
       "      <td>Gd</td>\n",
       "      <td>TA</td>\n",
       "      <td>Gd</td>\n",
       "      <td>ALQ</td>\n",
       "      <td>978</td>\n",
       "      <td>Unf</td>\n",
       "      <td>0</td>\n",
       "      <td>284</td>\n",
       "      <td>1262</td>\n",
       "      <td>GasA</td>\n",
       "      <td>Ex</td>\n",
       "      <td>Y</td>\n",
       "      <td>SBrkr</td>\n",
       "      <td>1262</td>\n",
       "      <td>0</td>\n",
       "      <td>0</td>\n",
       "      <td>1262</td>\n",
       "      <td>0</td>\n",
       "      <td>1</td>\n",
       "      <td>2</td>\n",
       "      <td>0</td>\n",
       "      <td>3</td>\n",
       "      <td>1</td>\n",
       "      <td>TA</td>\n",
       "      <td>6</td>\n",
       "      <td>Typ</td>\n",
       "      <td>1</td>\n",
       "      <td>TA</td>\n",
       "      <td>Attchd</td>\n",
       "      <td>1976.0</td>\n",
       "      <td>RFn</td>\n",
       "      <td>2</td>\n",
       "      <td>460</td>\n",
       "      <td>TA</td>\n",
       "      <td>TA</td>\n",
       "      <td>Y</td>\n",
       "      <td>298</td>\n",
       "      <td>0</td>\n",
       "      <td>0</td>\n",
       "      <td>0</td>\n",
       "      <td>0</td>\n",
       "      <td>0</td>\n",
       "      <td>NaN</td>\n",
       "      <td>NaN</td>\n",
       "      <td>NaN</td>\n",
       "      <td>0</td>\n",
       "      <td>5</td>\n",
       "      <td>2007</td>\n",
       "      <td>WD</td>\n",
       "      <td>Normal</td>\n",
       "      <td>181500</td>\n",
       "    </tr>\n",
       "    <tr>\n",
       "      <th>2</th>\n",
       "      <td>3</td>\n",
       "      <td>60</td>\n",
       "      <td>RL</td>\n",
       "      <td>68.0</td>\n",
       "      <td>11250</td>\n",
       "      <td>Pave</td>\n",
       "      <td>NaN</td>\n",
       "      <td>IR1</td>\n",
       "      <td>Lvl</td>\n",
       "      <td>AllPub</td>\n",
       "      <td>Inside</td>\n",
       "      <td>Gtl</td>\n",
       "      <td>CollgCr</td>\n",
       "      <td>Norm</td>\n",
       "      <td>Norm</td>\n",
       "      <td>1Fam</td>\n",
       "      <td>2Story</td>\n",
       "      <td>7</td>\n",
       "      <td>5</td>\n",
       "      <td>2001</td>\n",
       "      <td>2002</td>\n",
       "      <td>Gable</td>\n",
       "      <td>CompShg</td>\n",
       "      <td>VinylSd</td>\n",
       "      <td>VinylSd</td>\n",
       "      <td>BrkFace</td>\n",
       "      <td>162.0</td>\n",
       "      <td>Gd</td>\n",
       "      <td>TA</td>\n",
       "      <td>PConc</td>\n",
       "      <td>Gd</td>\n",
       "      <td>TA</td>\n",
       "      <td>Mn</td>\n",
       "      <td>GLQ</td>\n",
       "      <td>486</td>\n",
       "      <td>Unf</td>\n",
       "      <td>0</td>\n",
       "      <td>434</td>\n",
       "      <td>920</td>\n",
       "      <td>GasA</td>\n",
       "      <td>Ex</td>\n",
       "      <td>Y</td>\n",
       "      <td>SBrkr</td>\n",
       "      <td>920</td>\n",
       "      <td>866</td>\n",
       "      <td>0</td>\n",
       "      <td>1786</td>\n",
       "      <td>1</td>\n",
       "      <td>0</td>\n",
       "      <td>2</td>\n",
       "      <td>1</td>\n",
       "      <td>3</td>\n",
       "      <td>1</td>\n",
       "      <td>Gd</td>\n",
       "      <td>6</td>\n",
       "      <td>Typ</td>\n",
       "      <td>1</td>\n",
       "      <td>TA</td>\n",
       "      <td>Attchd</td>\n",
       "      <td>2001.0</td>\n",
       "      <td>RFn</td>\n",
       "      <td>2</td>\n",
       "      <td>608</td>\n",
       "      <td>TA</td>\n",
       "      <td>TA</td>\n",
       "      <td>Y</td>\n",
       "      <td>0</td>\n",
       "      <td>42</td>\n",
       "      <td>0</td>\n",
       "      <td>0</td>\n",
       "      <td>0</td>\n",
       "      <td>0</td>\n",
       "      <td>NaN</td>\n",
       "      <td>NaN</td>\n",
       "      <td>NaN</td>\n",
       "      <td>0</td>\n",
       "      <td>9</td>\n",
       "      <td>2008</td>\n",
       "      <td>WD</td>\n",
       "      <td>Normal</td>\n",
       "      <td>223500</td>\n",
       "    </tr>\n",
       "    <tr>\n",
       "      <th>3</th>\n",
       "      <td>4</td>\n",
       "      <td>70</td>\n",
       "      <td>RL</td>\n",
       "      <td>60.0</td>\n",
       "      <td>9550</td>\n",
       "      <td>Pave</td>\n",
       "      <td>NaN</td>\n",
       "      <td>IR1</td>\n",
       "      <td>Lvl</td>\n",
       "      <td>AllPub</td>\n",
       "      <td>Corner</td>\n",
       "      <td>Gtl</td>\n",
       "      <td>Crawfor</td>\n",
       "      <td>Norm</td>\n",
       "      <td>Norm</td>\n",
       "      <td>1Fam</td>\n",
       "      <td>2Story</td>\n",
       "      <td>7</td>\n",
       "      <td>5</td>\n",
       "      <td>1915</td>\n",
       "      <td>1970</td>\n",
       "      <td>Gable</td>\n",
       "      <td>CompShg</td>\n",
       "      <td>Wd Sdng</td>\n",
       "      <td>Wd Shng</td>\n",
       "      <td>None</td>\n",
       "      <td>0.0</td>\n",
       "      <td>TA</td>\n",
       "      <td>TA</td>\n",
       "      <td>BrkTil</td>\n",
       "      <td>TA</td>\n",
       "      <td>Gd</td>\n",
       "      <td>No</td>\n",
       "      <td>ALQ</td>\n",
       "      <td>216</td>\n",
       "      <td>Unf</td>\n",
       "      <td>0</td>\n",
       "      <td>540</td>\n",
       "      <td>756</td>\n",
       "      <td>GasA</td>\n",
       "      <td>Gd</td>\n",
       "      <td>Y</td>\n",
       "      <td>SBrkr</td>\n",
       "      <td>961</td>\n",
       "      <td>756</td>\n",
       "      <td>0</td>\n",
       "      <td>1717</td>\n",
       "      <td>1</td>\n",
       "      <td>0</td>\n",
       "      <td>1</td>\n",
       "      <td>0</td>\n",
       "      <td>3</td>\n",
       "      <td>1</td>\n",
       "      <td>Gd</td>\n",
       "      <td>7</td>\n",
       "      <td>Typ</td>\n",
       "      <td>1</td>\n",
       "      <td>Gd</td>\n",
       "      <td>Detchd</td>\n",
       "      <td>1998.0</td>\n",
       "      <td>Unf</td>\n",
       "      <td>3</td>\n",
       "      <td>642</td>\n",
       "      <td>TA</td>\n",
       "      <td>TA</td>\n",
       "      <td>Y</td>\n",
       "      <td>0</td>\n",
       "      <td>35</td>\n",
       "      <td>272</td>\n",
       "      <td>0</td>\n",
       "      <td>0</td>\n",
       "      <td>0</td>\n",
       "      <td>NaN</td>\n",
       "      <td>NaN</td>\n",
       "      <td>NaN</td>\n",
       "      <td>0</td>\n",
       "      <td>2</td>\n",
       "      <td>2006</td>\n",
       "      <td>WD</td>\n",
       "      <td>Abnorml</td>\n",
       "      <td>140000</td>\n",
       "    </tr>\n",
       "    <tr>\n",
       "      <th>4</th>\n",
       "      <td>5</td>\n",
       "      <td>60</td>\n",
       "      <td>RL</td>\n",
       "      <td>84.0</td>\n",
       "      <td>14260</td>\n",
       "      <td>Pave</td>\n",
       "      <td>NaN</td>\n",
       "      <td>IR1</td>\n",
       "      <td>Lvl</td>\n",
       "      <td>AllPub</td>\n",
       "      <td>FR2</td>\n",
       "      <td>Gtl</td>\n",
       "      <td>NoRidge</td>\n",
       "      <td>Norm</td>\n",
       "      <td>Norm</td>\n",
       "      <td>1Fam</td>\n",
       "      <td>2Story</td>\n",
       "      <td>8</td>\n",
       "      <td>5</td>\n",
       "      <td>2000</td>\n",
       "      <td>2000</td>\n",
       "      <td>Gable</td>\n",
       "      <td>CompShg</td>\n",
       "      <td>VinylSd</td>\n",
       "      <td>VinylSd</td>\n",
       "      <td>BrkFace</td>\n",
       "      <td>350.0</td>\n",
       "      <td>Gd</td>\n",
       "      <td>TA</td>\n",
       "      <td>PConc</td>\n",
       "      <td>Gd</td>\n",
       "      <td>TA</td>\n",
       "      <td>Av</td>\n",
       "      <td>GLQ</td>\n",
       "      <td>655</td>\n",
       "      <td>Unf</td>\n",
       "      <td>0</td>\n",
       "      <td>490</td>\n",
       "      <td>1145</td>\n",
       "      <td>GasA</td>\n",
       "      <td>Ex</td>\n",
       "      <td>Y</td>\n",
       "      <td>SBrkr</td>\n",
       "      <td>1145</td>\n",
       "      <td>1053</td>\n",
       "      <td>0</td>\n",
       "      <td>2198</td>\n",
       "      <td>1</td>\n",
       "      <td>0</td>\n",
       "      <td>2</td>\n",
       "      <td>1</td>\n",
       "      <td>4</td>\n",
       "      <td>1</td>\n",
       "      <td>Gd</td>\n",
       "      <td>9</td>\n",
       "      <td>Typ</td>\n",
       "      <td>1</td>\n",
       "      <td>TA</td>\n",
       "      <td>Attchd</td>\n",
       "      <td>2000.0</td>\n",
       "      <td>RFn</td>\n",
       "      <td>3</td>\n",
       "      <td>836</td>\n",
       "      <td>TA</td>\n",
       "      <td>TA</td>\n",
       "      <td>Y</td>\n",
       "      <td>192</td>\n",
       "      <td>84</td>\n",
       "      <td>0</td>\n",
       "      <td>0</td>\n",
       "      <td>0</td>\n",
       "      <td>0</td>\n",
       "      <td>NaN</td>\n",
       "      <td>NaN</td>\n",
       "      <td>NaN</td>\n",
       "      <td>0</td>\n",
       "      <td>12</td>\n",
       "      <td>2008</td>\n",
       "      <td>WD</td>\n",
       "      <td>Normal</td>\n",
       "      <td>250000</td>\n",
       "    </tr>\n",
       "    <tr>\n",
       "      <th>...</th>\n",
       "      <td>...</td>\n",
       "      <td>...</td>\n",
       "      <td>...</td>\n",
       "      <td>...</td>\n",
       "      <td>...</td>\n",
       "      <td>...</td>\n",
       "      <td>...</td>\n",
       "      <td>...</td>\n",
       "      <td>...</td>\n",
       "      <td>...</td>\n",
       "      <td>...</td>\n",
       "      <td>...</td>\n",
       "      <td>...</td>\n",
       "      <td>...</td>\n",
       "      <td>...</td>\n",
       "      <td>...</td>\n",
       "      <td>...</td>\n",
       "      <td>...</td>\n",
       "      <td>...</td>\n",
       "      <td>...</td>\n",
       "      <td>...</td>\n",
       "      <td>...</td>\n",
       "      <td>...</td>\n",
       "      <td>...</td>\n",
       "      <td>...</td>\n",
       "      <td>...</td>\n",
       "      <td>...</td>\n",
       "      <td>...</td>\n",
       "      <td>...</td>\n",
       "      <td>...</td>\n",
       "      <td>...</td>\n",
       "      <td>...</td>\n",
       "      <td>...</td>\n",
       "      <td>...</td>\n",
       "      <td>...</td>\n",
       "      <td>...</td>\n",
       "      <td>...</td>\n",
       "      <td>...</td>\n",
       "      <td>...</td>\n",
       "      <td>...</td>\n",
       "      <td>...</td>\n",
       "      <td>...</td>\n",
       "      <td>...</td>\n",
       "      <td>...</td>\n",
       "      <td>...</td>\n",
       "      <td>...</td>\n",
       "      <td>...</td>\n",
       "      <td>...</td>\n",
       "      <td>...</td>\n",
       "      <td>...</td>\n",
       "      <td>...</td>\n",
       "      <td>...</td>\n",
       "      <td>...</td>\n",
       "      <td>...</td>\n",
       "      <td>...</td>\n",
       "      <td>...</td>\n",
       "      <td>...</td>\n",
       "      <td>...</td>\n",
       "      <td>...</td>\n",
       "      <td>...</td>\n",
       "      <td>...</td>\n",
       "      <td>...</td>\n",
       "      <td>...</td>\n",
       "      <td>...</td>\n",
       "      <td>...</td>\n",
       "      <td>...</td>\n",
       "      <td>...</td>\n",
       "      <td>...</td>\n",
       "      <td>...</td>\n",
       "      <td>...</td>\n",
       "      <td>...</td>\n",
       "      <td>...</td>\n",
       "      <td>...</td>\n",
       "      <td>...</td>\n",
       "      <td>...</td>\n",
       "      <td>...</td>\n",
       "      <td>...</td>\n",
       "      <td>...</td>\n",
       "      <td>...</td>\n",
       "      <td>...</td>\n",
       "      <td>...</td>\n",
       "    </tr>\n",
       "    <tr>\n",
       "      <th>1455</th>\n",
       "      <td>1456</td>\n",
       "      <td>60</td>\n",
       "      <td>RL</td>\n",
       "      <td>62.0</td>\n",
       "      <td>7917</td>\n",
       "      <td>Pave</td>\n",
       "      <td>NaN</td>\n",
       "      <td>Reg</td>\n",
       "      <td>Lvl</td>\n",
       "      <td>AllPub</td>\n",
       "      <td>Inside</td>\n",
       "      <td>Gtl</td>\n",
       "      <td>Gilbert</td>\n",
       "      <td>Norm</td>\n",
       "      <td>Norm</td>\n",
       "      <td>1Fam</td>\n",
       "      <td>2Story</td>\n",
       "      <td>6</td>\n",
       "      <td>5</td>\n",
       "      <td>1999</td>\n",
       "      <td>2000</td>\n",
       "      <td>Gable</td>\n",
       "      <td>CompShg</td>\n",
       "      <td>VinylSd</td>\n",
       "      <td>VinylSd</td>\n",
       "      <td>None</td>\n",
       "      <td>0.0</td>\n",
       "      <td>TA</td>\n",
       "      <td>TA</td>\n",
       "      <td>PConc</td>\n",
       "      <td>Gd</td>\n",
       "      <td>TA</td>\n",
       "      <td>No</td>\n",
       "      <td>Unf</td>\n",
       "      <td>0</td>\n",
       "      <td>Unf</td>\n",
       "      <td>0</td>\n",
       "      <td>953</td>\n",
       "      <td>953</td>\n",
       "      <td>GasA</td>\n",
       "      <td>Ex</td>\n",
       "      <td>Y</td>\n",
       "      <td>SBrkr</td>\n",
       "      <td>953</td>\n",
       "      <td>694</td>\n",
       "      <td>0</td>\n",
       "      <td>1647</td>\n",
       "      <td>0</td>\n",
       "      <td>0</td>\n",
       "      <td>2</td>\n",
       "      <td>1</td>\n",
       "      <td>3</td>\n",
       "      <td>1</td>\n",
       "      <td>TA</td>\n",
       "      <td>7</td>\n",
       "      <td>Typ</td>\n",
       "      <td>1</td>\n",
       "      <td>TA</td>\n",
       "      <td>Attchd</td>\n",
       "      <td>1999.0</td>\n",
       "      <td>RFn</td>\n",
       "      <td>2</td>\n",
       "      <td>460</td>\n",
       "      <td>TA</td>\n",
       "      <td>TA</td>\n",
       "      <td>Y</td>\n",
       "      <td>0</td>\n",
       "      <td>40</td>\n",
       "      <td>0</td>\n",
       "      <td>0</td>\n",
       "      <td>0</td>\n",
       "      <td>0</td>\n",
       "      <td>NaN</td>\n",
       "      <td>NaN</td>\n",
       "      <td>NaN</td>\n",
       "      <td>0</td>\n",
       "      <td>8</td>\n",
       "      <td>2007</td>\n",
       "      <td>WD</td>\n",
       "      <td>Normal</td>\n",
       "      <td>175000</td>\n",
       "    </tr>\n",
       "    <tr>\n",
       "      <th>1456</th>\n",
       "      <td>1457</td>\n",
       "      <td>20</td>\n",
       "      <td>RL</td>\n",
       "      <td>85.0</td>\n",
       "      <td>13175</td>\n",
       "      <td>Pave</td>\n",
       "      <td>NaN</td>\n",
       "      <td>Reg</td>\n",
       "      <td>Lvl</td>\n",
       "      <td>AllPub</td>\n",
       "      <td>Inside</td>\n",
       "      <td>Gtl</td>\n",
       "      <td>NWAmes</td>\n",
       "      <td>Norm</td>\n",
       "      <td>Norm</td>\n",
       "      <td>1Fam</td>\n",
       "      <td>1Story</td>\n",
       "      <td>6</td>\n",
       "      <td>6</td>\n",
       "      <td>1978</td>\n",
       "      <td>1988</td>\n",
       "      <td>Gable</td>\n",
       "      <td>CompShg</td>\n",
       "      <td>Plywood</td>\n",
       "      <td>Plywood</td>\n",
       "      <td>Stone</td>\n",
       "      <td>119.0</td>\n",
       "      <td>TA</td>\n",
       "      <td>TA</td>\n",
       "      <td>CBlock</td>\n",
       "      <td>Gd</td>\n",
       "      <td>TA</td>\n",
       "      <td>No</td>\n",
       "      <td>ALQ</td>\n",
       "      <td>790</td>\n",
       "      <td>Rec</td>\n",
       "      <td>163</td>\n",
       "      <td>589</td>\n",
       "      <td>1542</td>\n",
       "      <td>GasA</td>\n",
       "      <td>TA</td>\n",
       "      <td>Y</td>\n",
       "      <td>SBrkr</td>\n",
       "      <td>2073</td>\n",
       "      <td>0</td>\n",
       "      <td>0</td>\n",
       "      <td>2073</td>\n",
       "      <td>1</td>\n",
       "      <td>0</td>\n",
       "      <td>2</td>\n",
       "      <td>0</td>\n",
       "      <td>3</td>\n",
       "      <td>1</td>\n",
       "      <td>TA</td>\n",
       "      <td>7</td>\n",
       "      <td>Min1</td>\n",
       "      <td>2</td>\n",
       "      <td>TA</td>\n",
       "      <td>Attchd</td>\n",
       "      <td>1978.0</td>\n",
       "      <td>Unf</td>\n",
       "      <td>2</td>\n",
       "      <td>500</td>\n",
       "      <td>TA</td>\n",
       "      <td>TA</td>\n",
       "      <td>Y</td>\n",
       "      <td>349</td>\n",
       "      <td>0</td>\n",
       "      <td>0</td>\n",
       "      <td>0</td>\n",
       "      <td>0</td>\n",
       "      <td>0</td>\n",
       "      <td>NaN</td>\n",
       "      <td>MnPrv</td>\n",
       "      <td>NaN</td>\n",
       "      <td>0</td>\n",
       "      <td>2</td>\n",
       "      <td>2010</td>\n",
       "      <td>WD</td>\n",
       "      <td>Normal</td>\n",
       "      <td>210000</td>\n",
       "    </tr>\n",
       "    <tr>\n",
       "      <th>1457</th>\n",
       "      <td>1458</td>\n",
       "      <td>70</td>\n",
       "      <td>RL</td>\n",
       "      <td>66.0</td>\n",
       "      <td>9042</td>\n",
       "      <td>Pave</td>\n",
       "      <td>NaN</td>\n",
       "      <td>Reg</td>\n",
       "      <td>Lvl</td>\n",
       "      <td>AllPub</td>\n",
       "      <td>Inside</td>\n",
       "      <td>Gtl</td>\n",
       "      <td>Crawfor</td>\n",
       "      <td>Norm</td>\n",
       "      <td>Norm</td>\n",
       "      <td>1Fam</td>\n",
       "      <td>2Story</td>\n",
       "      <td>7</td>\n",
       "      <td>9</td>\n",
       "      <td>1941</td>\n",
       "      <td>2006</td>\n",
       "      <td>Gable</td>\n",
       "      <td>CompShg</td>\n",
       "      <td>CemntBd</td>\n",
       "      <td>CmentBd</td>\n",
       "      <td>None</td>\n",
       "      <td>0.0</td>\n",
       "      <td>Ex</td>\n",
       "      <td>Gd</td>\n",
       "      <td>Stone</td>\n",
       "      <td>TA</td>\n",
       "      <td>Gd</td>\n",
       "      <td>No</td>\n",
       "      <td>GLQ</td>\n",
       "      <td>275</td>\n",
       "      <td>Unf</td>\n",
       "      <td>0</td>\n",
       "      <td>877</td>\n",
       "      <td>1152</td>\n",
       "      <td>GasA</td>\n",
       "      <td>Ex</td>\n",
       "      <td>Y</td>\n",
       "      <td>SBrkr</td>\n",
       "      <td>1188</td>\n",
       "      <td>1152</td>\n",
       "      <td>0</td>\n",
       "      <td>2340</td>\n",
       "      <td>0</td>\n",
       "      <td>0</td>\n",
       "      <td>2</td>\n",
       "      <td>0</td>\n",
       "      <td>4</td>\n",
       "      <td>1</td>\n",
       "      <td>Gd</td>\n",
       "      <td>9</td>\n",
       "      <td>Typ</td>\n",
       "      <td>2</td>\n",
       "      <td>Gd</td>\n",
       "      <td>Attchd</td>\n",
       "      <td>1941.0</td>\n",
       "      <td>RFn</td>\n",
       "      <td>1</td>\n",
       "      <td>252</td>\n",
       "      <td>TA</td>\n",
       "      <td>TA</td>\n",
       "      <td>Y</td>\n",
       "      <td>0</td>\n",
       "      <td>60</td>\n",
       "      <td>0</td>\n",
       "      <td>0</td>\n",
       "      <td>0</td>\n",
       "      <td>0</td>\n",
       "      <td>NaN</td>\n",
       "      <td>GdPrv</td>\n",
       "      <td>Shed</td>\n",
       "      <td>2500</td>\n",
       "      <td>5</td>\n",
       "      <td>2010</td>\n",
       "      <td>WD</td>\n",
       "      <td>Normal</td>\n",
       "      <td>266500</td>\n",
       "    </tr>\n",
       "    <tr>\n",
       "      <th>1458</th>\n",
       "      <td>1459</td>\n",
       "      <td>20</td>\n",
       "      <td>RL</td>\n",
       "      <td>68.0</td>\n",
       "      <td>9717</td>\n",
       "      <td>Pave</td>\n",
       "      <td>NaN</td>\n",
       "      <td>Reg</td>\n",
       "      <td>Lvl</td>\n",
       "      <td>AllPub</td>\n",
       "      <td>Inside</td>\n",
       "      <td>Gtl</td>\n",
       "      <td>NAmes</td>\n",
       "      <td>Norm</td>\n",
       "      <td>Norm</td>\n",
       "      <td>1Fam</td>\n",
       "      <td>1Story</td>\n",
       "      <td>5</td>\n",
       "      <td>6</td>\n",
       "      <td>1950</td>\n",
       "      <td>1996</td>\n",
       "      <td>Hip</td>\n",
       "      <td>CompShg</td>\n",
       "      <td>MetalSd</td>\n",
       "      <td>MetalSd</td>\n",
       "      <td>None</td>\n",
       "      <td>0.0</td>\n",
       "      <td>TA</td>\n",
       "      <td>TA</td>\n",
       "      <td>CBlock</td>\n",
       "      <td>TA</td>\n",
       "      <td>TA</td>\n",
       "      <td>Mn</td>\n",
       "      <td>GLQ</td>\n",
       "      <td>49</td>\n",
       "      <td>Rec</td>\n",
       "      <td>1029</td>\n",
       "      <td>0</td>\n",
       "      <td>1078</td>\n",
       "      <td>GasA</td>\n",
       "      <td>Gd</td>\n",
       "      <td>Y</td>\n",
       "      <td>FuseA</td>\n",
       "      <td>1078</td>\n",
       "      <td>0</td>\n",
       "      <td>0</td>\n",
       "      <td>1078</td>\n",
       "      <td>1</td>\n",
       "      <td>0</td>\n",
       "      <td>1</td>\n",
       "      <td>0</td>\n",
       "      <td>2</td>\n",
       "      <td>1</td>\n",
       "      <td>Gd</td>\n",
       "      <td>5</td>\n",
       "      <td>Typ</td>\n",
       "      <td>0</td>\n",
       "      <td>NaN</td>\n",
       "      <td>Attchd</td>\n",
       "      <td>1950.0</td>\n",
       "      <td>Unf</td>\n",
       "      <td>1</td>\n",
       "      <td>240</td>\n",
       "      <td>TA</td>\n",
       "      <td>TA</td>\n",
       "      <td>Y</td>\n",
       "      <td>366</td>\n",
       "      <td>0</td>\n",
       "      <td>112</td>\n",
       "      <td>0</td>\n",
       "      <td>0</td>\n",
       "      <td>0</td>\n",
       "      <td>NaN</td>\n",
       "      <td>NaN</td>\n",
       "      <td>NaN</td>\n",
       "      <td>0</td>\n",
       "      <td>4</td>\n",
       "      <td>2010</td>\n",
       "      <td>WD</td>\n",
       "      <td>Normal</td>\n",
       "      <td>142125</td>\n",
       "    </tr>\n",
       "    <tr>\n",
       "      <th>1459</th>\n",
       "      <td>1460</td>\n",
       "      <td>20</td>\n",
       "      <td>RL</td>\n",
       "      <td>75.0</td>\n",
       "      <td>9937</td>\n",
       "      <td>Pave</td>\n",
       "      <td>NaN</td>\n",
       "      <td>Reg</td>\n",
       "      <td>Lvl</td>\n",
       "      <td>AllPub</td>\n",
       "      <td>Inside</td>\n",
       "      <td>Gtl</td>\n",
       "      <td>Edwards</td>\n",
       "      <td>Norm</td>\n",
       "      <td>Norm</td>\n",
       "      <td>1Fam</td>\n",
       "      <td>1Story</td>\n",
       "      <td>5</td>\n",
       "      <td>6</td>\n",
       "      <td>1965</td>\n",
       "      <td>1965</td>\n",
       "      <td>Gable</td>\n",
       "      <td>CompShg</td>\n",
       "      <td>HdBoard</td>\n",
       "      <td>HdBoard</td>\n",
       "      <td>None</td>\n",
       "      <td>0.0</td>\n",
       "      <td>Gd</td>\n",
       "      <td>TA</td>\n",
       "      <td>CBlock</td>\n",
       "      <td>TA</td>\n",
       "      <td>TA</td>\n",
       "      <td>No</td>\n",
       "      <td>BLQ</td>\n",
       "      <td>830</td>\n",
       "      <td>LwQ</td>\n",
       "      <td>290</td>\n",
       "      <td>136</td>\n",
       "      <td>1256</td>\n",
       "      <td>GasA</td>\n",
       "      <td>Gd</td>\n",
       "      <td>Y</td>\n",
       "      <td>SBrkr</td>\n",
       "      <td>1256</td>\n",
       "      <td>0</td>\n",
       "      <td>0</td>\n",
       "      <td>1256</td>\n",
       "      <td>1</td>\n",
       "      <td>0</td>\n",
       "      <td>1</td>\n",
       "      <td>1</td>\n",
       "      <td>3</td>\n",
       "      <td>1</td>\n",
       "      <td>TA</td>\n",
       "      <td>6</td>\n",
       "      <td>Typ</td>\n",
       "      <td>0</td>\n",
       "      <td>NaN</td>\n",
       "      <td>Attchd</td>\n",
       "      <td>1965.0</td>\n",
       "      <td>Fin</td>\n",
       "      <td>1</td>\n",
       "      <td>276</td>\n",
       "      <td>TA</td>\n",
       "      <td>TA</td>\n",
       "      <td>Y</td>\n",
       "      <td>736</td>\n",
       "      <td>68</td>\n",
       "      <td>0</td>\n",
       "      <td>0</td>\n",
       "      <td>0</td>\n",
       "      <td>0</td>\n",
       "      <td>NaN</td>\n",
       "      <td>NaN</td>\n",
       "      <td>NaN</td>\n",
       "      <td>0</td>\n",
       "      <td>6</td>\n",
       "      <td>2008</td>\n",
       "      <td>WD</td>\n",
       "      <td>Normal</td>\n",
       "      <td>147500</td>\n",
       "    </tr>\n",
       "  </tbody>\n",
       "</table>\n",
       "<p>1460 rows × 81 columns</p>\n",
       "</div>"
      ],
      "text/plain": [
       "        Id  MSSubClass MSZoning  LotFrontage  LotArea Street Alley LotShape  \\\n",
       "0        1          60       RL         65.0     8450   Pave   NaN      Reg   \n",
       "1        2          20       RL         80.0     9600   Pave   NaN      Reg   \n",
       "2        3          60       RL         68.0    11250   Pave   NaN      IR1   \n",
       "3        4          70       RL         60.0     9550   Pave   NaN      IR1   \n",
       "4        5          60       RL         84.0    14260   Pave   NaN      IR1   \n",
       "...    ...         ...      ...          ...      ...    ...   ...      ...   \n",
       "1455  1456          60       RL         62.0     7917   Pave   NaN      Reg   \n",
       "1456  1457          20       RL         85.0    13175   Pave   NaN      Reg   \n",
       "1457  1458          70       RL         66.0     9042   Pave   NaN      Reg   \n",
       "1458  1459          20       RL         68.0     9717   Pave   NaN      Reg   \n",
       "1459  1460          20       RL         75.0     9937   Pave   NaN      Reg   \n",
       "\n",
       "     LandContour Utilities LotConfig LandSlope Neighborhood Condition1  \\\n",
       "0            Lvl    AllPub    Inside       Gtl      CollgCr       Norm   \n",
       "1            Lvl    AllPub       FR2       Gtl      Veenker      Feedr   \n",
       "2            Lvl    AllPub    Inside       Gtl      CollgCr       Norm   \n",
       "3            Lvl    AllPub    Corner       Gtl      Crawfor       Norm   \n",
       "4            Lvl    AllPub       FR2       Gtl      NoRidge       Norm   \n",
       "...          ...       ...       ...       ...          ...        ...   \n",
       "1455         Lvl    AllPub    Inside       Gtl      Gilbert       Norm   \n",
       "1456         Lvl    AllPub    Inside       Gtl       NWAmes       Norm   \n",
       "1457         Lvl    AllPub    Inside       Gtl      Crawfor       Norm   \n",
       "1458         Lvl    AllPub    Inside       Gtl        NAmes       Norm   \n",
       "1459         Lvl    AllPub    Inside       Gtl      Edwards       Norm   \n",
       "\n",
       "     Condition2 BldgType HouseStyle  OverallQual  OverallCond  YearBuilt  \\\n",
       "0          Norm     1Fam     2Story            7            5       2003   \n",
       "1          Norm     1Fam     1Story            6            8       1976   \n",
       "2          Norm     1Fam     2Story            7            5       2001   \n",
       "3          Norm     1Fam     2Story            7            5       1915   \n",
       "4          Norm     1Fam     2Story            8            5       2000   \n",
       "...         ...      ...        ...          ...          ...        ...   \n",
       "1455       Norm     1Fam     2Story            6            5       1999   \n",
       "1456       Norm     1Fam     1Story            6            6       1978   \n",
       "1457       Norm     1Fam     2Story            7            9       1941   \n",
       "1458       Norm     1Fam     1Story            5            6       1950   \n",
       "1459       Norm     1Fam     1Story            5            6       1965   \n",
       "\n",
       "      YearRemodAdd RoofStyle RoofMatl Exterior1st Exterior2nd MasVnrType  \\\n",
       "0             2003     Gable  CompShg     VinylSd     VinylSd    BrkFace   \n",
       "1             1976     Gable  CompShg     MetalSd     MetalSd       None   \n",
       "2             2002     Gable  CompShg     VinylSd     VinylSd    BrkFace   \n",
       "3             1970     Gable  CompShg     Wd Sdng     Wd Shng       None   \n",
       "4             2000     Gable  CompShg     VinylSd     VinylSd    BrkFace   \n",
       "...            ...       ...      ...         ...         ...        ...   \n",
       "1455          2000     Gable  CompShg     VinylSd     VinylSd       None   \n",
       "1456          1988     Gable  CompShg     Plywood     Plywood      Stone   \n",
       "1457          2006     Gable  CompShg     CemntBd     CmentBd       None   \n",
       "1458          1996       Hip  CompShg     MetalSd     MetalSd       None   \n",
       "1459          1965     Gable  CompShg     HdBoard     HdBoard       None   \n",
       "\n",
       "      MasVnrArea ExterQual ExterCond Foundation BsmtQual BsmtCond  \\\n",
       "0          196.0        Gd        TA      PConc       Gd       TA   \n",
       "1            0.0        TA        TA     CBlock       Gd       TA   \n",
       "2          162.0        Gd        TA      PConc       Gd       TA   \n",
       "3            0.0        TA        TA     BrkTil       TA       Gd   \n",
       "4          350.0        Gd        TA      PConc       Gd       TA   \n",
       "...          ...       ...       ...        ...      ...      ...   \n",
       "1455         0.0        TA        TA      PConc       Gd       TA   \n",
       "1456       119.0        TA        TA     CBlock       Gd       TA   \n",
       "1457         0.0        Ex        Gd      Stone       TA       Gd   \n",
       "1458         0.0        TA        TA     CBlock       TA       TA   \n",
       "1459         0.0        Gd        TA     CBlock       TA       TA   \n",
       "\n",
       "     BsmtExposure BsmtFinType1  BsmtFinSF1 BsmtFinType2  BsmtFinSF2  \\\n",
       "0              No          GLQ         706          Unf           0   \n",
       "1              Gd          ALQ         978          Unf           0   \n",
       "2              Mn          GLQ         486          Unf           0   \n",
       "3              No          ALQ         216          Unf           0   \n",
       "4              Av          GLQ         655          Unf           0   \n",
       "...           ...          ...         ...          ...         ...   \n",
       "1455           No          Unf           0          Unf           0   \n",
       "1456           No          ALQ         790          Rec         163   \n",
       "1457           No          GLQ         275          Unf           0   \n",
       "1458           Mn          GLQ          49          Rec        1029   \n",
       "1459           No          BLQ         830          LwQ         290   \n",
       "\n",
       "      BsmtUnfSF  TotalBsmtSF Heating HeatingQC CentralAir Electrical  \\\n",
       "0           150          856    GasA        Ex          Y      SBrkr   \n",
       "1           284         1262    GasA        Ex          Y      SBrkr   \n",
       "2           434          920    GasA        Ex          Y      SBrkr   \n",
       "3           540          756    GasA        Gd          Y      SBrkr   \n",
       "4           490         1145    GasA        Ex          Y      SBrkr   \n",
       "...         ...          ...     ...       ...        ...        ...   \n",
       "1455        953          953    GasA        Ex          Y      SBrkr   \n",
       "1456        589         1542    GasA        TA          Y      SBrkr   \n",
       "1457        877         1152    GasA        Ex          Y      SBrkr   \n",
       "1458          0         1078    GasA        Gd          Y      FuseA   \n",
       "1459        136         1256    GasA        Gd          Y      SBrkr   \n",
       "\n",
       "      1stFlrSF  2ndFlrSF  LowQualFinSF  GrLivArea  BsmtFullBath  BsmtHalfBath  \\\n",
       "0          856       854             0       1710             1             0   \n",
       "1         1262         0             0       1262             0             1   \n",
       "2          920       866             0       1786             1             0   \n",
       "3          961       756             0       1717             1             0   \n",
       "4         1145      1053             0       2198             1             0   \n",
       "...        ...       ...           ...        ...           ...           ...   \n",
       "1455       953       694             0       1647             0             0   \n",
       "1456      2073         0             0       2073             1             0   \n",
       "1457      1188      1152             0       2340             0             0   \n",
       "1458      1078         0             0       1078             1             0   \n",
       "1459      1256         0             0       1256             1             0   \n",
       "\n",
       "      FullBath  HalfBath  BedroomAbvGr  KitchenAbvGr KitchenQual  \\\n",
       "0            2         1             3             1          Gd   \n",
       "1            2         0             3             1          TA   \n",
       "2            2         1             3             1          Gd   \n",
       "3            1         0             3             1          Gd   \n",
       "4            2         1             4             1          Gd   \n",
       "...        ...       ...           ...           ...         ...   \n",
       "1455         2         1             3             1          TA   \n",
       "1456         2         0             3             1          TA   \n",
       "1457         2         0             4             1          Gd   \n",
       "1458         1         0             2             1          Gd   \n",
       "1459         1         1             3             1          TA   \n",
       "\n",
       "      TotRmsAbvGrd Functional  Fireplaces FireplaceQu GarageType  GarageYrBlt  \\\n",
       "0                8        Typ           0         NaN     Attchd       2003.0   \n",
       "1                6        Typ           1          TA     Attchd       1976.0   \n",
       "2                6        Typ           1          TA     Attchd       2001.0   \n",
       "3                7        Typ           1          Gd     Detchd       1998.0   \n",
       "4                9        Typ           1          TA     Attchd       2000.0   \n",
       "...            ...        ...         ...         ...        ...          ...   \n",
       "1455             7        Typ           1          TA     Attchd       1999.0   \n",
       "1456             7       Min1           2          TA     Attchd       1978.0   \n",
       "1457             9        Typ           2          Gd     Attchd       1941.0   \n",
       "1458             5        Typ           0         NaN     Attchd       1950.0   \n",
       "1459             6        Typ           0         NaN     Attchd       1965.0   \n",
       "\n",
       "     GarageFinish  GarageCars  GarageArea GarageQual GarageCond PavedDrive  \\\n",
       "0             RFn           2         548         TA         TA          Y   \n",
       "1             RFn           2         460         TA         TA          Y   \n",
       "2             RFn           2         608         TA         TA          Y   \n",
       "3             Unf           3         642         TA         TA          Y   \n",
       "4             RFn           3         836         TA         TA          Y   \n",
       "...           ...         ...         ...        ...        ...        ...   \n",
       "1455          RFn           2         460         TA         TA          Y   \n",
       "1456          Unf           2         500         TA         TA          Y   \n",
       "1457          RFn           1         252         TA         TA          Y   \n",
       "1458          Unf           1         240         TA         TA          Y   \n",
       "1459          Fin           1         276         TA         TA          Y   \n",
       "\n",
       "      WoodDeckSF  OpenPorchSF  EnclosedPorch  3SsnPorch  ScreenPorch  \\\n",
       "0              0           61              0          0            0   \n",
       "1            298            0              0          0            0   \n",
       "2              0           42              0          0            0   \n",
       "3              0           35            272          0            0   \n",
       "4            192           84              0          0            0   \n",
       "...          ...          ...            ...        ...          ...   \n",
       "1455           0           40              0          0            0   \n",
       "1456         349            0              0          0            0   \n",
       "1457           0           60              0          0            0   \n",
       "1458         366            0            112          0            0   \n",
       "1459         736           68              0          0            0   \n",
       "\n",
       "      PoolArea PoolQC  Fence MiscFeature  MiscVal  MoSold  YrSold SaleType  \\\n",
       "0            0    NaN    NaN         NaN        0       2    2008       WD   \n",
       "1            0    NaN    NaN         NaN        0       5    2007       WD   \n",
       "2            0    NaN    NaN         NaN        0       9    2008       WD   \n",
       "3            0    NaN    NaN         NaN        0       2    2006       WD   \n",
       "4            0    NaN    NaN         NaN        0      12    2008       WD   \n",
       "...        ...    ...    ...         ...      ...     ...     ...      ...   \n",
       "1455         0    NaN    NaN         NaN        0       8    2007       WD   \n",
       "1456         0    NaN  MnPrv         NaN        0       2    2010       WD   \n",
       "1457         0    NaN  GdPrv        Shed     2500       5    2010       WD   \n",
       "1458         0    NaN    NaN         NaN        0       4    2010       WD   \n",
       "1459         0    NaN    NaN         NaN        0       6    2008       WD   \n",
       "\n",
       "     SaleCondition  SalePrice  \n",
       "0           Normal     208500  \n",
       "1           Normal     181500  \n",
       "2           Normal     223500  \n",
       "3          Abnorml     140000  \n",
       "4           Normal     250000  \n",
       "...            ...        ...  \n",
       "1455        Normal     175000  \n",
       "1456        Normal     210000  \n",
       "1457        Normal     266500  \n",
       "1458        Normal     142125  \n",
       "1459        Normal     147500  \n",
       "\n",
       "[1460 rows x 81 columns]"
      ]
     },
     "execution_count": 3,
     "metadata": {},
     "output_type": "execute_result"
    }
   ],
   "source": [
    "df=pd.read_csv('C:\\\\Users\\\\Pallavi_P\\\\Desktop\\\\WD_Python\\\\HousePrices.csv')\n",
    "pd.set_option('display.max_columns()',None)\n",
    "df"
   ]
  },
  {
   "cell_type": "code",
   "execution_count": 4,
   "id": "dddad98a",
   "metadata": {},
   "outputs": [
    {
     "name": "stdout",
     "output_type": "stream",
     "text": [
      "<class 'pandas.core.frame.DataFrame'>\n",
      "RangeIndex: 1460 entries, 0 to 1459\n",
      "Data columns (total 81 columns):\n",
      " #   Column         Non-Null Count  Dtype  \n",
      "---  ------         --------------  -----  \n",
      " 0   Id             1460 non-null   int64  \n",
      " 1   MSSubClass     1460 non-null   int64  \n",
      " 2   MSZoning       1460 non-null   object \n",
      " 3   LotFrontage    1201 non-null   float64\n",
      " 4   LotArea        1460 non-null   int64  \n",
      " 5   Street         1460 non-null   object \n",
      " 6   Alley          91 non-null     object \n",
      " 7   LotShape       1460 non-null   object \n",
      " 8   LandContour    1460 non-null   object \n",
      " 9   Utilities      1460 non-null   object \n",
      " 10  LotConfig      1460 non-null   object \n",
      " 11  LandSlope      1460 non-null   object \n",
      " 12  Neighborhood   1460 non-null   object \n",
      " 13  Condition1     1460 non-null   object \n",
      " 14  Condition2     1460 non-null   object \n",
      " 15  BldgType       1460 non-null   object \n",
      " 16  HouseStyle     1460 non-null   object \n",
      " 17  OverallQual    1460 non-null   int64  \n",
      " 18  OverallCond    1460 non-null   int64  \n",
      " 19  YearBuilt      1460 non-null   int64  \n",
      " 20  YearRemodAdd   1460 non-null   int64  \n",
      " 21  RoofStyle      1460 non-null   object \n",
      " 22  RoofMatl       1460 non-null   object \n",
      " 23  Exterior1st    1460 non-null   object \n",
      " 24  Exterior2nd    1460 non-null   object \n",
      " 25  MasVnrType     1452 non-null   object \n",
      " 26  MasVnrArea     1452 non-null   float64\n",
      " 27  ExterQual      1460 non-null   object \n",
      " 28  ExterCond      1460 non-null   object \n",
      " 29  Foundation     1460 non-null   object \n",
      " 30  BsmtQual       1423 non-null   object \n",
      " 31  BsmtCond       1423 non-null   object \n",
      " 32  BsmtExposure   1422 non-null   object \n",
      " 33  BsmtFinType1   1423 non-null   object \n",
      " 34  BsmtFinSF1     1460 non-null   int64  \n",
      " 35  BsmtFinType2   1422 non-null   object \n",
      " 36  BsmtFinSF2     1460 non-null   int64  \n",
      " 37  BsmtUnfSF      1460 non-null   int64  \n",
      " 38  TotalBsmtSF    1460 non-null   int64  \n",
      " 39  Heating        1460 non-null   object \n",
      " 40  HeatingQC      1460 non-null   object \n",
      " 41  CentralAir     1460 non-null   object \n",
      " 42  Electrical     1459 non-null   object \n",
      " 43  1stFlrSF       1460 non-null   int64  \n",
      " 44  2ndFlrSF       1460 non-null   int64  \n",
      " 45  LowQualFinSF   1460 non-null   int64  \n",
      " 46  GrLivArea      1460 non-null   int64  \n",
      " 47  BsmtFullBath   1460 non-null   int64  \n",
      " 48  BsmtHalfBath   1460 non-null   int64  \n",
      " 49  FullBath       1460 non-null   int64  \n",
      " 50  HalfBath       1460 non-null   int64  \n",
      " 51  BedroomAbvGr   1460 non-null   int64  \n",
      " 52  KitchenAbvGr   1460 non-null   int64  \n",
      " 53  KitchenQual    1460 non-null   object \n",
      " 54  TotRmsAbvGrd   1460 non-null   int64  \n",
      " 55  Functional     1460 non-null   object \n",
      " 56  Fireplaces     1460 non-null   int64  \n",
      " 57  FireplaceQu    770 non-null    object \n",
      " 58  GarageType     1379 non-null   object \n",
      " 59  GarageYrBlt    1379 non-null   float64\n",
      " 60  GarageFinish   1379 non-null   object \n",
      " 61  GarageCars     1460 non-null   int64  \n",
      " 62  GarageArea     1460 non-null   int64  \n",
      " 63  GarageQual     1379 non-null   object \n",
      " 64  GarageCond     1379 non-null   object \n",
      " 65  PavedDrive     1460 non-null   object \n",
      " 66  WoodDeckSF     1460 non-null   int64  \n",
      " 67  OpenPorchSF    1460 non-null   int64  \n",
      " 68  EnclosedPorch  1460 non-null   int64  \n",
      " 69  3SsnPorch      1460 non-null   int64  \n",
      " 70  ScreenPorch    1460 non-null   int64  \n",
      " 71  PoolArea       1460 non-null   int64  \n",
      " 72  PoolQC         7 non-null      object \n",
      " 73  Fence          281 non-null    object \n",
      " 74  MiscFeature    54 non-null     object \n",
      " 75  MiscVal        1460 non-null   int64  \n",
      " 76  MoSold         1460 non-null   int64  \n",
      " 77  YrSold         1460 non-null   int64  \n",
      " 78  SaleType       1460 non-null   object \n",
      " 79  SaleCondition  1460 non-null   object \n",
      " 80  SalePrice      1460 non-null   int64  \n",
      "dtypes: float64(3), int64(35), object(43)\n",
      "memory usage: 924.0+ KB\n"
     ]
    }
   ],
   "source": [
    "df.info()"
   ]
  },
  {
   "cell_type": "code",
   "execution_count": 5,
   "id": "ae860d5f",
   "metadata": {},
   "outputs": [],
   "source": [
    "features_with_na=[i for i in df.columns if df[i].isnull().sum()>1]"
   ]
  },
  {
   "cell_type": "code",
   "execution_count": 6,
   "id": "699c805a",
   "metadata": {},
   "outputs": [
    {
     "name": "stdout",
     "output_type": "stream",
     "text": [
      "LotFrontage 0.1774  % missing values\n",
      "Alley 0.9377  % missing values\n",
      "MasVnrType 0.0055  % missing values\n",
      "MasVnrArea 0.0055  % missing values\n",
      "BsmtQual 0.0253  % missing values\n",
      "BsmtCond 0.0253  % missing values\n",
      "BsmtExposure 0.026  % missing values\n",
      "BsmtFinType1 0.0253  % missing values\n",
      "BsmtFinType2 0.026  % missing values\n",
      "FireplaceQu 0.4726  % missing values\n",
      "GarageType 0.0555  % missing values\n",
      "GarageYrBlt 0.0555  % missing values\n",
      "GarageFinish 0.0555  % missing values\n",
      "GarageQual 0.0555  % missing values\n",
      "GarageCond 0.0555  % missing values\n",
      "PoolQC 0.9952  % missing values\n",
      "Fence 0.8075  % missing values\n",
      "MiscFeature 0.963  % missing values\n"
     ]
    }
   ],
   "source": [
    "for i in features_with_na:\n",
    "    print(i, np.round(df[i].isnull().mean(), 4),  ' % missing values')"
   ]
  },
  {
   "cell_type": "code",
   "execution_count": 7,
   "id": "8c0251fd",
   "metadata": {},
   "outputs": [],
   "source": [
    "#Dropping columns with more than 80% of missing values\n",
    "df.drop(['Id','Alley','PoolQC','Fence','MiscFeature'],axis=1,inplace=True)      "
   ]
  },
  {
   "cell_type": "code",
   "execution_count": 8,
   "id": "79bf3859",
   "metadata": {},
   "outputs": [
    {
     "name": "stdout",
     "output_type": "stream",
     "text": [
      "Number of numerical variables:  37\n"
     ]
    }
   ],
   "source": [
    "numerical_features = [i for i in df.columns if df[i].dtypes != 'O']\n",
    "print('Number of numerical variables: ', len(numerical_features))"
   ]
  },
  {
   "cell_type": "code",
   "execution_count": 9,
   "id": "eca60b43",
   "metadata": {},
   "outputs": [
    {
     "data": {
      "text/plain": [
       "['YearBuilt', 'YearRemodAdd', 'GarageYrBlt', 'YrSold']"
      ]
     },
     "execution_count": 9,
     "metadata": {},
     "output_type": "execute_result"
    }
   ],
   "source": [
    "year_feature = [i for i in numerical_features if 'Yr' in i or 'Year' in i]\n",
    "\n",
    "year_feature"
   ]
  },
  {
   "cell_type": "code",
   "execution_count": 10,
   "id": "e9fc537e",
   "metadata": {},
   "outputs": [
    {
     "name": "stdout",
     "output_type": "stream",
     "text": [
      "num_categorical_feature Count: 17\n"
     ]
    },
    {
     "data": {
      "text/plain": [
       "['MSSubClass',\n",
       " 'OverallQual',\n",
       " 'OverallCond',\n",
       " 'LowQualFinSF',\n",
       " 'BsmtFullBath',\n",
       " 'BsmtHalfBath',\n",
       " 'FullBath',\n",
       " 'HalfBath',\n",
       " 'BedroomAbvGr',\n",
       " 'KitchenAbvGr',\n",
       " 'TotRmsAbvGrd',\n",
       " 'Fireplaces',\n",
       " 'GarageCars',\n",
       " '3SsnPorch',\n",
       " 'PoolArea',\n",
       " 'MiscVal',\n",
       " 'MoSold']"
      ]
     },
     "execution_count": 10,
     "metadata": {},
     "output_type": "execute_result"
    }
   ],
   "source": [
    "num_categorical_feature=[i for i in numerical_features if len(df[i].unique())<25 and i not in year_feature+['Id']]\n",
    "print(\"num_categorical_feature Count: {}\".format(len(num_categorical_feature)))\n",
    "num_categorical_feature"
   ]
  },
  {
   "cell_type": "code",
   "execution_count": 11,
   "id": "7a6a3133",
   "metadata": {},
   "outputs": [
    {
     "name": "stdout",
     "output_type": "stream",
     "text": [
      "num_continuous_feature Count 16\n"
     ]
    },
    {
     "data": {
      "text/plain": [
       "['LotFrontage',\n",
       " 'LotArea',\n",
       " 'MasVnrArea',\n",
       " 'BsmtFinSF1',\n",
       " 'BsmtFinSF2',\n",
       " 'BsmtUnfSF',\n",
       " 'TotalBsmtSF',\n",
       " '1stFlrSF',\n",
       " '2ndFlrSF',\n",
       " 'GrLivArea',\n",
       " 'GarageArea',\n",
       " 'WoodDeckSF',\n",
       " 'OpenPorchSF',\n",
       " 'EnclosedPorch',\n",
       " 'ScreenPorch',\n",
       " 'SalePrice']"
      ]
     },
     "execution_count": 11,
     "metadata": {},
     "output_type": "execute_result"
    }
   ],
   "source": [
    "num_continuous_feature=[i for i in numerical_features if i not in num_categorical_feature+year_feature+['Id']]\n",
    "print(\"num_continuous_feature Count {}\".format(len(num_continuous_feature)))\n",
    "num_continuous_feature"
   ]
  },
  {
   "cell_type": "code",
   "execution_count": 12,
   "id": "06bf1498",
   "metadata": {},
   "outputs": [
    {
     "name": "stdout",
     "output_type": "stream",
     "text": [
      "categorical_features 39\n"
     ]
    },
    {
     "data": {
      "text/plain": [
       "['MSZoning',\n",
       " 'Street',\n",
       " 'LotShape',\n",
       " 'LandContour',\n",
       " 'Utilities',\n",
       " 'LotConfig',\n",
       " 'LandSlope',\n",
       " 'Neighborhood',\n",
       " 'Condition1',\n",
       " 'Condition2',\n",
       " 'BldgType',\n",
       " 'HouseStyle',\n",
       " 'RoofStyle',\n",
       " 'RoofMatl',\n",
       " 'Exterior1st',\n",
       " 'Exterior2nd',\n",
       " 'MasVnrType',\n",
       " 'ExterQual',\n",
       " 'ExterCond',\n",
       " 'Foundation',\n",
       " 'BsmtQual',\n",
       " 'BsmtCond',\n",
       " 'BsmtExposure',\n",
       " 'BsmtFinType1',\n",
       " 'BsmtFinType2',\n",
       " 'Heating',\n",
       " 'HeatingQC',\n",
       " 'CentralAir',\n",
       " 'Electrical',\n",
       " 'KitchenQual',\n",
       " 'Functional',\n",
       " 'FireplaceQu',\n",
       " 'GarageType',\n",
       " 'GarageFinish',\n",
       " 'GarageQual',\n",
       " 'GarageCond',\n",
       " 'PavedDrive',\n",
       " 'SaleType',\n",
       " 'SaleCondition']"
      ]
     },
     "execution_count": 12,
     "metadata": {},
     "output_type": "execute_result"
    }
   ],
   "source": [
    "categorical_features=[i for i in df.columns if df[i].dtypes=='O']\n",
    "print(\"categorical_features {}\".format(len(categorical_features)))\n",
    "categorical_features"
   ]
  },
  {
   "cell_type": "code",
   "execution_count": 13,
   "id": "67812d4c",
   "metadata": {},
   "outputs": [],
   "source": [
    "values = {\n",
    "    \"Electrical\":\"SBrkr\",\n",
    "    \"Street\":\"Pave\",\n",
    "    \"MSZoning\":\"RL\",\n",
    "    \"FireplaceQu\": \"Gd\",\n",
    "    \"GarageCond\": \"TA\",\n",
    "    \"GarageType\": \"Attchd\",                #filled with mode values\n",
    "    \"GarageFinish\": \"Unf\",\n",
    "    \"GarageQual\": \"TA\",\n",
    "    \"BsmtExposure\": \"No\",\n",
    "    \"BsmtFinType2\": \"Unf\",\n",
    "    \"BsmtFinType1\": \"Unf\",\n",
    "    \"BsmtCond\": \"TA\",\n",
    "    \"BsmtQual\": \"TA\",\n",
    "    \"MasVnrType\": \"None\",\n",
    "}\n",
    "\n",
    "df.fillna(value=values, inplace=True)"
   ]
  },
  {
   "cell_type": "code",
   "execution_count": 14,
   "id": "f4dd4f70",
   "metadata": {},
   "outputs": [
    {
     "name": "stdout",
     "output_type": "stream",
     "text": [
      "<class 'pandas.core.frame.DataFrame'>\n",
      "RangeIndex: 1460 entries, 0 to 1459\n",
      "Data columns (total 76 columns):\n",
      " #   Column         Non-Null Count  Dtype  \n",
      "---  ------         --------------  -----  \n",
      " 0   MSSubClass     1460 non-null   int64  \n",
      " 1   MSZoning       1460 non-null   object \n",
      " 2   LotFrontage    1201 non-null   float64\n",
      " 3   LotArea        1460 non-null   int64  \n",
      " 4   Street         1460 non-null   object \n",
      " 5   LotShape       1460 non-null   object \n",
      " 6   LandContour    1460 non-null   object \n",
      " 7   Utilities      1460 non-null   object \n",
      " 8   LotConfig      1460 non-null   object \n",
      " 9   LandSlope      1460 non-null   object \n",
      " 10  Neighborhood   1460 non-null   object \n",
      " 11  Condition1     1460 non-null   object \n",
      " 12  Condition2     1460 non-null   object \n",
      " 13  BldgType       1460 non-null   object \n",
      " 14  HouseStyle     1460 non-null   object \n",
      " 15  OverallQual    1460 non-null   int64  \n",
      " 16  OverallCond    1460 non-null   int64  \n",
      " 17  YearBuilt      1460 non-null   int64  \n",
      " 18  YearRemodAdd   1460 non-null   int64  \n",
      " 19  RoofStyle      1460 non-null   object \n",
      " 20  RoofMatl       1460 non-null   object \n",
      " 21  Exterior1st    1460 non-null   object \n",
      " 22  Exterior2nd    1460 non-null   object \n",
      " 23  MasVnrType     1460 non-null   object \n",
      " 24  MasVnrArea     1452 non-null   float64\n",
      " 25  ExterQual      1460 non-null   object \n",
      " 26  ExterCond      1460 non-null   object \n",
      " 27  Foundation     1460 non-null   object \n",
      " 28  BsmtQual       1460 non-null   object \n",
      " 29  BsmtCond       1460 non-null   object \n",
      " 30  BsmtExposure   1460 non-null   object \n",
      " 31  BsmtFinType1   1460 non-null   object \n",
      " 32  BsmtFinSF1     1460 non-null   int64  \n",
      " 33  BsmtFinType2   1460 non-null   object \n",
      " 34  BsmtFinSF2     1460 non-null   int64  \n",
      " 35  BsmtUnfSF      1460 non-null   int64  \n",
      " 36  TotalBsmtSF    1460 non-null   int64  \n",
      " 37  Heating        1460 non-null   object \n",
      " 38  HeatingQC      1460 non-null   object \n",
      " 39  CentralAir     1460 non-null   object \n",
      " 40  Electrical     1460 non-null   object \n",
      " 41  1stFlrSF       1460 non-null   int64  \n",
      " 42  2ndFlrSF       1460 non-null   int64  \n",
      " 43  LowQualFinSF   1460 non-null   int64  \n",
      " 44  GrLivArea      1460 non-null   int64  \n",
      " 45  BsmtFullBath   1460 non-null   int64  \n",
      " 46  BsmtHalfBath   1460 non-null   int64  \n",
      " 47  FullBath       1460 non-null   int64  \n",
      " 48  HalfBath       1460 non-null   int64  \n",
      " 49  BedroomAbvGr   1460 non-null   int64  \n",
      " 50  KitchenAbvGr   1460 non-null   int64  \n",
      " 51  KitchenQual    1460 non-null   object \n",
      " 52  TotRmsAbvGrd   1460 non-null   int64  \n",
      " 53  Functional     1460 non-null   object \n",
      " 54  Fireplaces     1460 non-null   int64  \n",
      " 55  FireplaceQu    1460 non-null   object \n",
      " 56  GarageType     1460 non-null   object \n",
      " 57  GarageYrBlt    1379 non-null   float64\n",
      " 58  GarageFinish   1460 non-null   object \n",
      " 59  GarageCars     1460 non-null   int64  \n",
      " 60  GarageArea     1460 non-null   int64  \n",
      " 61  GarageQual     1460 non-null   object \n",
      " 62  GarageCond     1460 non-null   object \n",
      " 63  PavedDrive     1460 non-null   object \n",
      " 64  WoodDeckSF     1460 non-null   int64  \n",
      " 65  OpenPorchSF    1460 non-null   int64  \n",
      " 66  EnclosedPorch  1460 non-null   int64  \n",
      " 67  3SsnPorch      1460 non-null   int64  \n",
      " 68  ScreenPorch    1460 non-null   int64  \n",
      " 69  PoolArea       1460 non-null   int64  \n",
      " 70  MiscVal        1460 non-null   int64  \n",
      " 71  MoSold         1460 non-null   int64  \n",
      " 72  YrSold         1460 non-null   int64  \n",
      " 73  SaleType       1460 non-null   object \n",
      " 74  SaleCondition  1460 non-null   object \n",
      " 75  SalePrice      1460 non-null   int64  \n",
      "dtypes: float64(3), int64(34), object(39)\n",
      "memory usage: 867.0+ KB\n"
     ]
    }
   ],
   "source": [
    "df.info()"
   ]
  },
  {
   "cell_type": "code",
   "execution_count": 15,
   "id": "ad918ee8",
   "metadata": {},
   "outputs": [],
   "source": [
    " #filled with median values(continous data,skwed)\n",
    "\n",
    "df['MasVnrArea'].fillna(df['MasVnrArea'].median(),inplace=True) "
   ]
  },
  {
   "cell_type": "code",
   "execution_count": 16,
   "id": "d004b7e8",
   "metadata": {},
   "outputs": [],
   "source": [
    "#filled with median values(continous data,skwed)\n",
    "\n",
    "df['LotFrontage'].fillna(df['LotFrontage'].median(),inplace=True)  "
   ]
  },
  {
   "cell_type": "code",
   "execution_count": 17,
   "id": "ff59a316",
   "metadata": {},
   "outputs": [
    {
     "ename": "TypeError",
     "evalue": "You cannot set both the how and thresh arguments at the same time.",
     "output_type": "error",
     "traceback": [
      "\u001b[1;31m---------------------------------------------------------------------------\u001b[0m",
      "\u001b[1;31mTypeError\u001b[0m                                 Traceback (most recent call last)",
      "Cell \u001b[1;32mIn[17], line 3\u001b[0m\n\u001b[0;32m      1\u001b[0m \u001b[38;5;66;03m#removed missing values 'GarageYrBlt' becoz it contained only #5% of missing values\u001b[39;00m\n\u001b[1;32m----> 3\u001b[0m \u001b[43mdf\u001b[49m\u001b[38;5;241;43m.\u001b[39;49m\u001b[43mdropna\u001b[49m\u001b[43m(\u001b[49m\u001b[43maxis\u001b[49m\u001b[38;5;241;43m=\u001b[39;49m\u001b[38;5;241;43m0\u001b[39;49m\u001b[43m,\u001b[49m\u001b[43m \u001b[49m\u001b[43mhow\u001b[49m\u001b[38;5;241;43m=\u001b[39;49m\u001b[38;5;124;43m'\u001b[39;49m\u001b[38;5;124;43many\u001b[39;49m\u001b[38;5;124;43m'\u001b[39;49m\u001b[43m,\u001b[49m\u001b[43m \u001b[49m\u001b[43mthresh\u001b[49m\u001b[38;5;241;43m=\u001b[39;49m\u001b[38;5;28;43;01mNone\u001b[39;49;00m\u001b[43m,\u001b[49m\u001b[43m \u001b[49m\u001b[43msubset\u001b[49m\u001b[38;5;241;43m=\u001b[39;49m\u001b[38;5;28;43;01mNone\u001b[39;49;00m\u001b[43m,\u001b[49m\u001b[43m \u001b[49m\u001b[43minplace\u001b[49m\u001b[38;5;241;43m=\u001b[39;49m\u001b[38;5;28;43;01mTrue\u001b[39;49;00m\u001b[43m)\u001b[49m\n",
      "File \u001b[1;32mC:\\ProgramData\\anaconda3\\lib\\site-packages\\pandas\\util\\_decorators.py:331\u001b[0m, in \u001b[0;36mdeprecate_nonkeyword_arguments.<locals>.decorate.<locals>.wrapper\u001b[1;34m(*args, **kwargs)\u001b[0m\n\u001b[0;32m    325\u001b[0m \u001b[38;5;28;01mif\u001b[39;00m \u001b[38;5;28mlen\u001b[39m(args) \u001b[38;5;241m>\u001b[39m num_allow_args:\n\u001b[0;32m    326\u001b[0m     warnings\u001b[38;5;241m.\u001b[39mwarn(\n\u001b[0;32m    327\u001b[0m         msg\u001b[38;5;241m.\u001b[39mformat(arguments\u001b[38;5;241m=\u001b[39m_format_argument_list(allow_args)),\n\u001b[0;32m    328\u001b[0m         \u001b[38;5;167;01mFutureWarning\u001b[39;00m,\n\u001b[0;32m    329\u001b[0m         stacklevel\u001b[38;5;241m=\u001b[39mfind_stack_level(),\n\u001b[0;32m    330\u001b[0m     )\n\u001b[1;32m--> 331\u001b[0m \u001b[38;5;28;01mreturn\u001b[39;00m func(\u001b[38;5;241m*\u001b[39margs, \u001b[38;5;241m*\u001b[39m\u001b[38;5;241m*\u001b[39mkwargs)\n",
      "File \u001b[1;32mC:\\ProgramData\\anaconda3\\lib\\site-packages\\pandas\\core\\frame.py:6537\u001b[0m, in \u001b[0;36mDataFrame.dropna\u001b[1;34m(self, axis, how, thresh, subset, inplace)\u001b[0m\n\u001b[0;32m   6433\u001b[0m \u001b[38;5;124;03m\"\"\"\u001b[39;00m\n\u001b[0;32m   6434\u001b[0m \u001b[38;5;124;03mRemove missing values.\u001b[39;00m\n\u001b[0;32m   6435\u001b[0m \n\u001b[1;32m   (...)\u001b[0m\n\u001b[0;32m   6534\u001b[0m \u001b[38;5;124;03m1  Batman  Batmobile 1940-04-25\u001b[39;00m\n\u001b[0;32m   6535\u001b[0m \u001b[38;5;124;03m\"\"\"\u001b[39;00m\n\u001b[0;32m   6536\u001b[0m \u001b[38;5;28;01mif\u001b[39;00m (how \u001b[38;5;129;01mis\u001b[39;00m \u001b[38;5;129;01mnot\u001b[39;00m no_default) \u001b[38;5;129;01mand\u001b[39;00m (thresh \u001b[38;5;129;01mis\u001b[39;00m \u001b[38;5;129;01mnot\u001b[39;00m no_default):\n\u001b[1;32m-> 6537\u001b[0m     \u001b[38;5;28;01mraise\u001b[39;00m \u001b[38;5;167;01mTypeError\u001b[39;00m(\n\u001b[0;32m   6538\u001b[0m         \u001b[38;5;124m\"\u001b[39m\u001b[38;5;124mYou cannot set both the how and thresh arguments at the same time.\u001b[39m\u001b[38;5;124m\"\u001b[39m\n\u001b[0;32m   6539\u001b[0m     )\n\u001b[0;32m   6541\u001b[0m \u001b[38;5;28;01mif\u001b[39;00m how \u001b[38;5;129;01mis\u001b[39;00m no_default:\n\u001b[0;32m   6542\u001b[0m     how \u001b[38;5;241m=\u001b[39m \u001b[38;5;124m\"\u001b[39m\u001b[38;5;124many\u001b[39m\u001b[38;5;124m\"\u001b[39m\n",
      "\u001b[1;31mTypeError\u001b[0m: You cannot set both the how and thresh arguments at the same time."
     ]
    }
   ],
   "source": [
    "#removed missing values 'GarageYrBlt' becoz it contained only #5% of missing values\n",
    "\n",
    "df.dropna(axis=0, how='any', thresh=None, subset=None, inplace=True)  "
   ]
  },
  {
   "cell_type": "code",
   "execution_count": null,
   "id": "b2d10396",
   "metadata": {},
   "outputs": [],
   "source": [
    "#after filling missing values and removing certian missing values we are left with 1379 rows\n",
    "df.info()"
   ]
  },
  {
   "cell_type": "markdown",
   "id": "761ec836",
   "metadata": {},
   "source": [
    "NUMERICAL CONTINOUS DATA"
   ]
  },
  {
   "cell_type": "code",
   "execution_count": null,
   "id": "ad512965",
   "metadata": {},
   "outputs": [],
   "source": [
    "num_continuous_feature"
   ]
  },
  {
   "cell_type": "markdown",
   "id": "8c77729a",
   "metadata": {},
   "source": [
    "#checking for Outliers and capping them"
   ]
  },
  {
   "cell_type": "markdown",
   "id": "c8edcc20",
   "metadata": {},
   "source": [
    "LotFrontage"
   ]
  },
  {
   "cell_type": "code",
   "execution_count": null,
   "id": "70f2d577",
   "metadata": {},
   "outputs": [],
   "source": [
    "sns.set()\n",
    "plt.figure(figsize=(6,6))\n",
    "sns.distplot(df['LotFrontage'])\n",
    "plt.show"
   ]
  },
  {
   "cell_type": "code",
   "execution_count": null,
   "id": "4647d5ce",
   "metadata": {},
   "outputs": [],
   "source": [
    "LotFrontage=df['LotFrontage']\n",
    "props2= dict(boxes='red',whiskers='black',medians='blue',caps='green')\n",
    "LotFrontage.plot.box(color=props2,patch_artist=True,vert=True)"
   ]
  },
  {
   "cell_type": "code",
   "execution_count": null,
   "id": "71317cad",
   "metadata": {},
   "outputs": [],
   "source": [
    "def find_boundaries(df,feature):\n",
    "    Q1=df[feature].quantile(.25)\n",
    "    Q3=df[feature].quantile(.75)\n",
    "    IQR=Q3-Q1\n",
    "    lower_boundary=Q1-1.5*IQR\n",
    "    upper_boundary=Q3+1.5*IQR\n",
    "    \n",
    "    return lower_boundary,upper_boundary"
   ]
  },
  {
   "cell_type": "code",
   "execution_count": null,
   "id": "be0cd658",
   "metadata": {},
   "outputs": [],
   "source": [
    "def find_outliers_IQR(df):\n",
    "\n",
    "   q1=df.quantile(0.25)\n",
    "\n",
    "   q3=df.quantile(0.75)\n",
    "\n",
    "   IQR=q3-q1\n",
    "\n",
    "   outliers = df[((df<(q1-1.5*IQR)) | (df>(q3+1.5*IQR)))]\n",
    "\n",
    "   return outliers"
   ]
  },
  {
   "cell_type": "code",
   "execution_count": null,
   "id": "8d03b0ee",
   "metadata": {},
   "outputs": [],
   "source": [
    "outliers = find_outliers_IQR(df['LotFrontage'])\n",
    "print('number of outliers: '+ str(len(outliers)))\n",
    "(len(outliers))/(len('LotFrontage'))"
   ]
  },
  {
   "cell_type": "code",
   "execution_count": null,
   "id": "bea17f3e",
   "metadata": {},
   "outputs": [],
   "source": [
    "lower_LotFrontage,upper_LotFrontage=find_boundaries(df,'LotFrontage')\n",
    "print(lower_LotFrontage,upper_LotFrontage)"
   ]
  },
  {
   "cell_type": "code",
   "execution_count": null,
   "id": "d95fb648",
   "metadata": {},
   "outputs": [],
   "source": [
    "df['LotFrontage']=np.where(df['LotFrontage']>upper_LotFrontage,upper_LotFrontage,\n",
    "                         np.where(df['LotFrontage']<lower_LotFrontage,lower_LotFrontage,df['LotFrontage']))"
   ]
  },
  {
   "cell_type": "code",
   "execution_count": null,
   "id": "24fa9a0a",
   "metadata": {},
   "outputs": [],
   "source": [
    "sns.set()\n",
    "plt.figure(figsize=(6,6))\n",
    "sns.distplot(df['LotFrontage'])\n",
    "plt.show"
   ]
  },
  {
   "cell_type": "code",
   "execution_count": null,
   "id": "e037ba33",
   "metadata": {},
   "outputs": [],
   "source": [
    "LotFrontage=df['LotFrontage']\n",
    "props2= dict(boxes='red',whiskers='black',medians='blue',caps='green')\n",
    "LotFrontage.plot.box(color=props2,patch_artist=True,vert=True)"
   ]
  },
  {
   "cell_type": "markdown",
   "id": "15768c7f",
   "metadata": {},
   "source": [
    "LotArea"
   ]
  },
  {
   "cell_type": "code",
   "execution_count": null,
   "id": "cde56344",
   "metadata": {},
   "outputs": [],
   "source": [
    "sns.set()\n",
    "plt.figure(figsize=(6,6))\n",
    "sns.distplot(df['LotArea'])\n",
    "plt.show"
   ]
  },
  {
   "cell_type": "code",
   "execution_count": null,
   "id": "35818c6d",
   "metadata": {},
   "outputs": [],
   "source": [
    "LotArea=df['LotArea']\n",
    "props2= dict(boxes='red',whiskers='black',medians='blue',caps='green')\n",
    "LotArea.plot.box(color=props2,patch_artist=True,vert=True)"
   ]
  },
  {
   "cell_type": "code",
   "execution_count": null,
   "id": "0948c7f7",
   "metadata": {},
   "outputs": [],
   "source": [
    "outliers = find_outliers_IQR(df['LotArea'])\n",
    "print('number of outliers: '+ str(len(outliers)))\n",
    "(len(outliers))/(len('LotArea'))"
   ]
  },
  {
   "cell_type": "code",
   "execution_count": null,
   "id": "40b47ddd",
   "metadata": {},
   "outputs": [],
   "source": [
    "lower_LotArea,upper_LotArea=find_boundaries(df,'LotArea')\n",
    "print(lower_LotArea,upper_LotArea)"
   ]
  },
  {
   "cell_type": "code",
   "execution_count": null,
   "id": "be5ada6f",
   "metadata": {},
   "outputs": [],
   "source": [
    "df['LotArea']=np.where(df['LotArea']>upper_LotArea,upper_LotArea,\n",
    "                         np.where(df['LotArea']<lower_LotArea,lower_LotArea,df['LotArea']))"
   ]
  },
  {
   "cell_type": "code",
   "execution_count": null,
   "id": "8b65bc24",
   "metadata": {},
   "outputs": [],
   "source": [
    "sns.set()\n",
    "plt.figure(figsize=(6,6))\n",
    "sns.distplot(df['LotArea'])\n",
    "plt.show"
   ]
  },
  {
   "cell_type": "code",
   "execution_count": null,
   "id": "ed2f73aa",
   "metadata": {},
   "outputs": [],
   "source": [
    "LotArea=df['LotArea']\n",
    "props2= dict(boxes='red',whiskers='black',medians='blue',caps='green')\n",
    "LotArea.plot.box(color=props2,patch_artist=True,vert=True)"
   ]
  },
  {
   "cell_type": "markdown",
   "id": "e7f58e23",
   "metadata": {},
   "source": [
    "BsmtFinSF1"
   ]
  },
  {
   "cell_type": "code",
   "execution_count": null,
   "id": "c8693756",
   "metadata": {},
   "outputs": [],
   "source": [
    "sns.set()\n",
    "plt.figure(figsize=(6,6))\n",
    "sns.distplot(df['BsmtFinSF1'])\n",
    "plt.show"
   ]
  },
  {
   "cell_type": "code",
   "execution_count": null,
   "id": "a9216730",
   "metadata": {},
   "outputs": [],
   "source": [
    "BsmtFinSF1=df['BsmtFinSF1']\n",
    "props2= dict(boxes='red',whiskers='black',medians='blue',caps='green')\n",
    "BsmtFinSF1.plot.box(color=props2,patch_artist=True,vert=True)"
   ]
  },
  {
   "cell_type": "code",
   "execution_count": null,
   "id": "a6af1650",
   "metadata": {},
   "outputs": [],
   "source": [
    "outliers = find_outliers_IQR(df['BsmtFinSF1'])\n",
    "print('number of outliers: '+ str(len(outliers)))\n",
    "(len(outliers))/(len('BsmtFinSF1'))"
   ]
  },
  {
   "cell_type": "code",
   "execution_count": null,
   "id": "d3440719",
   "metadata": {},
   "outputs": [],
   "source": [
    "lower_BsmtFinSF1,upper_BsmtFinSF1=find_boundaries(df,'BsmtFinSF1')\n",
    "print(lower_BsmtFinSF1,upper_BsmtFinSF1)"
   ]
  },
  {
   "cell_type": "code",
   "execution_count": null,
   "id": "6da8241f",
   "metadata": {},
   "outputs": [],
   "source": [
    "df['BsmtFinSF1']=np.where(df['BsmtFinSF1']>upper_BsmtFinSF1,upper_BsmtFinSF1,\n",
    "                         np.where(df['BsmtFinSF1']<lower_BsmtFinSF1,lower_BsmtFinSF1,df['BsmtFinSF1']))"
   ]
  },
  {
   "cell_type": "code",
   "execution_count": null,
   "id": "16a702a7",
   "metadata": {},
   "outputs": [],
   "source": [
    "sns.set()\n",
    "plt.figure(figsize=(6,6))\n",
    "sns.distplot(df['BsmtFinSF1'])\n",
    "plt.show"
   ]
  },
  {
   "cell_type": "code",
   "execution_count": null,
   "id": "46b80031",
   "metadata": {},
   "outputs": [],
   "source": [
    "BsmtFinSF1=df['BsmtFinSF1']\n",
    "props2= dict(boxes='red',whiskers='black',medians='blue',caps='green')\n",
    "BsmtFinSF1.plot.box(color=props2,patch_artist=True,vert=True)"
   ]
  },
  {
   "cell_type": "markdown",
   "id": "4e4209f8",
   "metadata": {},
   "source": [
    "'BsmtFinSF2'"
   ]
  },
  {
   "cell_type": "code",
   "execution_count": null,
   "id": "1763d484",
   "metadata": {},
   "outputs": [],
   "source": [
    "sns.set()\n",
    "plt.figure(figsize=(6,6))\n",
    "sns.distplot(df['BsmtFinSF2'])\n",
    "plt.show"
   ]
  },
  {
   "cell_type": "code",
   "execution_count": null,
   "id": "14d52e29",
   "metadata": {},
   "outputs": [],
   "source": [
    "BsmtFinSF2=df['BsmtFinSF2']\n",
    "props2= dict(boxes='red',whiskers='black',medians='blue',caps='green')\n",
    "BsmtFinSF2.plot.box(color=props2,patch_artist=True,vert=True)"
   ]
  },
  {
   "cell_type": "code",
   "execution_count": null,
   "id": "61880ea8",
   "metadata": {},
   "outputs": [],
   "source": [
    "df['BsmtFinSF2'].value_counts()"
   ]
  },
  {
   "cell_type": "code",
   "execution_count": null,
   "id": "97a1ee43",
   "metadata": {},
   "outputs": [],
   "source": [
    "outliers = find_outliers_IQR(df['BsmtFinSF2'])\n",
    "print('number of outliers: '+ str(len(outliers)))\n",
    "(len(outliers))/(len('BsmtFinSF2'))"
   ]
  },
  {
   "cell_type": "code",
   "execution_count": null,
   "id": "bad75759",
   "metadata": {},
   "outputs": [],
   "source": [
    "lower_BsmtFinSF2,upper_BsmtFinSF2=find_boundaries(df,'BsmtFinSF2')\n",
    "print(lower_BsmtFinSF2,upper_BsmtFinSF2)"
   ]
  },
  {
   "cell_type": "code",
   "execution_count": null,
   "id": "2dca09db",
   "metadata": {},
   "outputs": [],
   "source": [
    "df['BsmtFinSF2']=np.where(df['BsmtFinSF2']>upper_BsmtFinSF2,upper_BsmtFinSF2,\n",
    "                         np.where(df['BsmtFinSF2']<lower_BsmtFinSF2,lower_BsmtFinSF2,df['BsmtFinSF2']))"
   ]
  },
  {
   "cell_type": "code",
   "execution_count": null,
   "id": "f0433890",
   "metadata": {},
   "outputs": [],
   "source": [
    "sns.set()\n",
    "plt.figure(figsize=(6,6))\n",
    "sns.distplot(df['BsmtFinSF2'])\n",
    "plt.show"
   ]
  },
  {
   "cell_type": "code",
   "execution_count": null,
   "id": "0fd65d65",
   "metadata": {},
   "outputs": [],
   "source": [
    "BsmtFinSF2=df['BsmtFinSF2']\n",
    "props2= dict(boxes='red',whiskers='black',medians='blue',caps='green')\n",
    "BsmtFinSF2.plot.box(color=props2,patch_artist=True,vert=True)"
   ]
  },
  {
   "cell_type": "markdown",
   "id": "fdab093f",
   "metadata": {},
   "source": [
    "'BsmtUnfSF'"
   ]
  },
  {
   "cell_type": "code",
   "execution_count": null,
   "id": "28f5e035",
   "metadata": {},
   "outputs": [],
   "source": [
    "sns.set()\n",
    "plt.figure(figsize=(6,6))\n",
    "sns.distplot(df['BsmtUnfSF'])\n",
    "plt.show"
   ]
  },
  {
   "cell_type": "code",
   "execution_count": null,
   "id": "fc7ba455",
   "metadata": {},
   "outputs": [],
   "source": [
    "BsmtUnfSF=df['BsmtUnfSF']\n",
    "props2= dict(boxes='red',whiskers='black',medians='blue',caps='green')\n",
    "BsmtUnfSF.plot.box(color=props2,patch_artist=True,vert=True)"
   ]
  },
  {
   "cell_type": "code",
   "execution_count": null,
   "id": "c1158896",
   "metadata": {},
   "outputs": [],
   "source": [
    "outliers = find_outliers_IQR(df['BsmtUnfSF'])\n",
    "print('number of outliers: '+ str(len(outliers)))\n",
    "(len(outliers))/(len('BsmtUnfSF'))"
   ]
  },
  {
   "cell_type": "code",
   "execution_count": null,
   "id": "6fdb4c66",
   "metadata": {},
   "outputs": [],
   "source": [
    "lower_BsmtUnfSF,upper_BsmtUnfSF=find_boundaries(df,'BsmtUnfSF')\n",
    "print(lower_BsmtUnfSF,upper_BsmtUnfSF)"
   ]
  },
  {
   "cell_type": "code",
   "execution_count": null,
   "id": "43918856",
   "metadata": {},
   "outputs": [],
   "source": [
    "df['BsmtUnfSF']=np.where(df['BsmtUnfSF']>upper_BsmtUnfSF,upper_BsmtUnfSF,\n",
    "                         np.where(df['BsmtUnfSF']<lower_BsmtUnfSF,lower_BsmtUnfSF,df['BsmtUnfSF']))"
   ]
  },
  {
   "cell_type": "code",
   "execution_count": null,
   "id": "dd3161d5",
   "metadata": {},
   "outputs": [],
   "source": [
    "sns.set()\n",
    "plt.figure(figsize=(6,6))\n",
    "sns.distplot(df['BsmtUnfSF'])\n",
    "plt.show"
   ]
  },
  {
   "cell_type": "code",
   "execution_count": null,
   "id": "aec2de7c",
   "metadata": {},
   "outputs": [],
   "source": [
    "BsmtUnfSF=df['BsmtUnfSF']\n",
    "props2= dict(boxes='red',whiskers='black',medians='blue',caps='green')\n",
    "BsmtUnfSF.plot.box(color=props2,patch_artist=True,vert=True)"
   ]
  },
  {
   "cell_type": "markdown",
   "id": "bde7654c",
   "metadata": {},
   "source": [
    "MasVnrArea"
   ]
  },
  {
   "cell_type": "code",
   "execution_count": null,
   "id": "79b6a8a9",
   "metadata": {},
   "outputs": [],
   "source": [
    "sns.set()\n",
    "plt.figure(figsize=(6,6))\n",
    "sns.distplot(df['MasVnrArea'])\n",
    "plt.show"
   ]
  },
  {
   "cell_type": "code",
   "execution_count": null,
   "id": "8080222a",
   "metadata": {},
   "outputs": [],
   "source": [
    "MasVnrArea=df['MasVnrArea']\n",
    "props2= dict(boxes='red',whiskers='black',medians='blue',caps='green')\n",
    "MasVnrArea.plot.box(color=props2,patch_artist=True,vert=True)"
   ]
  },
  {
   "cell_type": "code",
   "execution_count": null,
   "id": "bc635bfe",
   "metadata": {},
   "outputs": [],
   "source": [
    "outliers = find_outliers_IQR(df['MasVnrArea'])\n",
    "print('number of outliers: '+ str(len(outliers)))\n",
    "(len(outliers))/(len('MasVnrArea'))"
   ]
  },
  {
   "cell_type": "code",
   "execution_count": null,
   "id": "b8773a46",
   "metadata": {},
   "outputs": [],
   "source": [
    "lower_MasVnrArea,upper_MasVnrArea=find_boundaries(df,'MasVnrArea')\n",
    "print(lower_MasVnrArea,upper_MasVnrArea)"
   ]
  },
  {
   "cell_type": "code",
   "execution_count": null,
   "id": "5a67cbad",
   "metadata": {},
   "outputs": [],
   "source": [
    "df['MasVnrArea']=np.where(df['MasVnrArea']>upper_MasVnrArea,upper_MasVnrArea,\n",
    "                         np.where(df['MasVnrArea']<lower_MasVnrArea,lower_MasVnrArea,df['MasVnrArea']))"
   ]
  },
  {
   "cell_type": "code",
   "execution_count": null,
   "id": "e3221505",
   "metadata": {},
   "outputs": [],
   "source": [
    "sns.set()\n",
    "plt.figure(figsize=(6,6))\n",
    "sns.distplot(df['MasVnrArea'])\n",
    "plt.show"
   ]
  },
  {
   "cell_type": "code",
   "execution_count": null,
   "id": "b20834bd",
   "metadata": {},
   "outputs": [],
   "source": [
    "MasVnrArea=df['MasVnrArea']\n",
    "props2= dict(boxes='red',whiskers='black',medians='blue',caps='green')\n",
    "MasVnrArea.plot.box(color=props2,patch_artist=True,vert=True)"
   ]
  },
  {
   "cell_type": "markdown",
   "id": "033d8ddc",
   "metadata": {},
   "source": [
    "TotalBsmtSF"
   ]
  },
  {
   "cell_type": "code",
   "execution_count": null,
   "id": "eff3f54f",
   "metadata": {},
   "outputs": [],
   "source": [
    "sns.set()\n",
    "plt.figure(figsize=(6,6))\n",
    "sns.distplot(df['TotalBsmtSF'])\n",
    "plt.show"
   ]
  },
  {
   "cell_type": "code",
   "execution_count": null,
   "id": "c2009e5d",
   "metadata": {},
   "outputs": [],
   "source": [
    "TotalBsmtSF=df['TotalBsmtSF']\n",
    "props2= dict(boxes='red',whiskers='black',medians='blue',caps='green')\n",
    "TotalBsmtSF.plot.box(color=props2,patch_artist=True,vert=True)"
   ]
  },
  {
   "cell_type": "code",
   "execution_count": null,
   "id": "f0642848",
   "metadata": {},
   "outputs": [],
   "source": [
    "outliers = find_outliers_IQR(df['TotalBsmtSF'])\n",
    "print('number of outliers: '+ str(len(outliers)))\n",
    "(len(outliers))/(len('TotalBsmtSF'))"
   ]
  },
  {
   "cell_type": "code",
   "execution_count": null,
   "id": "cee573c7",
   "metadata": {},
   "outputs": [],
   "source": [
    "lower_TotalBsmtSF,upper_TotalBsmtSF=find_boundaries(df,'TotalBsmtSF')\n",
    "print(lower_TotalBsmtSF,upper_TotalBsmtSF)"
   ]
  },
  {
   "cell_type": "code",
   "execution_count": null,
   "id": "85bc53b6",
   "metadata": {},
   "outputs": [],
   "source": [
    "df['TotalBsmtSF']=np.where(df['TotalBsmtSF']>upper_TotalBsmtSF,upper_TotalBsmtSF,\n",
    "                         np.where(df['TotalBsmtSF']<lower_TotalBsmtSF,lower_TotalBsmtSF,df['TotalBsmtSF']))"
   ]
  },
  {
   "cell_type": "code",
   "execution_count": null,
   "id": "bf658d66",
   "metadata": {},
   "outputs": [],
   "source": [
    "sns.set()\n",
    "plt.figure(figsize=(6,6))\n",
    "sns.distplot(df['TotalBsmtSF'])\n",
    "plt.show"
   ]
  },
  {
   "cell_type": "code",
   "execution_count": null,
   "id": "a1c9ecfc",
   "metadata": {},
   "outputs": [],
   "source": [
    "TotalBsmtSF=df['TotalBsmtSF']\n",
    "props2= dict(boxes='red',whiskers='black',medians='blue',caps='green')\n",
    "TotalBsmtSF.plot.box(color=props2,patch_artist=True,vert=True)"
   ]
  },
  {
   "cell_type": "markdown",
   "id": "d12d6e90",
   "metadata": {},
   "source": [
    "1stFlrSF"
   ]
  },
  {
   "cell_type": "code",
   "execution_count": null,
   "id": "466b3098",
   "metadata": {},
   "outputs": [],
   "source": [
    "sns.set()\n",
    "plt.figure(figsize=(6,6))\n",
    "sns.distplot(df['1stFlrSF'])\n",
    "plt.show"
   ]
  },
  {
   "cell_type": "code",
   "execution_count": null,
   "id": "3eba72b8",
   "metadata": {},
   "outputs": [],
   "source": [
    "df['1stFlrSF']\n",
    "props2= dict(boxes='red',whiskers='black',medians='blue',caps='green')\n",
    "df['1stFlrSF'].plot.box(color=props2,patch_artist=True,vert=True)"
   ]
  },
  {
   "cell_type": "code",
   "execution_count": null,
   "id": "101ffbec",
   "metadata": {},
   "outputs": [],
   "source": [
    "outliers = find_outliers_IQR(df['1stFlrSF'])\n",
    "print('number of outliers: '+ str(len(outliers)))\n",
    "(len(outliers))/(len('1stFlrSF'))"
   ]
  },
  {
   "cell_type": "code",
   "execution_count": null,
   "id": "43a4ebab",
   "metadata": {},
   "outputs": [],
   "source": [
    "lower_1stFlrSF,upper_1stFlrSF=find_boundaries(df,'1stFlrSF')\n",
    "print(lower_1stFlrSF,upper_1stFlrSF)"
   ]
  },
  {
   "cell_type": "code",
   "execution_count": null,
   "id": "bdb2cbaf",
   "metadata": {},
   "outputs": [],
   "source": [
    "df['1stFlrSF']=np.where(df['1stFlrSF']>upper_1stFlrSF,upper_1stFlrSF,\n",
    "                         np.where(df['1stFlrSF']<lower_1stFlrSF,lower_1stFlrSF,df['1stFlrSF']))"
   ]
  },
  {
   "cell_type": "code",
   "execution_count": null,
   "id": "c3289427",
   "metadata": {},
   "outputs": [],
   "source": [
    "sns.set()\n",
    "plt.figure(figsize=(6,6))\n",
    "sns.distplot(df['1stFlrSF'])\n",
    "plt.show"
   ]
  },
  {
   "cell_type": "code",
   "execution_count": null,
   "id": "ff3c100f",
   "metadata": {},
   "outputs": [],
   "source": [
    "df['1stFlrSF']\n",
    "props2= dict(boxes='red',whiskers='black',medians='blue',caps='green')\n",
    "df['1stFlrSF'].plot.box(color=props2,patch_artist=True,vert=True)"
   ]
  },
  {
   "cell_type": "markdown",
   "id": "21fff90f",
   "metadata": {},
   "source": [
    "2ndFlrSF"
   ]
  },
  {
   "cell_type": "code",
   "execution_count": null,
   "id": "9c154117",
   "metadata": {},
   "outputs": [],
   "source": [
    "sns.set()\n",
    "plt.figure(figsize=(6,6))\n",
    "sns.distplot(df['2ndFlrSF'])\n",
    "plt.show"
   ]
  },
  {
   "cell_type": "code",
   "execution_count": null,
   "id": "11697b18",
   "metadata": {},
   "outputs": [],
   "source": [
    "df['2ndFlrSF']\n",
    "props2= dict(boxes='red',whiskers='black',medians='blue',caps='green')\n",
    "df['2ndFlrSF'].plot.box(color=props2,patch_artist=True,vert=True)"
   ]
  },
  {
   "cell_type": "code",
   "execution_count": null,
   "id": "6eebdeb6",
   "metadata": {},
   "outputs": [],
   "source": [
    "outliers = find_outliers_IQR(df['2ndFlrSF'])\n",
    "print('number of outliers: '+ str(len(outliers)))\n",
    "(len(outliers))/(len('2ndFlrSF'))"
   ]
  },
  {
   "cell_type": "code",
   "execution_count": null,
   "id": "540bfd05",
   "metadata": {},
   "outputs": [],
   "source": [
    "lower_2ndFlrSF,upper_2ndFlrSF=find_boundaries(df,'2ndFlrSF')\n",
    "print(lower_2ndFlrSF,upper_2ndFlrSF)"
   ]
  },
  {
   "cell_type": "code",
   "execution_count": null,
   "id": "128292ba",
   "metadata": {},
   "outputs": [],
   "source": [
    "df['2ndFlrSF']=np.where(df['2ndFlrSF']>upper_2ndFlrSF,upper_2ndFlrSF,\n",
    "                         np.where(df['2ndFlrSF']<lower_2ndFlrSF,lower_2ndFlrSF,df['2ndFlrSF']))"
   ]
  },
  {
   "cell_type": "code",
   "execution_count": null,
   "id": "718156a6",
   "metadata": {},
   "outputs": [],
   "source": [
    "sns.set()\n",
    "plt.figure(figsize=(6,6))\n",
    "sns.distplot(df['2ndFlrSF'])\n",
    "plt.show"
   ]
  },
  {
   "cell_type": "code",
   "execution_count": null,
   "id": "edbe8631",
   "metadata": {},
   "outputs": [],
   "source": [
    "df['2ndFlrSF']\n",
    "props2= dict(boxes='red',whiskers='black',medians='blue',caps='green')\n",
    "df['2ndFlrSF'].plot.box(color=props2,patch_artist=True,vert=True)"
   ]
  },
  {
   "cell_type": "markdown",
   "id": "eb958940",
   "metadata": {},
   "source": [
    "GrLivArea"
   ]
  },
  {
   "cell_type": "code",
   "execution_count": null,
   "id": "ea48069d",
   "metadata": {},
   "outputs": [],
   "source": [
    "sns.set()\n",
    "plt.figure(figsize=(6,6))\n",
    "sns.distplot(df['GrLivArea'])\n",
    "plt.show"
   ]
  },
  {
   "cell_type": "code",
   "execution_count": null,
   "id": "7268e4b5",
   "metadata": {},
   "outputs": [],
   "source": [
    "GrLivArea=df['GrLivArea']\n",
    "props2= dict(boxes='red',whiskers='black',medians='blue',caps='green')\n",
    "GrLivArea.plot.box(color=props2,patch_artist=True,vert=True)"
   ]
  },
  {
   "cell_type": "code",
   "execution_count": null,
   "id": "760d61e1",
   "metadata": {},
   "outputs": [],
   "source": [
    "outliers = find_outliers_IQR(df['GrLivArea'])\n",
    "print('number of outliers: '+ str(len(outliers)))\n",
    "(len(outliers))/(len('GrLivArea'))"
   ]
  },
  {
   "cell_type": "code",
   "execution_count": null,
   "id": "c144e8b6",
   "metadata": {},
   "outputs": [],
   "source": [
    "lower_GrLivArea,upper_GrLivArea=find_boundaries(df,'GrLivArea')\n",
    "print(lower_GrLivArea,upper_GrLivArea)"
   ]
  },
  {
   "cell_type": "code",
   "execution_count": null,
   "id": "6a59cd13",
   "metadata": {},
   "outputs": [],
   "source": [
    "df['GrLivArea']=np.where(df['GrLivArea']>upper_GrLivArea,upper_GrLivArea,\n",
    "                         np.where(df['GrLivArea']<lower_GrLivArea,lower_GrLivArea,df['GrLivArea']))"
   ]
  },
  {
   "cell_type": "code",
   "execution_count": null,
   "id": "56278bdd",
   "metadata": {},
   "outputs": [],
   "source": [
    "sns.set()\n",
    "plt.figure(figsize=(6,6))\n",
    "sns.distplot(df['GrLivArea'])\n",
    "plt.show"
   ]
  },
  {
   "cell_type": "code",
   "execution_count": null,
   "id": "cb65f8c9",
   "metadata": {},
   "outputs": [],
   "source": [
    "GrLivArea=df['GrLivArea']\n",
    "props2= dict(boxes='red',whiskers='black',medians='blue',caps='green')\n",
    "GrLivArea.plot.box(color=props2,patch_artist=True,vert=True)"
   ]
  },
  {
   "cell_type": "markdown",
   "id": "31a4d323",
   "metadata": {},
   "source": [
    "GarageArea"
   ]
  },
  {
   "cell_type": "code",
   "execution_count": null,
   "id": "1f7694f8",
   "metadata": {},
   "outputs": [],
   "source": [
    "sns.set()\n",
    "plt.figure(figsize=(6,6))\n",
    "sns.distplot(df['GarageArea'])\n",
    "plt.show"
   ]
  },
  {
   "cell_type": "code",
   "execution_count": null,
   "id": "fbc7d987",
   "metadata": {},
   "outputs": [],
   "source": [
    "GarageArea=df['GarageArea']\n",
    "props2= dict(boxes='red',whiskers='black',medians='blue',caps='green')\n",
    "GarageArea.plot.box(color=props2,patch_artist=True,vert=True)"
   ]
  },
  {
   "cell_type": "code",
   "execution_count": null,
   "id": "84e4e18c",
   "metadata": {},
   "outputs": [],
   "source": [
    "outliers = find_outliers_IQR(df['GarageArea'])\n",
    "print('number of outliers: '+ str(len(outliers)))\n",
    "(len(outliers))/(len('GarageArea'))"
   ]
  },
  {
   "cell_type": "code",
   "execution_count": null,
   "id": "35089862",
   "metadata": {},
   "outputs": [],
   "source": [
    "lower_GarageArea,upper_GarageArea=find_boundaries(df,'GarageArea')\n",
    "print(lower_GarageArea,upper_GarageArea)"
   ]
  },
  {
   "cell_type": "code",
   "execution_count": null,
   "id": "b1d4c05e",
   "metadata": {},
   "outputs": [],
   "source": [
    "df['GarageArea']=np.where(df['GarageArea']>upper_GarageArea,upper_GarageArea,\n",
    "                         np.where(df['GarageArea']<lower_GarageArea,lower_GarageArea,df['GarageArea']))"
   ]
  },
  {
   "cell_type": "code",
   "execution_count": null,
   "id": "19039d75",
   "metadata": {},
   "outputs": [],
   "source": [
    "sns.set()\n",
    "plt.figure(figsize=(6,6))\n",
    "sns.distplot(df['GarageArea'])\n",
    "plt.show"
   ]
  },
  {
   "cell_type": "code",
   "execution_count": null,
   "id": "8e43c54f",
   "metadata": {},
   "outputs": [],
   "source": [
    "GarageArea=df['GarageArea']\n",
    "props2= dict(boxes='red',whiskers='black',medians='blue',caps='green')\n",
    "GarageArea.plot.box(color=props2,patch_artist=True,vert=True)"
   ]
  },
  {
   "cell_type": "markdown",
   "id": "33067fd6",
   "metadata": {},
   "source": [
    "WoodDeckSF"
   ]
  },
  {
   "cell_type": "code",
   "execution_count": null,
   "id": "4602af0c",
   "metadata": {},
   "outputs": [],
   "source": [
    "sns.set()\n",
    "plt.figure(figsize=(6,6))\n",
    "sns.distplot(df['WoodDeckSF'])\n",
    "plt.show"
   ]
  },
  {
   "cell_type": "code",
   "execution_count": null,
   "id": "d98c675e",
   "metadata": {},
   "outputs": [],
   "source": [
    "WoodDeckSF=df['WoodDeckSF']\n",
    "props2= dict(boxes='red',whiskers='black',medians='blue',caps='green')\n",
    "WoodDeckSF.plot.box(color=props2,patch_artist=True,vert=True)"
   ]
  },
  {
   "cell_type": "code",
   "execution_count": null,
   "id": "e7bbaeb9",
   "metadata": {},
   "outputs": [],
   "source": [
    "outliers = find_outliers_IQR(df['WoodDeckSF'])\n",
    "print('number of outliers: '+ str(len(outliers)))\n",
    "(len(outliers))/(len('WoodDeckSF'))"
   ]
  },
  {
   "cell_type": "code",
   "execution_count": null,
   "id": "30a0d31d",
   "metadata": {},
   "outputs": [],
   "source": [
    "lower_WoodDeckSF,upper_WoodDeckSF=find_boundaries(df,'WoodDeckSF')\n",
    "print(lower_WoodDeckSF,upper_WoodDeckSF)"
   ]
  },
  {
   "cell_type": "code",
   "execution_count": null,
   "id": "3cf86056",
   "metadata": {},
   "outputs": [],
   "source": [
    "df['WoodDeckSF']=np.where(df['WoodDeckSF']>upper_WoodDeckSF,upper_WoodDeckSF,\n",
    "                         np.where(df['GarageArea']<lower_WoodDeckSF,lower_WoodDeckSF,df['WoodDeckSF']))"
   ]
  },
  {
   "cell_type": "code",
   "execution_count": null,
   "id": "7553329d",
   "metadata": {},
   "outputs": [],
   "source": [
    "sns.set()\n",
    "plt.figure(figsize=(6,6))\n",
    "sns.distplot(df['WoodDeckSF'])\n",
    "plt.show"
   ]
  },
  {
   "cell_type": "code",
   "execution_count": null,
   "id": "77163b0d",
   "metadata": {},
   "outputs": [],
   "source": [
    "WoodDeckSF=df['WoodDeckSF']\n",
    "props2= dict(boxes='red',whiskers='black',medians='blue',caps='green')\n",
    "WoodDeckSF.plot.box(color=props2,patch_artist=True,vert=True)"
   ]
  },
  {
   "cell_type": "markdown",
   "id": "291a8cdc",
   "metadata": {},
   "source": [
    "OpenPorchSF"
   ]
  },
  {
   "cell_type": "code",
   "execution_count": null,
   "id": "c767dbc1",
   "metadata": {},
   "outputs": [],
   "source": [
    "sns.set()\n",
    "plt.figure(figsize=(6,6))\n",
    "sns.distplot(df['OpenPorchSF'])\n",
    "plt.show"
   ]
  },
  {
   "cell_type": "code",
   "execution_count": null,
   "id": "f0c4475f",
   "metadata": {},
   "outputs": [],
   "source": [
    "OpenPorchSF=df['OpenPorchSF']\n",
    "props2= dict(boxes='red',whiskers='black',medians='blue',caps='green')\n",
    "OpenPorchSF.plot.box(color=props2,patch_artist=True,vert=True)"
   ]
  },
  {
   "cell_type": "code",
   "execution_count": null,
   "id": "fe54a476",
   "metadata": {},
   "outputs": [],
   "source": [
    "outliers = find_outliers_IQR(df['OpenPorchSF'])\n",
    "print('number of outliers: '+ str(len(outliers)))\n",
    "(len(outliers))/(len('OpenPorchSF'))"
   ]
  },
  {
   "cell_type": "code",
   "execution_count": null,
   "id": "47c22047",
   "metadata": {},
   "outputs": [],
   "source": [
    "lower_OpenPorchSF,upper_OpenPorchSF=find_boundaries(df,'OpenPorchSF')\n",
    "print(lower_OpenPorchSF,upper_OpenPorchSF)"
   ]
  },
  {
   "cell_type": "code",
   "execution_count": null,
   "id": "98ec8d3e",
   "metadata": {},
   "outputs": [],
   "source": [
    "df['OpenPorchSF']=np.where(df['OpenPorchSF']>upper_OpenPorchSF,upper_OpenPorchSF,\n",
    "                         np.where(df['OpenPorchSF']<lower_OpenPorchSF,lower_OpenPorchSF,df['OpenPorchSF']))"
   ]
  },
  {
   "cell_type": "code",
   "execution_count": null,
   "id": "09e026ef",
   "metadata": {},
   "outputs": [],
   "source": [
    "sns.set()\n",
    "plt.figure(figsize=(6,6))\n",
    "sns.distplot(df['OpenPorchSF'])\n",
    "plt.show"
   ]
  },
  {
   "cell_type": "code",
   "execution_count": null,
   "id": "f3095b9d",
   "metadata": {},
   "outputs": [],
   "source": [
    "OpenPorchSF=df['OpenPorchSF']\n",
    "props2= dict(boxes='red',whiskers='black',medians='blue',caps='green')\n",
    "OpenPorchSF.plot.box(color=props2,patch_artist=True,vert=True)"
   ]
  },
  {
   "cell_type": "markdown",
   "id": "f7a89f0a",
   "metadata": {},
   "source": [
    "'EnclosedPorch'"
   ]
  },
  {
   "cell_type": "code",
   "execution_count": null,
   "id": "49090df5",
   "metadata": {},
   "outputs": [],
   "source": [
    "sns.set()\n",
    "plt.figure(figsize=(6,6))\n",
    "sns.distplot(df['EnclosedPorch'])\n",
    "plt.show"
   ]
  },
  {
   "cell_type": "code",
   "execution_count": null,
   "id": "3dbdb555",
   "metadata": {},
   "outputs": [],
   "source": [
    "EnclosedPorch=df['EnclosedPorch']\n",
    "props2= dict(boxes='red',whiskers='black',medians='blue',caps='green')\n",
    "EnclosedPorch.plot.box(color=props2,patch_artist=True,vert=True)"
   ]
  },
  {
   "cell_type": "code",
   "execution_count": null,
   "id": "c595ee2d",
   "metadata": {},
   "outputs": [],
   "source": [
    "df['EnclosedPorch'].value_counts()"
   ]
  },
  {
   "cell_type": "code",
   "execution_count": null,
   "id": "e31293bc",
   "metadata": {},
   "outputs": [],
   "source": [
    "outliers = find_outliers_IQR(df['EnclosedPorch'])\n",
    "print('number of outliers: '+ str(len(outliers)))\n",
    "(len(outliers))/(len('EnclosedPorch'))"
   ]
  },
  {
   "cell_type": "code",
   "execution_count": null,
   "id": "b7280a46",
   "metadata": {},
   "outputs": [],
   "source": [
    "lower_EnclosedPorch,upper_EnclosedPorch=find_boundaries(df,'EnclosedPorch')\n",
    "print(lower_EnclosedPorch,upper_EnclosedPorch)"
   ]
  },
  {
   "cell_type": "code",
   "execution_count": null,
   "id": "ff1e64f1",
   "metadata": {},
   "outputs": [],
   "source": [
    "df['EnclosedPorch']=np.where(df['EnclosedPorch']>upper_EnclosedPorch,upper_EnclosedPorch,\n",
    "                         np.where(df['EnclosedPorch']<lower_EnclosedPorch,lower_EnclosedPorch,df['EnclosedPorch']))"
   ]
  },
  {
   "cell_type": "code",
   "execution_count": null,
   "id": "5dc86ae2",
   "metadata": {},
   "outputs": [],
   "source": [
    "sns.set()\n",
    "plt.figure(figsize=(6,6))\n",
    "sns.distplot(df['EnclosedPorch'])\n",
    "plt.show"
   ]
  },
  {
   "cell_type": "code",
   "execution_count": null,
   "id": "6f8ef3f6",
   "metadata": {},
   "outputs": [],
   "source": [
    "EnclosedPorch=df['EnclosedPorch']\n",
    "props2= dict(boxes='red',whiskers='black',medians='blue',caps='green')\n",
    "EnclosedPorch.plot.box(color=props2,patch_artist=True,vert=True)"
   ]
  },
  {
   "cell_type": "markdown",
   "id": "3ef0c032",
   "metadata": {},
   "source": [
    "'ScreenPorch'"
   ]
  },
  {
   "cell_type": "code",
   "execution_count": null,
   "id": "015865e3",
   "metadata": {},
   "outputs": [],
   "source": [
    "sns.set()\n",
    "plt.figure(figsize=(6,6))\n",
    "sns.distplot(df['ScreenPorch'])\n",
    "plt.show"
   ]
  },
  {
   "cell_type": "code",
   "execution_count": null,
   "id": "a5b5163f",
   "metadata": {},
   "outputs": [],
   "source": [
    "ScreenPorch=df['ScreenPorch']\n",
    "props2= dict(boxes='red',whiskers='black',medians='blue',caps='green')\n",
    "ScreenPorch.plot.box(color=props2,patch_artist=True,vert=True)"
   ]
  },
  {
   "cell_type": "code",
   "execution_count": null,
   "id": "632fd90b",
   "metadata": {},
   "outputs": [],
   "source": [
    "df['ScreenPorch'].value_counts()"
   ]
  },
  {
   "cell_type": "code",
   "execution_count": null,
   "id": "7ebef02d",
   "metadata": {},
   "outputs": [],
   "source": [
    "outliers = find_outliers_IQR(df['ScreenPorch'])\n",
    "print('number of outliers: '+ str(len(outliers)))\n",
    "(len(outliers))/(len('ScreenPorch'))"
   ]
  },
  {
   "cell_type": "code",
   "execution_count": null,
   "id": "8bd3cc28",
   "metadata": {},
   "outputs": [],
   "source": [
    "lower_ScreenPorch,upper_ScreenPorch=find_boundaries(df,'ScreenPorch')\n",
    "print(lower_ScreenPorch,upper_ScreenPorch)"
   ]
  },
  {
   "cell_type": "code",
   "execution_count": null,
   "id": "f04631c4",
   "metadata": {},
   "outputs": [],
   "source": [
    "df['ScreenPorch']=np.where(df['ScreenPorch']>upper_ScreenPorch,upper_ScreenPorch,\n",
    "                         np.where(df['ScreenPorch']<lower_ScreenPorch,lower_ScreenPorch,df['ScreenPorch']))"
   ]
  },
  {
   "cell_type": "code",
   "execution_count": null,
   "id": "4b99edc9",
   "metadata": {},
   "outputs": [],
   "source": [
    "sns.set()\n",
    "plt.figure(figsize=(6,6))\n",
    "sns.distplot(df['ScreenPorch'])\n",
    "plt.show"
   ]
  },
  {
   "cell_type": "code",
   "execution_count": null,
   "id": "3be615bc",
   "metadata": {},
   "outputs": [],
   "source": [
    "ScreenPorch=df['ScreenPorch']\n",
    "props2= dict(boxes='red',whiskers='black',medians='blue',caps='green')\n",
    "ScreenPorch.plot.box(color=props2,patch_artist=True,vert=True)"
   ]
  },
  {
   "cell_type": "markdown",
   "id": "21b80b4c",
   "metadata": {},
   "source": [
    "SalePrice"
   ]
  },
  {
   "cell_type": "code",
   "execution_count": null,
   "id": "f4a5c78f",
   "metadata": {},
   "outputs": [],
   "source": [
    "sns.set()\n",
    "plt.figure(figsize=(6,6))\n",
    "sns.distplot(df['SalePrice'])\n",
    "plt.show"
   ]
  },
  {
   "cell_type": "code",
   "execution_count": null,
   "id": "298e210a",
   "metadata": {},
   "outputs": [],
   "source": [
    "SalePrice=df['SalePrice']\n",
    "props2= dict(boxes='red',whiskers='black',medians='blue',caps='green')\n",
    "SalePrice.plot.box(color=props2,patch_artist=True,vert=True)"
   ]
  },
  {
   "cell_type": "code",
   "execution_count": null,
   "id": "f5eb77d5",
   "metadata": {},
   "outputs": [],
   "source": [
    "outliers = find_outliers_IQR(df['SalePrice'])\n",
    "print('number of outliers: '+ str(len(outliers)))\n",
    "(len(outliers))/(len('SalePrice'))"
   ]
  },
  {
   "cell_type": "code",
   "execution_count": null,
   "id": "efb1b578",
   "metadata": {},
   "outputs": [],
   "source": [
    "lower_SalePrice,upper_SalePrice=find_boundaries(df,'SalePrice')\n",
    "print(lower_SalePrice,upper_SalePrice)"
   ]
  },
  {
   "cell_type": "code",
   "execution_count": null,
   "id": "7bda045f",
   "metadata": {},
   "outputs": [],
   "source": [
    "df['SalePrice']=np.where(df['SalePrice']>upper_SalePrice,upper_SalePrice,\n",
    "                         np.where(df['SalePrice']<lower_SalePrice,lower_SalePrice,df['SalePrice']))"
   ]
  },
  {
   "cell_type": "code",
   "execution_count": null,
   "id": "33303888",
   "metadata": {},
   "outputs": [],
   "source": [
    "sns.set()\n",
    "plt.figure(figsize=(6,6))\n",
    "sns.distplot(df['SalePrice'])\n",
    "plt.show"
   ]
  },
  {
   "cell_type": "code",
   "execution_count": null,
   "id": "bbb18ab6",
   "metadata": {},
   "outputs": [],
   "source": [
    "SalePrice=df['SalePrice']\n",
    "props2= dict(boxes='red',whiskers='black',medians='blue',caps='green')\n",
    "SalePrice.plot.box(color=props2,patch_artist=True,vert=True)"
   ]
  },
  {
   "cell_type": "code",
   "execution_count": null,
   "id": "c51a483e",
   "metadata": {},
   "outputs": [],
   "source": [
    "#transforming dependent variable(SalePrice) to make it near normal distribution\n",
    "#df['SalePrice']=df['SalePrice'].transform(np.sqrt)"
   ]
  },
  {
   "cell_type": "code",
   "execution_count": null,
   "id": "38c1f66c",
   "metadata": {},
   "outputs": [],
   "source": [
    "#sns.set()\n",
    "#plt.figure(figsize=(6,6))\n",
    "#sns.distplot(df['SalePrice'])\n",
    "#plt.show"
   ]
  },
  {
   "cell_type": "code",
   "execution_count": null,
   "id": "570ee127",
   "metadata": {},
   "outputs": [],
   "source": [
    "corr = df[num_continuous_feature].corr()\n",
    "plt.figure(figsize=(20, 20))\n",
    "sns.heatmap(corr, annot=True, cmap = 'summer_r')\n"
   ]
  },
  {
   "cell_type": "code",
   "execution_count": null,
   "id": "6a9556e6",
   "metadata": {},
   "outputs": [],
   "source": [
    "#Dropping columns whose r values are between -0.25 to +0.25 with respect to SalePrice\n",
    "df.drop(['BsmtFinSF2','EnclosedPorch','ScreenPorch','BsmtUnfSF'],axis=1,inplace=True)"
   ]
  },
  {
   "cell_type": "markdown",
   "id": "1e131803",
   "metadata": {},
   "source": [
    "PERFORMING ANNOVA and TUKEYS ON NUMERICAL CATEGORICAL FEATURES"
   ]
  },
  {
   "cell_type": "markdown",
   "id": "3748ddf6",
   "metadata": {},
   "source": [
    "#we remove column with p>0.05"
   ]
  },
  {
   "cell_type": "code",
   "execution_count": null,
   "id": "548bf2b4",
   "metadata": {},
   "outputs": [],
   "source": [
    "import statsmodels.api as sm\n",
    "from statsmodels.formula.api import ols"
   ]
  },
  {
   "cell_type": "code",
   "execution_count": null,
   "id": "a8d5abae",
   "metadata": {},
   "outputs": [],
   "source": [
    "from statsmodels.stats.multicomp import pairwise_tukeyhsd"
   ]
  },
  {
   "cell_type": "code",
   "execution_count": null,
   "id": "482f026c",
   "metadata": {},
   "outputs": [],
   "source": [
    "num_categorical_feature"
   ]
  },
  {
   "cell_type": "markdown",
   "id": "932e0e64",
   "metadata": {},
   "source": [
    "'MSSubClass'"
   ]
  },
  {
   "cell_type": "code",
   "execution_count": null,
   "id": "b6176fde",
   "metadata": {},
   "outputs": [],
   "source": [
    "annova=ols('SalePrice ~ MSSubClass',data=df).fit()\n",
    "an=sm.stats.anova_lm(annova,typ=2)\n",
    "print(an.round(decimals=5))"
   ]
  },
  {
   "cell_type": "code",
   "execution_count": null,
   "id": "cad20c9e",
   "metadata": {},
   "outputs": [],
   "source": [
    "tukey = pairwise_tukeyhsd(df.SalePrice,df.MSSubClass,alpha=0.05)\n",
    "print (tukey)"
   ]
  },
  {
   "cell_type": "code",
   "execution_count": null,
   "id": "cdb06b96",
   "metadata": {},
   "outputs": [],
   "source": [
    "#Replacing similar columns(reject=false)\n",
    "df['MSSubClass'].replace({40:20},inplace=True)\n",
    "df['MSSubClass'].replace({70:20},inplace=True)\n",
    "df['MSSubClass'].replace({75:20},inplace=True)\n",
    "df['MSSubClass'].replace({80:20},inplace=True)\n",
    "df['MSSubClass'].replace({85:20},inplace=True)\n",
    "\n",
    "df['MSSubClass'].replace({120:20},inplace=True)\n",
    "\n",
    "df['MSSubClass'].replace({45:30},inplace=True)\n",
    "df['MSSubClass'].replace({90:30},inplace=True)\n",
    "df['MSSubClass'].replace({180:30},inplace=True)\n",
    "df['MSSubClass'].replace({190:30},inplace=True)\n",
    "\n",
    "df['MSSubClass'].replace({160:30},inplace=True)"
   ]
  },
  {
   "cell_type": "code",
   "execution_count": null,
   "id": "8d594483",
   "metadata": {},
   "outputs": [],
   "source": [
    "tukey = pairwise_tukeyhsd(df.SalePrice,df.MSSubClass,alpha=0.05)\n",
    "print (tukey)"
   ]
  },
  {
   "cell_type": "code",
   "execution_count": null,
   "id": "24c069de",
   "metadata": {},
   "outputs": [],
   "source": [
    "annova=ols('SalePrice ~ MSSubClass',data=df).fit()\n",
    "an=sm.stats.anova_lm(annova,typ=2)\n",
    "print(an.round(decimals=5))"
   ]
  },
  {
   "cell_type": "markdown",
   "id": "4a07dfcc",
   "metadata": {},
   "source": [
    "'OverallQual'"
   ]
  },
  {
   "cell_type": "code",
   "execution_count": null,
   "id": "8cff450b",
   "metadata": {},
   "outputs": [],
   "source": [
    "annova=ols('SalePrice ~ OverallQual',data=df).fit()\n",
    "an=sm.stats.anova_lm(annova,typ=2)\n",
    "print(an.round(decimals=5))"
   ]
  },
  {
   "cell_type": "code",
   "execution_count": null,
   "id": "5598f2f2",
   "metadata": {},
   "outputs": [],
   "source": [
    "tukey = pairwise_tukeyhsd(df.SalePrice,df.OverallQual,alpha=0.05)\n",
    "print (tukey)"
   ]
  },
  {
   "cell_type": "code",
   "execution_count": null,
   "id": "2d0d42e5",
   "metadata": {},
   "outputs": [],
   "source": [
    "df['OverallQual'].replace({2:1},inplace=True)\n",
    "df['OverallQual'].replace({3:1},inplace=True)\n",
    "df['OverallQual'].replace({4:1},inplace=True)\n",
    "df['OverallQual'].replace({5:1},inplace=True)\n",
    "df['OverallQual'].replace({9:10},inplace=True)"
   ]
  },
  {
   "cell_type": "code",
   "execution_count": null,
   "id": "0b1deac0",
   "metadata": {},
   "outputs": [],
   "source": [
    "tukey = pairwise_tukeyhsd(df.SalePrice,df.OverallQual,alpha=0.05)\n",
    "print (tukey)"
   ]
  },
  {
   "cell_type": "code",
   "execution_count": null,
   "id": "38107df3",
   "metadata": {},
   "outputs": [],
   "source": [
    "annova=ols('SalePrice ~ OverallQual',data=df).fit()\n",
    "an=sm.stats.anova_lm(annova,typ=2)\n",
    "print(an.round(decimals=5))"
   ]
  },
  {
   "cell_type": "markdown",
   "id": "127df2f5",
   "metadata": {},
   "source": [
    "'OverallCond'"
   ]
  },
  {
   "cell_type": "code",
   "execution_count": null,
   "id": "99bafff7",
   "metadata": {},
   "outputs": [],
   "source": [
    "annova=ols('SalePrice ~ OverallCond',data=df).fit()\n",
    "an=sm.stats.anova_lm(annova,typ=2)\n",
    "print(an.round(decimals=5))"
   ]
  },
  {
   "cell_type": "code",
   "execution_count": null,
   "id": "5f71a366",
   "metadata": {},
   "outputs": [],
   "source": [
    "tukey = pairwise_tukeyhsd(df.SalePrice,df.OverallCond,alpha=0.05)\n",
    "print (tukey)\n"
   ]
  },
  {
   "cell_type": "code",
   "execution_count": null,
   "id": "62e8ec15",
   "metadata": {},
   "outputs": [],
   "source": [
    "df['OverallCond'].replace({2:1},inplace=True)\n",
    "df['OverallCond'].replace({3:1},inplace=True)\n",
    "df['OverallCond'].replace({4:1},inplace=True)\n",
    "df['OverallCond'].replace({5:1},inplace=True)\n",
    "df['OverallCond'].replace({6:1},inplace=True)\n",
    "df['OverallCond'].replace({7:1},inplace=True)\n",
    "df['OverallCond'].replace({8:1},inplace=True)\n",
    "df['OverallCond'].replace({9:1},inplace=True)"
   ]
  },
  {
   "cell_type": "code",
   "execution_count": null,
   "id": "ec08bdec",
   "metadata": {},
   "outputs": [],
   "source": [
    "tukey = pairwise_tukeyhsd(df.SalePrice,df.OverallCond,alpha=0.05)\n",
    "print (tukey)\n"
   ]
  },
  {
   "cell_type": "code",
   "execution_count": null,
   "id": "d8bd1c25",
   "metadata": {},
   "outputs": [],
   "source": [
    "df['OverallCond'].value_counts()"
   ]
  },
  {
   "cell_type": "code",
   "execution_count": null,
   "id": "ae9bfc56",
   "metadata": {},
   "outputs": [],
   "source": [
    "annova=ols('SalePrice ~ OverallCond',data=df).fit()\n",
    "an=sm.stats.anova_lm(annova,typ=2)\n",
    "print(an.round(decimals=5))"
   ]
  },
  {
   "cell_type": "markdown",
   "id": "7d132550",
   "metadata": {},
   "source": [
    "'LowQualFinSF'"
   ]
  },
  {
   "cell_type": "code",
   "execution_count": null,
   "id": "02af5e18",
   "metadata": {},
   "outputs": [],
   "source": [
    "annova=ols('SalePrice ~ LowQualFinSF',data=df).fit()\n",
    "an=sm.stats.anova_lm(annova,typ=2)\n",
    "print(an.round(decimals=5))"
   ]
  },
  {
   "cell_type": "code",
   "execution_count": null,
   "id": "246397e0",
   "metadata": {},
   "outputs": [],
   "source": [
    "#droping because of p>0.05\n",
    "df.drop(['LowQualFinSF'],axis=1,inplace=True)"
   ]
  },
  {
   "cell_type": "markdown",
   "id": "288cce04",
   "metadata": {},
   "source": [
    "'BsmtFullBath'"
   ]
  },
  {
   "cell_type": "code",
   "execution_count": null,
   "id": "bfecaf2f",
   "metadata": {},
   "outputs": [],
   "source": [
    "annova=ols('SalePrice ~ BsmtFullBath',data=df).fit()\n",
    "an=sm.stats.anova_lm(annova,typ=2)\n",
    "print(an.round(decimals=5))"
   ]
  },
  {
   "cell_type": "code",
   "execution_count": null,
   "id": "4d016436",
   "metadata": {},
   "outputs": [],
   "source": [
    "tukey = pairwise_tukeyhsd(df.SalePrice,df.BsmtFullBath,alpha=0.05)\n",
    "print (tukey)"
   ]
  },
  {
   "cell_type": "code",
   "execution_count": null,
   "id": "00d1a7bd",
   "metadata": {},
   "outputs": [],
   "source": [
    "df['BsmtFullBath'].replace({2:0},inplace=True)\n",
    "df['BsmtFullBath'].replace({3:0},inplace=True)"
   ]
  },
  {
   "cell_type": "code",
   "execution_count": null,
   "id": "54828c47",
   "metadata": {},
   "outputs": [],
   "source": [
    "tukey = pairwise_tukeyhsd(df.SalePrice,df.BsmtFullBath,alpha=0.05)\n",
    "print (tukey)"
   ]
  },
  {
   "cell_type": "code",
   "execution_count": null,
   "id": "c89bf97a",
   "metadata": {},
   "outputs": [],
   "source": [
    "annova=ols('SalePrice ~ BsmtFullBath',data=df).fit()\n",
    "an=sm.stats.anova_lm(annova,typ=2)\n",
    "print(an.round(decimals=5))"
   ]
  },
  {
   "cell_type": "markdown",
   "id": "882a6b49",
   "metadata": {},
   "source": [
    "'BsmtHalfBath'"
   ]
  },
  {
   "cell_type": "code",
   "execution_count": null,
   "id": "cc678573",
   "metadata": {},
   "outputs": [],
   "source": [
    "annova=ols('SalePrice ~ BsmtHalfBath',data=df).fit()\n",
    "an=sm.stats.anova_lm(annova,typ=2)\n",
    "print(an.round(decimals=5))"
   ]
  },
  {
   "cell_type": "code",
   "execution_count": null,
   "id": "ede92622",
   "metadata": {},
   "outputs": [],
   "source": [
    "#droping because of p>0.05\n",
    "df.drop(['BsmtHalfBath'],axis=1,inplace=True)"
   ]
  },
  {
   "cell_type": "markdown",
   "id": "f6618765",
   "metadata": {},
   "source": [
    "'FullBath'"
   ]
  },
  {
   "cell_type": "code",
   "execution_count": null,
   "id": "3a0107a9",
   "metadata": {},
   "outputs": [],
   "source": [
    "annova=ols('SalePrice ~ FullBath',data=df).fit()\n",
    "an=sm.stats.anova_lm(annova,typ=2)\n",
    "print(an.round(decimals=5))"
   ]
  },
  {
   "cell_type": "code",
   "execution_count": null,
   "id": "9a4b4688",
   "metadata": {},
   "outputs": [],
   "source": [
    "tukey = pairwise_tukeyhsd(df.SalePrice,df.FullBath,alpha=0.05)\n",
    "print (tukey)"
   ]
  },
  {
   "cell_type": "code",
   "execution_count": null,
   "id": "0cab8438",
   "metadata": {},
   "outputs": [],
   "source": [
    "df['FullBath'].replace({1:0},inplace=True)\n",
    "df['FullBath'].replace({2:0},inplace=True)"
   ]
  },
  {
   "cell_type": "code",
   "execution_count": null,
   "id": "1ea11fe3",
   "metadata": {},
   "outputs": [],
   "source": [
    "tukey = pairwise_tukeyhsd(df.SalePrice,df.FullBath,alpha=0.05)\n",
    "print (tukey)"
   ]
  },
  {
   "cell_type": "code",
   "execution_count": null,
   "id": "fd7acd3a",
   "metadata": {},
   "outputs": [],
   "source": [
    "annova=ols('SalePrice ~ FullBath',data=df).fit()\n",
    "an=sm.stats.anova_lm(annova,typ=2)\n",
    "print(an.round(decimals=5))"
   ]
  },
  {
   "cell_type": "markdown",
   "id": "7ef8d4da",
   "metadata": {},
   "source": [
    "'HalfBath'"
   ]
  },
  {
   "cell_type": "code",
   "execution_count": null,
   "id": "b2e0957e",
   "metadata": {},
   "outputs": [],
   "source": [
    "annova=ols('SalePrice ~ HalfBath',data=df).fit()\n",
    "an=sm.stats.anova_lm(annova,typ=2)\n",
    "print(an.round(decimals=5))"
   ]
  },
  {
   "cell_type": "code",
   "execution_count": null,
   "id": "1c9b472b",
   "metadata": {},
   "outputs": [],
   "source": [
    "tukey = pairwise_tukeyhsd(df.SalePrice,df.HalfBath,alpha=0.05)\n",
    "print (tukey)"
   ]
  },
  {
   "cell_type": "code",
   "execution_count": null,
   "id": "42c61744",
   "metadata": {},
   "outputs": [],
   "source": [
    "df['HalfBath'].replace({2:0},inplace=True)"
   ]
  },
  {
   "cell_type": "code",
   "execution_count": null,
   "id": "af1f2460",
   "metadata": {},
   "outputs": [],
   "source": [
    "tukey = pairwise_tukeyhsd(df.SalePrice,df.HalfBath,alpha=0.05)\n",
    "print (tukey)"
   ]
  },
  {
   "cell_type": "code",
   "execution_count": null,
   "id": "9a5417fb",
   "metadata": {},
   "outputs": [],
   "source": [
    "annova=ols('SalePrice ~ HalfBath',data=df).fit()\n",
    "an=sm.stats.anova_lm(annova,typ=2)\n",
    "print(an.round(decimals=5))"
   ]
  },
  {
   "cell_type": "markdown",
   "id": "a534cbb6",
   "metadata": {},
   "source": [
    "'BedroomAbvGr'"
   ]
  },
  {
   "cell_type": "code",
   "execution_count": null,
   "id": "95a06048",
   "metadata": {},
   "outputs": [],
   "source": [
    "annova=ols('SalePrice ~ BedroomAbvGr',data=df).fit()\n",
    "an=sm.stats.anova_lm(annova,typ=2)\n",
    "print(an.round(decimals=5))"
   ]
  },
  {
   "cell_type": "code",
   "execution_count": null,
   "id": "48895f37",
   "metadata": {},
   "outputs": [],
   "source": [
    "tukey = pairwise_tukeyhsd(df.SalePrice,df.BedroomAbvGr,alpha=0.05)\n",
    "print (tukey)"
   ]
  },
  {
   "cell_type": "code",
   "execution_count": null,
   "id": "69c82742",
   "metadata": {},
   "outputs": [],
   "source": [
    "df['BedroomAbvGr'].replace({1:0},inplace=True)\n",
    "df['BedroomAbvGr'].replace({2:0},inplace=True)\n",
    "df['BedroomAbvGr'].replace({3:0},inplace=True)\n",
    "df['BedroomAbvGr'].replace({4:0},inplace=True)\n",
    "df['BedroomAbvGr'].replace({5:0},inplace=True)\n",
    "df['BedroomAbvGr'].replace({6:0},inplace=True)\n",
    "df['BedroomAbvGr'].replace({8:0},inplace=True)"
   ]
  },
  {
   "cell_type": "code",
   "execution_count": null,
   "id": "dac52059",
   "metadata": {},
   "outputs": [],
   "source": [
    "tukey = pairwise_tukeyhsd(df.SalePrice,df.BedroomAbvGr,alpha=0.05)\n",
    "print (tukey)"
   ]
  },
  {
   "cell_type": "code",
   "execution_count": null,
   "id": "02b1027e",
   "metadata": {},
   "outputs": [],
   "source": [
    "df['BedroomAbvGr'].value_counts()"
   ]
  },
  {
   "cell_type": "code",
   "execution_count": null,
   "id": "a30c29d8",
   "metadata": {},
   "outputs": [],
   "source": [
    "annova=ols('SalePrice ~ BedroomAbvGr',data=df).fit()\n",
    "an=sm.stats.anova_lm(annova,typ=2)\n",
    "print(an.round(decimals=5))"
   ]
  },
  {
   "cell_type": "markdown",
   "id": "b43cc027",
   "metadata": {},
   "source": [
    "'KitchenAbvGr'"
   ]
  },
  {
   "cell_type": "code",
   "execution_count": null,
   "id": "40f301e0",
   "metadata": {},
   "outputs": [],
   "source": [
    "annova=ols('SalePrice ~ KitchenAbvGr',data=df).fit()\n",
    "an=sm.stats.anova_lm(annova,typ=2)\n",
    "print(an.round(decimals=5))"
   ]
  },
  {
   "cell_type": "code",
   "execution_count": null,
   "id": "94a48a21",
   "metadata": {},
   "outputs": [],
   "source": [
    "tukey = pairwise_tukeyhsd(df.SalePrice,df.KitchenAbvGr,alpha=0.05)\n",
    "print (tukey)"
   ]
  },
  {
   "cell_type": "code",
   "execution_count": null,
   "id": "68d3daed",
   "metadata": {},
   "outputs": [],
   "source": [
    "df['KitchenAbvGr'].replace({1:0},inplace=True)\n",
    "df['KitchenAbvGr'].replace({2:0},inplace=True)\n",
    "df['KitchenAbvGr'].replace({3:0},inplace=True)"
   ]
  },
  {
   "cell_type": "code",
   "execution_count": null,
   "id": "c6947c48",
   "metadata": {},
   "outputs": [],
   "source": [
    "tukey = pairwise_tukeyhsd(df.SalePrice,df.KitchenAbvGr,alpha=0.05)\n",
    "print (tukey)"
   ]
  },
  {
   "cell_type": "code",
   "execution_count": null,
   "id": "ebb64095",
   "metadata": {},
   "outputs": [],
   "source": [
    "df['KitchenAbvGr'].value_counts()"
   ]
  },
  {
   "cell_type": "code",
   "execution_count": null,
   "id": "833e9302",
   "metadata": {},
   "outputs": [],
   "source": [
    "annova=ols('SalePrice ~ KitchenAbvGr',data=df).fit()\n",
    "an=sm.stats.anova_lm(annova,typ=2)\n",
    "print(an.round(decimals=5))"
   ]
  },
  {
   "cell_type": "markdown",
   "id": "2e92c9df",
   "metadata": {},
   "source": [
    "'TotRmsAbvGrd'"
   ]
  },
  {
   "cell_type": "code",
   "execution_count": null,
   "id": "35b42e13",
   "metadata": {},
   "outputs": [],
   "source": [
    "annova=ols('SalePrice ~ TotRmsAbvGrd',data=df).fit()\n",
    "an=sm.stats.anova_lm(annova,typ=2)\n",
    "print(an.round(decimals=5))"
   ]
  },
  {
   "cell_type": "code",
   "execution_count": null,
   "id": "5d071d10",
   "metadata": {},
   "outputs": [],
   "source": [
    "tukey = pairwise_tukeyhsd(df.SalePrice,df. TotRmsAbvGrd,alpha=0.05)\n",
    "print (tukey)"
   ]
  },
  {
   "cell_type": "code",
   "execution_count": null,
   "id": "6e6a541c",
   "metadata": {},
   "outputs": [],
   "source": [
    "df['TotRmsAbvGrd'].replace({3:2},inplace=True)\n",
    "df['TotRmsAbvGrd'].replace({4:2},inplace=True)\n",
    "df['TotRmsAbvGrd'].replace({5:2},inplace=True)\n",
    "df['TotRmsAbvGrd'].replace({6:2},inplace=True)\n",
    "df['TotRmsAbvGrd'].replace({7:2},inplace=True)\n",
    "df['TotRmsAbvGrd'].replace({8:2},inplace=True)\n",
    "df['TotRmsAbvGrd'].replace({9:2},inplace=True)\n",
    "df['TotRmsAbvGrd'].replace({14:2},inplace=True)\n",
    "\n",
    "df['TotRmsAbvGrd'].replace({11:10},inplace=True)\n",
    "df['TotRmsAbvGrd'].replace({12:10},inplace=True)"
   ]
  },
  {
   "cell_type": "code",
   "execution_count": null,
   "id": "8f6a76c7",
   "metadata": {},
   "outputs": [],
   "source": [
    "tukey = pairwise_tukeyhsd(df.SalePrice,df. TotRmsAbvGrd,alpha=0.05)\n",
    "print (tukey)"
   ]
  },
  {
   "cell_type": "code",
   "execution_count": null,
   "id": "2a8129bf",
   "metadata": {},
   "outputs": [],
   "source": [
    "annova=ols('SalePrice ~ TotRmsAbvGrd',data=df).fit()\n",
    "an=sm.stats.anova_lm(annova,typ=2)\n",
    "print(an.round(decimals=5))"
   ]
  },
  {
   "cell_type": "markdown",
   "id": "3ad05e4b",
   "metadata": {},
   "source": [
    "'Fireplaces'"
   ]
  },
  {
   "cell_type": "code",
   "execution_count": null,
   "id": "b689a65a",
   "metadata": {},
   "outputs": [],
   "source": [
    "annova=ols('SalePrice ~ Fireplaces',data=df).fit()\n",
    "an=sm.stats.anova_lm(annova,typ=2)\n",
    "print(an.round(decimals=5))"
   ]
  },
  {
   "cell_type": "code",
   "execution_count": null,
   "id": "ad620228",
   "metadata": {},
   "outputs": [],
   "source": [
    "tukey = pairwise_tukeyhsd(df.SalePrice,df. Fireplaces,alpha=0.05)\n",
    "print (tukey)"
   ]
  },
  {
   "cell_type": "code",
   "execution_count": null,
   "id": "9dab3b3f",
   "metadata": {},
   "outputs": [],
   "source": [
    "df['Fireplaces'].replace({1:3},inplace=True)\n",
    "df['Fireplaces'].replace({2:3},inplace=True)"
   ]
  },
  {
   "cell_type": "code",
   "execution_count": null,
   "id": "c2124976",
   "metadata": {},
   "outputs": [],
   "source": [
    "tukey = pairwise_tukeyhsd(df.SalePrice,df. Fireplaces,alpha=0.05)\n",
    "print (tukey)"
   ]
  },
  {
   "cell_type": "code",
   "execution_count": null,
   "id": "4ea6bb4e",
   "metadata": {},
   "outputs": [],
   "source": [
    "annova=ols('SalePrice ~ Fireplaces',data=df).fit()\n",
    "an=sm.stats.anova_lm(annova,typ=2)\n",
    "print(an.round(decimals=5))"
   ]
  },
  {
   "cell_type": "markdown",
   "id": "791e5233",
   "metadata": {},
   "source": [
    "'GarageCars'"
   ]
  },
  {
   "cell_type": "code",
   "execution_count": null,
   "id": "d09f4f14",
   "metadata": {},
   "outputs": [],
   "source": [
    "annova=ols('SalePrice ~ GarageCars',data=df).fit()\n",
    "an=sm.stats.anova_lm(annova,typ=2)\n",
    "print(an.round(decimals=5))"
   ]
  },
  {
   "cell_type": "code",
   "execution_count": null,
   "id": "24b5fee1",
   "metadata": {},
   "outputs": [],
   "source": [
    "tukey = pairwise_tukeyhsd(df.SalePrice,df. GarageCars,alpha=0.05)\n",
    "print (tukey)"
   ]
  },
  {
   "cell_type": "code",
   "execution_count": null,
   "id": "62449556",
   "metadata": {},
   "outputs": [],
   "source": [
    "df['GarageCars'].replace({4:1},inplace=True)"
   ]
  },
  {
   "cell_type": "code",
   "execution_count": null,
   "id": "55fb60d8",
   "metadata": {},
   "outputs": [],
   "source": [
    "tukey = pairwise_tukeyhsd(df.SalePrice,df. GarageCars,alpha=0.05)\n",
    "print (tukey)"
   ]
  },
  {
   "cell_type": "code",
   "execution_count": null,
   "id": "372e3207",
   "metadata": {},
   "outputs": [],
   "source": [
    "annova=ols('SalePrice ~ GarageCars',data=df).fit()\n",
    "an=sm.stats.anova_lm(annova,typ=2)\n",
    "print(an.round(decimals=5))"
   ]
  },
  {
   "cell_type": "markdown",
   "id": "a322af47",
   "metadata": {},
   "source": [
    "'3SsnPorch'"
   ]
  },
  {
   "cell_type": "code",
   "execution_count": null,
   "id": "e8ce6011",
   "metadata": {},
   "outputs": [],
   "source": [
    "annova=ols('SalePrice ~ 3SsnPorch',data=df).fit()\n",
    "an=sm.stats.anova_lm(annova,typ=2)\n",
    "print(an.round(decimals=5))"
   ]
  },
  {
   "cell_type": "code",
   "execution_count": null,
   "id": "73a40859",
   "metadata": {},
   "outputs": [],
   "source": [
    "df.drop(['3SsnPorch'],axis=1,inplace=True)"
   ]
  },
  {
   "cell_type": "markdown",
   "id": "e2c91cdd",
   "metadata": {},
   "source": [
    "'PoolArea'"
   ]
  },
  {
   "cell_type": "code",
   "execution_count": null,
   "id": "b62a5269",
   "metadata": {},
   "outputs": [],
   "source": [
    "annova=ols('SalePrice ~ PoolArea',data=df).fit()\n",
    "an=sm.stats.anova_lm(annova,typ=2)\n",
    "print(an.round(decimals=5))"
   ]
  },
  {
   "cell_type": "code",
   "execution_count": null,
   "id": "7c06612a",
   "metadata": {},
   "outputs": [],
   "source": [
    "tukey = pairwise_tukeyhsd(df.SalePrice,df.PoolArea,alpha=0.05)\n",
    "print (tukey)"
   ]
  },
  {
   "cell_type": "code",
   "execution_count": null,
   "id": "f040a53a",
   "metadata": {},
   "outputs": [],
   "source": [
    "df['PoolArea'].replace({480:0},inplace=True)\n",
    "df['PoolArea'].replace({512:0},inplace=True)\n",
    "df['PoolArea'].replace({519:0},inplace=True)\n",
    "df['PoolArea'].replace({555:0},inplace=True)\n",
    "df['PoolArea'].replace({576:0},inplace=True)\n",
    "df['PoolArea'].replace({648:0},inplace=True)\n",
    "df['PoolArea'].replace({738:0},inplace=True)\n"
   ]
  },
  {
   "cell_type": "code",
   "execution_count": null,
   "id": "e3954433",
   "metadata": {},
   "outputs": [],
   "source": [
    "tukey = pairwise_tukeyhsd(df.SalePrice,df.PoolArea,alpha=0.05)\n",
    "print (tukey)"
   ]
  },
  {
   "cell_type": "code",
   "execution_count": null,
   "id": "9512f1c3",
   "metadata": {},
   "outputs": [],
   "source": [
    "df['PoolArea'].value_counts()"
   ]
  },
  {
   "cell_type": "code",
   "execution_count": null,
   "id": "1dd5c4b5",
   "metadata": {},
   "outputs": [],
   "source": [
    "annova=ols('SalePrice ~ PoolArea',data=df).fit()\n",
    "an=sm.stats.anova_lm(annova,typ=2)\n",
    "print(an.round(decimals=5))"
   ]
  },
  {
   "cell_type": "markdown",
   "id": "34de8183",
   "metadata": {},
   "source": [
    "'MiscVal'"
   ]
  },
  {
   "cell_type": "code",
   "execution_count": null,
   "id": "1309f6a8",
   "metadata": {},
   "outputs": [],
   "source": [
    "annova=ols('SalePrice ~ MiscVal',data=df).fit()\n",
    "an=sm.stats.anova_lm(annova,typ=2)\n",
    "print(an.round(decimals=5))"
   ]
  },
  {
   "cell_type": "code",
   "execution_count": null,
   "id": "d92307cf",
   "metadata": {},
   "outputs": [],
   "source": [
    "#Dropping since p>0.05\n",
    "df.drop(['MiscVal'],axis=1,inplace=True)"
   ]
  },
  {
   "cell_type": "markdown",
   "id": "685034e7",
   "metadata": {},
   "source": [
    "'MoSold'"
   ]
  },
  {
   "cell_type": "code",
   "execution_count": null,
   "id": "d6f437ff",
   "metadata": {},
   "outputs": [],
   "source": [
    "annova=ols('SalePrice ~ MoSold',data=df).fit()\n",
    "an=sm.stats.anova_lm(annova,typ=2)\n",
    "print(an.round(decimals=5))"
   ]
  },
  {
   "cell_type": "code",
   "execution_count": null,
   "id": "a53ed6ea",
   "metadata": {},
   "outputs": [],
   "source": [
    "tukey = pairwise_tukeyhsd(df.SalePrice,df.MoSold,alpha=0.05)\n",
    "print (tukey)"
   ]
  },
  {
   "cell_type": "code",
   "execution_count": null,
   "id": "bfc03f0a",
   "metadata": {},
   "outputs": [],
   "source": [
    "df['MoSold'].replace({2:1},inplace=True)\n",
    "df['MoSold'].replace({3:1},inplace=True)\n",
    "df['MoSold'].replace({4:1},inplace=True)\n",
    "df['MoSold'].replace({5:1},inplace=True)\n",
    "df['MoSold'].replace({6:1},inplace=True)\n",
    "df['MoSold'].replace({7:1},inplace=True)\n",
    "df['MoSold'].replace({8:1},inplace=True)\n",
    "df['MoSold'].replace({9:1},inplace=True)\n",
    "df['MoSold'].replace({10:1},inplace=True)\n",
    "df['MoSold'].replace({11:1},inplace=True)\n",
    "df['MoSold'].replace({12:1},inplace=True)\n"
   ]
  },
  {
   "cell_type": "code",
   "execution_count": null,
   "id": "45eeb1ca",
   "metadata": {},
   "outputs": [],
   "source": [
    "tukey = pairwise_tukeyhsd(df.SalePrice,df.MoSold,alpha=0.05)\n",
    "print (tukey)"
   ]
  },
  {
   "cell_type": "code",
   "execution_count": null,
   "id": "e8fca441",
   "metadata": {},
   "outputs": [],
   "source": [
    "df['MoSold'].value_counts()"
   ]
  },
  {
   "cell_type": "code",
   "execution_count": null,
   "id": "3312aedd",
   "metadata": {},
   "outputs": [],
   "source": [
    "annova=ols('SalePrice ~ MoSold',data=df).fit()\n",
    "an=sm.stats.anova_lm(annova,typ=2)\n",
    "print(an.round(decimals=5))"
   ]
  },
  {
   "cell_type": "code",
   "execution_count": null,
   "id": "28e0d58c",
   "metadata": {},
   "outputs": [],
   "source": [
    "num_categorical_feature\n"
   ]
  },
  {
   "cell_type": "markdown",
   "id": "08453ae1",
   "metadata": {},
   "source": [
    "ANNOVA FOR CATEGORICAL FEATURES"
   ]
  },
  {
   "cell_type": "code",
   "execution_count": null,
   "id": "c58c3a20",
   "metadata": {},
   "outputs": [],
   "source": [
    "categorical_features"
   ]
  },
  {
   "cell_type": "markdown",
   "id": "ed02826f",
   "metadata": {},
   "source": [
    "'MSZoning'"
   ]
  },
  {
   "cell_type": "code",
   "execution_count": null,
   "id": "2f82a53f",
   "metadata": {},
   "outputs": [],
   "source": [
    "annova=ols('SalePrice ~ MSZoning',data=df).fit()\n",
    "an=sm.stats.anova_lm(annova,typ=2)\n",
    "print(an.round(decimals=5))"
   ]
  },
  {
   "cell_type": "code",
   "execution_count": null,
   "id": "c7830953",
   "metadata": {},
   "outputs": [],
   "source": [
    "tukey = pairwise_tukeyhsd(df.SalePrice,df. MSZoning,alpha=0.05)\n",
    "print (tukey)"
   ]
  },
  {
   "cell_type": "code",
   "execution_count": null,
   "id": "72b2b11b",
   "metadata": {},
   "outputs": [],
   "source": [
    "df['MSZoning'].replace({'RH':'C (all)'},inplace=True)\n",
    "df['MSZoning'].replace({'RM':'C (all)'},inplace=True)\n",
    "df['MSZoning'].replace({'RL':'FV'},inplace=True)"
   ]
  },
  {
   "cell_type": "code",
   "execution_count": null,
   "id": "09f28cbe",
   "metadata": {},
   "outputs": [],
   "source": [
    "tukey = pairwise_tukeyhsd(df.SalePrice,df. MSZoning,alpha=0.05)\n",
    "print (tukey)"
   ]
  },
  {
   "cell_type": "code",
   "execution_count": null,
   "id": "e715396f",
   "metadata": {},
   "outputs": [],
   "source": [
    "annova=ols('SalePrice ~ MSZoning',data=df).fit()\n",
    "an=sm.stats.anova_lm(annova,typ=2)\n",
    "print(an.round(decimals=5))"
   ]
  },
  {
   "cell_type": "markdown",
   "id": "281e76dc",
   "metadata": {},
   "source": [
    "'Street'"
   ]
  },
  {
   "cell_type": "code",
   "execution_count": null,
   "id": "60270c44",
   "metadata": {},
   "outputs": [],
   "source": [
    "annova=ols('SalePrice ~ Street',data=df).fit()\n",
    "an=sm.stats.anova_lm(annova,typ=2)\n",
    "print(an.round(decimals=5))"
   ]
  },
  {
   "cell_type": "code",
   "execution_count": null,
   "id": "cd9d4085",
   "metadata": {},
   "outputs": [],
   "source": [
    "df.drop(['Street'],axis=1,inplace=True)"
   ]
  },
  {
   "cell_type": "markdown",
   "id": "6669da77",
   "metadata": {},
   "source": [
    "LotShape"
   ]
  },
  {
   "cell_type": "code",
   "execution_count": null,
   "id": "0835ae76",
   "metadata": {},
   "outputs": [],
   "source": [
    "annova=ols('SalePrice ~ LotShape',data=df).fit()\n",
    "an=sm.stats.anova_lm(annova,typ=2)\n",
    "print(an.round(decimals=5))"
   ]
  },
  {
   "cell_type": "code",
   "execution_count": null,
   "id": "ac1ed7a0",
   "metadata": {},
   "outputs": [],
   "source": [
    "tukey = pairwise_tukeyhsd(df.SalePrice,df.LotShape,alpha=0.05)\n",
    "print (tukey)"
   ]
  },
  {
   "cell_type": "code",
   "execution_count": null,
   "id": "b1f734a1",
   "metadata": {},
   "outputs": [],
   "source": [
    "df['LotShape'].replace({'IR2':'IR1'},inplace=True)\n",
    "df['LotShape'].replace({'IR3':'IR1'},inplace=True)\n"
   ]
  },
  {
   "cell_type": "code",
   "execution_count": null,
   "id": "7d344942",
   "metadata": {},
   "outputs": [],
   "source": [
    "tukey = pairwise_tukeyhsd(df.SalePrice,df.LotShape,alpha=0.05)\n",
    "print (tukey)"
   ]
  },
  {
   "cell_type": "code",
   "execution_count": null,
   "id": "9ef7d386",
   "metadata": {},
   "outputs": [],
   "source": [
    "annova=ols('SalePrice ~ LotShape',data=df).fit()\n",
    "an=sm.stats.anova_lm(annova,typ=2)\n",
    "print(an.round(decimals=5))"
   ]
  },
  {
   "cell_type": "markdown",
   "id": "659e7e75",
   "metadata": {},
   "source": [
    " 'LandContour'"
   ]
  },
  {
   "cell_type": "code",
   "execution_count": null,
   "id": "cc0a6bdd",
   "metadata": {},
   "outputs": [],
   "source": [
    "annova=ols('SalePrice ~ LandContour',data=df).fit()\n",
    "an=sm.stats.anova_lm(annova,typ=2)\n",
    "print(an.round(decimals=5))"
   ]
  },
  {
   "cell_type": "code",
   "execution_count": null,
   "id": "d1aeda3e",
   "metadata": {},
   "outputs": [],
   "source": [
    "tukey = pairwise_tukeyhsd(df.SalePrice,df.LandContour,alpha=0.05)\n",
    "print (tukey)"
   ]
  },
  {
   "cell_type": "code",
   "execution_count": null,
   "id": "b7d7913e",
   "metadata": {},
   "outputs": [],
   "source": [
    "df['LandContour'].replace({'Low':'HLS'},inplace=True)"
   ]
  },
  {
   "cell_type": "code",
   "execution_count": null,
   "id": "e3dcf356",
   "metadata": {},
   "outputs": [],
   "source": [
    "tukey = pairwise_tukeyhsd(df.SalePrice,df.LandContour,alpha=0.05)\n",
    "print (tukey)"
   ]
  },
  {
   "cell_type": "code",
   "execution_count": null,
   "id": "60d31824",
   "metadata": {},
   "outputs": [],
   "source": [
    "annova=ols('SalePrice ~ LandContour',data=df).fit()\n",
    "an=sm.stats.anova_lm(annova,typ=2)\n",
    "print(an.round(decimals=5))"
   ]
  },
  {
   "cell_type": "markdown",
   "id": "ae904d34",
   "metadata": {},
   "source": [
    "'Utilities'"
   ]
  },
  {
   "cell_type": "code",
   "execution_count": null,
   "id": "b14da42d",
   "metadata": {},
   "outputs": [],
   "source": [
    "annova=ols('SalePrice ~ Utilities',data=df).fit()\n",
    "an=sm.stats.anova_lm(annova,typ=2)\n",
    "print(an.round(decimals=5))"
   ]
  },
  {
   "cell_type": "code",
   "execution_count": null,
   "id": "8a804f69",
   "metadata": {},
   "outputs": [],
   "source": [
    "df.drop(['Utilities'],axis=1,inplace=True)"
   ]
  },
  {
   "cell_type": "markdown",
   "id": "46a1912a",
   "metadata": {},
   "source": [
    "'LotConfig'"
   ]
  },
  {
   "cell_type": "code",
   "execution_count": null,
   "id": "dcea7c3b",
   "metadata": {},
   "outputs": [],
   "source": [
    "annova=ols('SalePrice ~ LotConfig',data=df).fit()\n",
    "an=sm.stats.anova_lm(annova,typ=2)\n",
    "print(an.round(decimals=5))"
   ]
  },
  {
   "cell_type": "code",
   "execution_count": null,
   "id": "da65c30f",
   "metadata": {},
   "outputs": [],
   "source": [
    "tukey = pairwise_tukeyhsd(df.SalePrice,df. LotConfig,alpha=0.05)\n",
    "print (tukey)"
   ]
  },
  {
   "cell_type": "code",
   "execution_count": null,
   "id": "ec91f0e5",
   "metadata": {},
   "outputs": [],
   "source": [
    "df['LotConfig'].replace({'FR2':'Corner'},inplace=True)\n",
    "df['LotConfig'].replace({'FR3':'Corner'},inplace=True)\n",
    "df['LotConfig'].replace({'Inside':'Corner'},inplace=True)\n"
   ]
  },
  {
   "cell_type": "code",
   "execution_count": null,
   "id": "0bc955df",
   "metadata": {},
   "outputs": [],
   "source": [
    "tukey = pairwise_tukeyhsd(df.SalePrice,df. LotConfig,alpha=0.05)\n",
    "print (tukey)"
   ]
  },
  {
   "cell_type": "code",
   "execution_count": null,
   "id": "561f3892",
   "metadata": {},
   "outputs": [],
   "source": [
    "annova=ols('SalePrice ~ LotConfig',data=df).fit()\n",
    "an=sm.stats.anova_lm(annova,typ=2)\n",
    "print(an.round(decimals=5))"
   ]
  },
  {
   "cell_type": "markdown",
   "id": "ae4fbb22",
   "metadata": {},
   "source": [
    "'LandSlope'"
   ]
  },
  {
   "cell_type": "code",
   "execution_count": null,
   "id": "6b212a9c",
   "metadata": {},
   "outputs": [],
   "source": [
    "annova=ols('SalePrice ~ LandSlope',data=df).fit()\n",
    "an=sm.stats.anova_lm(annova,typ=2)\n",
    "print(an.round(decimals=5))"
   ]
  },
  {
   "cell_type": "code",
   "execution_count": null,
   "id": "934b23c6",
   "metadata": {},
   "outputs": [],
   "source": [
    "tukey = pairwise_tukeyhsd(df.SalePrice,df. LandSlope,alpha=0.05)\n",
    "print (tukey)"
   ]
  },
  {
   "cell_type": "code",
   "execution_count": null,
   "id": "53d085d4",
   "metadata": {},
   "outputs": [],
   "source": [
    "df['LandSlope'].replace({'Mod':'Gtl'},inplace=True)\n",
    "df['LandSlope'].replace({'Sev':'Gtl'},inplace=True)"
   ]
  },
  {
   "cell_type": "code",
   "execution_count": null,
   "id": "4e58cbb3",
   "metadata": {},
   "outputs": [],
   "source": [
    "tukey = pairwise_tukeyhsd(df.SalePrice,df. LandSlope,alpha=0.05)\n",
    "print (tukey)"
   ]
  },
  {
   "cell_type": "code",
   "execution_count": null,
   "id": "5cac84d9",
   "metadata": {},
   "outputs": [],
   "source": [
    "df['LandSlope'].value_counts()"
   ]
  },
  {
   "cell_type": "code",
   "execution_count": null,
   "id": "183add1b",
   "metadata": {},
   "outputs": [],
   "source": [
    "annova=ols('SalePrice ~ LandSlope',data=df).fit()\n",
    "an=sm.stats.anova_lm(annova,typ=2)\n",
    "print(an.round(decimals=5))"
   ]
  },
  {
   "cell_type": "markdown",
   "id": "040f93a9",
   "metadata": {},
   "source": [
    "'Neighborhood'"
   ]
  },
  {
   "cell_type": "code",
   "execution_count": null,
   "id": "d66dc923",
   "metadata": {},
   "outputs": [],
   "source": [
    "annova=ols('SalePrice ~ Neighborhood',data=df).fit()\n",
    "an=sm.stats.anova_lm(annova,typ=2)\n",
    "print(an.round(decimals=5))"
   ]
  },
  {
   "cell_type": "code",
   "execution_count": null,
   "id": "2d19cae3",
   "metadata": {},
   "outputs": [],
   "source": [
    "tukey = pairwise_tukeyhsd(df.SalePrice,df.Neighborhood,alpha=0.05)\n",
    "print (tukey)"
   ]
  },
  {
   "cell_type": "code",
   "execution_count": null,
   "id": "3af1de89",
   "metadata": {},
   "outputs": [],
   "source": [
    "df['Neighborhood'].replace({'Blueste':'Blmngtn'},inplace=True)\n",
    "df['Neighborhood'].replace({'ClearCr':'Blmngtn'},inplace=True)\n",
    "df['Neighborhood'].replace({'CollgCr':'Blmngtn'},inplace=True)\n",
    "df['Neighborhood'].replace({'Crawfor':'Blmngtn'},inplace=True)\n",
    "df['Neighborhood'].replace({'Gilbert':'Blmngtn'},inplace=True)\n",
    "df['Neighborhood'].replace({'Mitchel':'Blmngtn'},inplace=True)\n",
    "df['Neighborhood'].replace({'NAmes':'Blmngtn'},inplace=True)\n",
    "df['Neighborhood'].replace({'NPkVill':'Blmngtn'},inplace=True)\n",
    "df['Neighborhood'].replace({'NWAmes':'Blmngtn'},inplace=True)\n",
    "df['Neighborhood'].replace({'SWISU':'Blmngtn'},inplace=True)\n",
    "df['Neighborhood'].replace({'SawyerW':'Blmngtn'},inplace=True)\n",
    "df['Neighborhood'].replace({'Somerst':'Blmngtn'},inplace=True)\n",
    "df['Neighborhood'].replace({'Timber':'Blmngtn'},inplace=True)\n",
    "df['Neighborhood'].replace({'Veenker':'Blmngtn'},inplace=True)\n",
    "\n",
    "df['Neighborhood'].replace({'BrkSide':'BrDale '},inplace=True)\n",
    "df['Neighborhood'].replace({'Edwards':'BrDale'},inplace=True)\n",
    "df['Neighborhood'].replace({'IDOTRR':'BrDale'},inplace=True)\n",
    "df['Neighborhood'].replace({'MeadowV':'BrDale'},inplace=True)\n",
    "df['Neighborhood'].replace({'OldTown':'BrDale'},inplace=True)\n",
    "df['Neighborhood'].replace({'Sawyer':'BrDale'},inplace=True)\n",
    " \n",
    "df['Neighborhood'].replace({'NridgHt':'NoRidge'},inplace=True)\n",
    "df['Neighborhood'].replace({'StoneBr':'NoRidge'},inplace=True)\n",
    "\n",
    "df['Neighborhood'].replace({'BrDale':'BrDale'},inplace=True)\n",
    "df['Neighborhood'].replace({'BrDale':' BrDale'},inplace=True)\n",
    "df['Neighborhood'].replace({'BrDale ':' BrDale'},inplace=True)\n"
   ]
  },
  {
   "cell_type": "code",
   "execution_count": null,
   "id": "0d6f614c",
   "metadata": {},
   "outputs": [],
   "source": [
    "tukey = pairwise_tukeyhsd(df.SalePrice,df.Neighborhood,alpha=0.05)\n",
    "print (tukey)"
   ]
  },
  {
   "cell_type": "code",
   "execution_count": null,
   "id": "f74bb7ca",
   "metadata": {},
   "outputs": [],
   "source": [
    "annova=ols('SalePrice ~ Neighborhood',data=df).fit()\n",
    "an=sm.stats.anova_lm(annova,typ=2)\n",
    "print(an.round(decimals=5))"
   ]
  },
  {
   "cell_type": "markdown",
   "id": "ea65a2b8",
   "metadata": {},
   "source": [
    "'Condition1'"
   ]
  },
  {
   "cell_type": "code",
   "execution_count": null,
   "id": "e61263b2",
   "metadata": {},
   "outputs": [],
   "source": [
    "annova=ols('SalePrice ~ Condition1',data=df).fit()\n",
    "an=sm.stats.anova_lm(annova,typ=2)\n",
    "print(an.round(decimals=5))"
   ]
  },
  {
   "cell_type": "code",
   "execution_count": null,
   "id": "3b763cd8",
   "metadata": {},
   "outputs": [],
   "source": [
    "tukey = pairwise_tukeyhsd(df.SalePrice,df.Condition1,alpha=0.05)\n",
    "print (tukey)"
   ]
  },
  {
   "cell_type": "code",
   "execution_count": null,
   "id": "d8d554e6",
   "metadata": {},
   "outputs": [],
   "source": [
    "df['Condition1'].replace({'Feedr':'Artery'},inplace=True)\n",
    "df['Condition1'].replace({'RRAe':'Artery'},inplace=True)\n",
    "df['Condition1'].replace({'RRAn':'Artery'},inplace=True)\n",
    "df['Condition1'].replace({'RRNe':'Artery'},inplace=True)\n",
    "df['Condition1'].replace({'RRNn':'Artery'},inplace=True)\n",
    "df['Condition1'].replace({'PosA':'Norm'},inplace=True)\n",
    "df['Condition1'].replace({'PosN':'Norm'},inplace=True)\n"
   ]
  },
  {
   "cell_type": "code",
   "execution_count": null,
   "id": "cb57222f",
   "metadata": {
    "scrolled": true
   },
   "outputs": [],
   "source": [
    "tukey = pairwise_tukeyhsd(df.SalePrice,df.Condition1,alpha=0.05)\n",
    "print (tukey)"
   ]
  },
  {
   "cell_type": "code",
   "execution_count": null,
   "id": "3ed0267a",
   "metadata": {},
   "outputs": [],
   "source": [
    "annova=ols('SalePrice ~ Condition1',data=df).fit()\n",
    "an=sm.stats.anova_lm(annova,typ=2)\n",
    "print(an.round(decimals=5))"
   ]
  },
  {
   "cell_type": "markdown",
   "id": "80ea4052",
   "metadata": {},
   "source": [
    "'Condition2'"
   ]
  },
  {
   "cell_type": "code",
   "execution_count": null,
   "id": "c9084dfe",
   "metadata": {},
   "outputs": [],
   "source": [
    "annova=ols('SalePrice ~ Condition2',data=df).fit()\n",
    "an=sm.stats.anova_lm(annova,typ=2)\n",
    "print(an.round(decimals=5))"
   ]
  },
  {
   "cell_type": "code",
   "execution_count": null,
   "id": "6aff25bc",
   "metadata": {},
   "outputs": [],
   "source": [
    "tukey = pairwise_tukeyhsd(df.SalePrice,df.Condition2,alpha=0.05)\n",
    "print (tukey)"
   ]
  },
  {
   "cell_type": "code",
   "execution_count": null,
   "id": "886e0a16",
   "metadata": {},
   "outputs": [],
   "source": [
    "df['Condition2'].replace({'Feedr':'Artery'},inplace=True)\n",
    "df['Condition2'].replace({'Norm':'Artery'},inplace=True)\n",
    "df['Condition2'].replace({'PosA':'Artery'},inplace=True)\n",
    "df['Condition2'].replace({'PosN':'Artery'},inplace=True)\n",
    "df['Condition2'].replace({'RRAe':'Artery'},inplace=True)\n",
    "df['Condition2'].replace({'RRAn':'Artery'},inplace=True)\n",
    "df['Condition2'].replace({'RRNn':'Artery'},inplace=True)"
   ]
  },
  {
   "cell_type": "code",
   "execution_count": null,
   "id": "cdab63f1",
   "metadata": {},
   "outputs": [],
   "source": [
    "tukey = pairwise_tukeyhsd(df.SalePrice,df.Condition2,alpha=0.05)\n",
    "print (tukey)"
   ]
  },
  {
   "cell_type": "code",
   "execution_count": null,
   "id": "c9ddd649",
   "metadata": {},
   "outputs": [],
   "source": [
    "df['Condition2'].value_counts()"
   ]
  },
  {
   "cell_type": "code",
   "execution_count": null,
   "id": "540dc0a3",
   "metadata": {},
   "outputs": [],
   "source": [
    "annova=ols('SalePrice ~ Condition2',data=df).fit()\n",
    "an=sm.stats.anova_lm(annova,typ=2)\n",
    "print(an.round(decimals=5))"
   ]
  },
  {
   "cell_type": "markdown",
   "id": "c806e331",
   "metadata": {},
   "source": [
    "'BldgType'"
   ]
  },
  {
   "cell_type": "code",
   "execution_count": null,
   "id": "a62ea376",
   "metadata": {},
   "outputs": [],
   "source": [
    "annova=ols('SalePrice ~ BldgType',data=df).fit()\n",
    "an=sm.stats.anova_lm(annova,typ=2)\n",
    "print(an.round(decimals=5))"
   ]
  },
  {
   "cell_type": "code",
   "execution_count": null,
   "id": "72f400b9",
   "metadata": {},
   "outputs": [],
   "source": [
    "tukey = pairwise_tukeyhsd(df.SalePrice,df.BldgType,alpha=0.05)\n",
    "print (tukey)"
   ]
  },
  {
   "cell_type": "code",
   "execution_count": null,
   "id": "3c39f397",
   "metadata": {},
   "outputs": [],
   "source": [
    "df['BldgType'].replace({'TwnhsE':'1Fam'},inplace=True)\n",
    "\n",
    "df['BldgType'].replace({'Duplex':'2fmCon '},inplace=True)\n",
    "df['BldgType'].replace({'Twnhs':'2fmCon '},inplace=True)\n",
    "df['BldgType'].replace({'2fmCon ':'2fmCon'},inplace=True)"
   ]
  },
  {
   "cell_type": "code",
   "execution_count": null,
   "id": "e8a4e07a",
   "metadata": {},
   "outputs": [],
   "source": [
    "tukey = pairwise_tukeyhsd(df.SalePrice,df.BldgType,alpha=0.05)\n",
    "print (tukey)"
   ]
  },
  {
   "cell_type": "code",
   "execution_count": null,
   "id": "8bd31974",
   "metadata": {},
   "outputs": [],
   "source": [
    "annova=ols('SalePrice ~ BldgType',data=df).fit()\n",
    "an=sm.stats.anova_lm(annova,typ=2)\n",
    "print(an.round(decimals=5))"
   ]
  },
  {
   "cell_type": "markdown",
   "id": "21a0a181",
   "metadata": {},
   "source": [
    "'HouseStyle'"
   ]
  },
  {
   "cell_type": "code",
   "execution_count": null,
   "id": "e6258563",
   "metadata": {},
   "outputs": [],
   "source": [
    "annova=ols('SalePrice ~ HouseStyle',data=df).fit()\n",
    "an=sm.stats.anova_lm(annova,typ=2)\n",
    "print(an.round(decimals=5))"
   ]
  },
  {
   "cell_type": "code",
   "execution_count": null,
   "id": "fbcef76e",
   "metadata": {},
   "outputs": [],
   "source": [
    "tukey = pairwise_tukeyhsd(df.SalePrice,df.HouseStyle,alpha=0.05)\n",
    "print (tukey)"
   ]
  },
  {
   "cell_type": "code",
   "execution_count": null,
   "id": "69ebbea4",
   "metadata": {},
   "outputs": [],
   "source": [
    "df['HouseStyle'].replace({'1.5Unf':'1.5Fin'},inplace=True)\n",
    "df['HouseStyle'].replace({'2.5Fin':'1.5Fin'},inplace=True)\n",
    "df['HouseStyle'].replace({'2.5Unf':'1.5Fin'},inplace=True)\n",
    "df['HouseStyle'].replace({'SFoyer':'1.5Fin'},inplace=True)\n",
    "df['HouseStyle'].replace({'SLvl':'1.5Fin'},inplace=True)\n"
   ]
  },
  {
   "cell_type": "code",
   "execution_count": null,
   "id": "b4ca5a90",
   "metadata": {},
   "outputs": [],
   "source": [
    "tukey = pairwise_tukeyhsd(df.SalePrice,df.HouseStyle,alpha=0.05)\n",
    "print (tukey)"
   ]
  },
  {
   "cell_type": "code",
   "execution_count": null,
   "id": "7246c70e",
   "metadata": {},
   "outputs": [],
   "source": [
    "annova=ols('SalePrice ~ HouseStyle',data=df).fit()\n",
    "an=sm.stats.anova_lm(annova,typ=2)\n",
    "print(an.round(decimals=5))"
   ]
  },
  {
   "cell_type": "markdown",
   "id": "fc10995c",
   "metadata": {},
   "source": [
    "'RoofStyle'"
   ]
  },
  {
   "cell_type": "code",
   "execution_count": null,
   "id": "24141b39",
   "metadata": {},
   "outputs": [],
   "source": [
    "annova=ols('SalePrice ~ RoofStyle',data=df).fit()\n",
    "an=sm.stats.anova_lm(annova,typ=2)\n",
    "print(an.round(decimals=5))"
   ]
  },
  {
   "cell_type": "code",
   "execution_count": null,
   "id": "063b8e45",
   "metadata": {},
   "outputs": [],
   "source": [
    "tukey = pairwise_tukeyhsd(df.SalePrice,df.RoofStyle,alpha=0.05)\n",
    "print (tukey)"
   ]
  },
  {
   "cell_type": "code",
   "execution_count": null,
   "id": "eb1d3339",
   "metadata": {},
   "outputs": [],
   "source": [
    "df['RoofStyle'].replace({'Gable':'Flat'},inplace=True)\n",
    "df['RoofStyle'].replace({'Gambrel':'Flat'},inplace=True)\n",
    "df['RoofStyle'].replace({'Hip':'Flat'},inplace=True)\n",
    "df['RoofStyle'].replace({'Mansard':'Flat'},inplace=True)\n",
    "df['RoofStyle'].replace({'Shed':'Flat'},inplace=True)"
   ]
  },
  {
   "cell_type": "code",
   "execution_count": null,
   "id": "29e796a5",
   "metadata": {},
   "outputs": [],
   "source": [
    "tukey = pairwise_tukeyhsd(df.SalePrice,df.RoofStyle,alpha=0.05)\n",
    "print (tukey)"
   ]
  },
  {
   "cell_type": "code",
   "execution_count": null,
   "id": "4062e590",
   "metadata": {},
   "outputs": [],
   "source": [
    "df['RoofStyle'].value_counts()"
   ]
  },
  {
   "cell_type": "code",
   "execution_count": null,
   "id": "f46bc4d2",
   "metadata": {},
   "outputs": [],
   "source": [
    "annova=ols('SalePrice ~ RoofStyle',data=df).fit()\n",
    "an=sm.stats.anova_lm(annova,typ=2)\n",
    "print(an.round(decimals=5))"
   ]
  },
  {
   "cell_type": "markdown",
   "id": "bbed913e",
   "metadata": {},
   "source": [
    "'RoofMatl"
   ]
  },
  {
   "cell_type": "code",
   "execution_count": null,
   "id": "087e7cb5",
   "metadata": {},
   "outputs": [],
   "source": [
    "annova=ols('SalePrice ~ RoofMatl',data=df).fit()\n",
    "an=sm.stats.anova_lm(annova,typ=2)\n",
    "print(an.round(decimals=5))"
   ]
  },
  {
   "cell_type": "code",
   "execution_count": null,
   "id": "68779dbf",
   "metadata": {},
   "outputs": [],
   "source": [
    "tukey = pairwise_tukeyhsd(df.SalePrice,df.RoofMatl,alpha=0.05)\n",
    "print (tukey)"
   ]
  },
  {
   "cell_type": "code",
   "execution_count": null,
   "id": "133f473a",
   "metadata": {},
   "outputs": [],
   "source": [
    "df['RoofMatl'].replace({'CompShg':'ClyTile'},inplace=True)\n",
    "df['RoofMatl'].replace({'Membran':'ClyTile'},inplace=True)\n",
    "df['RoofMatl'].replace({'Metal':'ClyTile'},inplace=True)\n",
    "df['RoofMatl'].replace({'Roll':'ClyTile'},inplace=True)\n",
    "df['RoofMatl'].replace({'Tar&Grv':'ClyTile'},inplace=True)\n",
    "df['RoofMatl'].replace({'WdShake':'ClyTile'},inplace=True)\n",
    "df['RoofMatl'].replace({'WdShngl':'ClyTile'},inplace=True)"
   ]
  },
  {
   "cell_type": "code",
   "execution_count": null,
   "id": "76889958",
   "metadata": {},
   "outputs": [],
   "source": [
    "tukey = pairwise_tukeyhsd(df.SalePrice,df.RoofMatl,alpha=0.05)\n",
    "print (tukey)"
   ]
  },
  {
   "cell_type": "code",
   "execution_count": null,
   "id": "f7bf93be",
   "metadata": {},
   "outputs": [],
   "source": [
    "df['RoofMatl'].value_counts()"
   ]
  },
  {
   "cell_type": "code",
   "execution_count": null,
   "id": "ca9f824c",
   "metadata": {},
   "outputs": [],
   "source": [
    "tukey = pairwise_tukeyhsd(df.SalePrice,df.RoofMatl,alpha=0.05)\n",
    "print (tukey)"
   ]
  },
  {
   "cell_type": "code",
   "execution_count": null,
   "id": "53ffa21e",
   "metadata": {},
   "outputs": [],
   "source": [
    "annova=ols('SalePrice ~ RoofMatl',data=df).fit()\n",
    "an=sm.stats.anova_lm(annova,typ=2)\n",
    "print(an.round(decimals=5))"
   ]
  },
  {
   "cell_type": "markdown",
   "id": "372cf840",
   "metadata": {},
   "source": [
    "'Exterior1st'"
   ]
  },
  {
   "cell_type": "code",
   "execution_count": null,
   "id": "af6735ab",
   "metadata": {},
   "outputs": [],
   "source": [
    "annova=ols('SalePrice ~ Exterior1st',data=df).fit()\n",
    "an=sm.stats.anova_lm(annova,typ=2)\n",
    "print(an.round(decimals=5))"
   ]
  },
  {
   "cell_type": "code",
   "execution_count": null,
   "id": "5a4b5ad9",
   "metadata": {},
   "outputs": [],
   "source": [
    "tukey = pairwise_tukeyhsd(df.SalePrice,df.Exterior1st,alpha=0.05)\n",
    "print (tukey)"
   ]
  },
  {
   "cell_type": "code",
   "execution_count": null,
   "id": "afc2ae8f",
   "metadata": {},
   "outputs": [],
   "source": [
    "df['Exterior1st'].replace({'BrkComm':'AsbShng'},inplace=True)\n",
    "df['Exterior1st'].replace({'CBlock':'AsbShng'},inplace=True)\n",
    "df['Exterior1st'].replace({'HdBoard':'AsbShng'},inplace=True)\n",
    "df['Exterior1st'].replace({'ImStucc':'AsbShng'},inplace=True)\n",
    "df['Exterior1st'].replace({'MetalSd':'AsbShng'},inplace=True)\n",
    "df['Exterior1st'].replace({'Plywood':'AsbShng'},inplace=True)\n",
    "df['Exterior1st'].replace({'Stone':'AsbShng'},inplace=True)\n",
    "df['Exterior1st'].replace({'Stucco':'AsbShng'},inplace=True)\n",
    "df['Exterior1st'].replace({'Wd Sdng':'AsbShng'},inplace=True)\n",
    "df['Exterior1st'].replace({'WdShing':'AsbShng'},inplace=True)\n",
    "\n",
    "df['Exterior1st'].replace({'VinylSd':'BrkFace'},inplace=True)"
   ]
  },
  {
   "cell_type": "code",
   "execution_count": null,
   "id": "c89a3690",
   "metadata": {},
   "outputs": [],
   "source": [
    "tukey = pairwise_tukeyhsd(df.SalePrice,df.Exterior1st,alpha=0.05)\n",
    "print (tukey)"
   ]
  },
  {
   "cell_type": "code",
   "execution_count": null,
   "id": "d764f50a",
   "metadata": {},
   "outputs": [],
   "source": [
    "annova=ols('SalePrice ~ Exterior1st',data=df).fit()\n",
    "an=sm.stats.anova_lm(annova,typ=2)\n",
    "print(an.round(decimals=5))"
   ]
  },
  {
   "cell_type": "markdown",
   "id": "dad57137",
   "metadata": {},
   "source": [
    "'Exterior2nd'"
   ]
  },
  {
   "cell_type": "code",
   "execution_count": null,
   "id": "18ee4e93",
   "metadata": {},
   "outputs": [],
   "source": [
    "annova=ols('SalePrice ~ Exterior2nd',data=df).fit()\n",
    "an=sm.stats.anova_lm(annova,typ=2)\n",
    "print(an.round(decimals=5))"
   ]
  },
  {
   "cell_type": "code",
   "execution_count": null,
   "id": "0340d4ca",
   "metadata": {
    "scrolled": true
   },
   "outputs": [],
   "source": [
    "tukey = pairwise_tukeyhsd(df.SalePrice,df.Exterior2nd,alpha=0.05)\n",
    "print (tukey)"
   ]
  },
  {
   "cell_type": "code",
   "execution_count": null,
   "id": "ead19b7c",
   "metadata": {},
   "outputs": [],
   "source": [
    "df['Exterior2nd'].replace({'AsphShn':'AsbShng'},inplace=True)\n",
    "df['Exterior2nd'].replace({'Brk Cmn':'AsbShng'},inplace=True)\n",
    "df['Exterior2nd'].replace({'CBlock':'AsbShng'},inplace=True)\n",
    "df['Exterior2nd'].replace({'HdBoard':'AsbShng'},inplace=True)\n",
    "df['Exterior2nd'].replace({'MetalSd':'AsbShng'},inplace=True)\n",
    "df['Exterior2nd'].replace({'Other':'AsbShng'},inplace=True)\n",
    "df['Exterior2nd'].replace({'Stone':'AsbShng'},inplace=True)\n",
    "df['Exterior2nd'].replace({'Stucco':'AsbShng'},inplace=True)\n",
    "df['Exterior2nd'].replace({'Wd Sdng':'AsbShng'},inplace=True)\n",
    "df['Exterior2nd'].replace({'Wd Shng':'AsbShng'},inplace=True)\n",
    "\n",
    "df['Exterior2nd'].replace({'BrkFace':'AsbShng'},inplace=True)\n",
    "df['Exterior2nd'].replace({'ImStucc':'AsbShng'},inplace=True)\n",
    "\n",
    "df['Exterior2nd'].replace({'VinylSd':'CmentBd'},inplace=True)\n"
   ]
  },
  {
   "cell_type": "code",
   "execution_count": null,
   "id": "5516887a",
   "metadata": {},
   "outputs": [],
   "source": [
    "tukey = pairwise_tukeyhsd(df.SalePrice,df.Exterior2nd,alpha=0.05)\n",
    "print (tukey)"
   ]
  },
  {
   "cell_type": "code",
   "execution_count": null,
   "id": "baf0de70",
   "metadata": {},
   "outputs": [],
   "source": [
    "annova=ols('SalePrice ~ Exterior2nd',data=df).fit()\n",
    "an=sm.stats.anova_lm(annova,typ=2)\n",
    "print(an.round(decimals=5))"
   ]
  },
  {
   "cell_type": "markdown",
   "id": "de378e55",
   "metadata": {},
   "source": [
    "'MasVnrType'"
   ]
  },
  {
   "cell_type": "code",
   "execution_count": null,
   "id": "5175bd7d",
   "metadata": {},
   "outputs": [],
   "source": [
    "annova=ols('SalePrice ~ MasVnrType',data=df).fit()\n",
    "an=sm.stats.anova_lm(annova,typ=2)\n",
    "print(an.round(decimals=5))"
   ]
  },
  {
   "cell_type": "code",
   "execution_count": null,
   "id": "2328b879",
   "metadata": {},
   "outputs": [],
   "source": [
    "tukey = pairwise_tukeyhsd(df.SalePrice,df.MasVnrType,alpha=0.05)\n",
    "print (tukey)"
   ]
  },
  {
   "cell_type": "code",
   "execution_count": null,
   "id": "96d95584",
   "metadata": {},
   "outputs": [],
   "source": [
    "df['MasVnrType'].replace({'None':'BrkCmn'},inplace=True)\n",
    "\n",
    "df['MasVnrType'].replace({'nan':'BrkFace'},inplace=True)\n"
   ]
  },
  {
   "cell_type": "code",
   "execution_count": null,
   "id": "2f2f9831",
   "metadata": {},
   "outputs": [],
   "source": [
    "tukey = pairwise_tukeyhsd(df.SalePrice,df.MasVnrType,alpha=0.05)\n",
    "print (tukey)"
   ]
  },
  {
   "cell_type": "code",
   "execution_count": null,
   "id": "a96d655f",
   "metadata": {},
   "outputs": [],
   "source": [
    "annova=ols('SalePrice ~ MasVnrType',data=df).fit()\n",
    "an=sm.stats.anova_lm(annova,typ=2)\n",
    "print(an.round(decimals=5))"
   ]
  },
  {
   "cell_type": "markdown",
   "id": "e2901f4a",
   "metadata": {},
   "source": [
    "'ExterQual'"
   ]
  },
  {
   "cell_type": "code",
   "execution_count": null,
   "id": "10de9939",
   "metadata": {},
   "outputs": [],
   "source": [
    "annova=ols('SalePrice ~ ExterQual',data=df).fit()\n",
    "an=sm.stats.anova_lm(annova,typ=2)\n",
    "print(an.round(decimals=5))"
   ]
  },
  {
   "cell_type": "code",
   "execution_count": null,
   "id": "e0421742",
   "metadata": {},
   "outputs": [],
   "source": [
    "tukey = pairwise_tukeyhsd(df.SalePrice,df.ExterQual,alpha=0.05)\n",
    "print (tukey)"
   ]
  },
  {
   "cell_type": "markdown",
   "id": "e6cc3ea2",
   "metadata": {},
   "source": [
    "'ExterCond'"
   ]
  },
  {
   "cell_type": "code",
   "execution_count": null,
   "id": "950056d1",
   "metadata": {},
   "outputs": [],
   "source": [
    "annova=ols('SalePrice ~ ExterCond',data=df).fit()\n",
    "an=sm.stats.anova_lm(annova,typ=2)\n",
    "print(an.round(decimals=5))"
   ]
  },
  {
   "cell_type": "code",
   "execution_count": null,
   "id": "9d72853b",
   "metadata": {},
   "outputs": [],
   "source": [
    "tukey = pairwise_tukeyhsd(df.SalePrice,df.ExterCond,alpha=0.05)\n",
    "print (tukey)"
   ]
  },
  {
   "cell_type": "code",
   "execution_count": null,
   "id": "5f10e586",
   "metadata": {},
   "outputs": [],
   "source": [
    "df['ExterCond'].replace({'Gd':'Ex'},inplace=True)\n",
    "df['ExterCond'].replace({'TA':'Ex'},inplace=True)"
   ]
  },
  {
   "cell_type": "code",
   "execution_count": null,
   "id": "a8fe3399",
   "metadata": {},
   "outputs": [],
   "source": [
    "tukey = pairwise_tukeyhsd(df.SalePrice,df.ExterCond,alpha=0.05)\n",
    "print (tukey)"
   ]
  },
  {
   "cell_type": "code",
   "execution_count": null,
   "id": "d3fbfec1",
   "metadata": {},
   "outputs": [],
   "source": [
    "annova=ols('SalePrice ~ ExterCond',data=df).fit()\n",
    "an=sm.stats.anova_lm(annova,typ=2)\n",
    "print(an.round(decimals=5))"
   ]
  },
  {
   "cell_type": "markdown",
   "id": "d473e6f3",
   "metadata": {},
   "source": [
    "'Foundation'"
   ]
  },
  {
   "cell_type": "code",
   "execution_count": null,
   "id": "03b14b61",
   "metadata": {},
   "outputs": [],
   "source": [
    "annova=ols('SalePrice ~ Foundation',data=df).fit()\n",
    "an=sm.stats.anova_lm(annova,typ=2)\n",
    "print(an.round(decimals=5))"
   ]
  },
  {
   "cell_type": "code",
   "execution_count": null,
   "id": "d2239ad1",
   "metadata": {},
   "outputs": [],
   "source": [
    "tukey = pairwise_tukeyhsd(df.SalePrice,df.Foundation,alpha=0.05)\n",
    "print (tukey)"
   ]
  },
  {
   "cell_type": "code",
   "execution_count": null,
   "id": "1745e35f",
   "metadata": {},
   "outputs": [],
   "source": [
    "df['Foundation'].replace({'CBlock':'BrkTil'},inplace=True)\n",
    "df['Foundation'].replace({'Slab':'BrkTil'},inplace=True)\n",
    "df['Foundation'].replace({'Stone':'BrkTil'},inplace=True)\n",
    "df['Foundation'].replace({'Wood':'BrkTil'},inplace=True)\n"
   ]
  },
  {
   "cell_type": "code",
   "execution_count": null,
   "id": "aa35670a",
   "metadata": {},
   "outputs": [],
   "source": [
    "tukey = pairwise_tukeyhsd(df.SalePrice,df.Foundation,alpha=0.05)\n",
    "print (tukey)"
   ]
  },
  {
   "cell_type": "code",
   "execution_count": null,
   "id": "e7184a7f",
   "metadata": {},
   "outputs": [],
   "source": [
    "annova=ols('SalePrice ~ Foundation',data=df).fit()\n",
    "an=sm.stats.anova_lm(annova,typ=2)\n",
    "print(an.round(decimals=5))"
   ]
  },
  {
   "cell_type": "markdown",
   "id": "f08646dc",
   "metadata": {},
   "source": [
    "'BsmtQual'"
   ]
  },
  {
   "cell_type": "code",
   "execution_count": null,
   "id": "e23e5cda",
   "metadata": {},
   "outputs": [],
   "source": [
    "annova=ols('SalePrice ~ BsmtQual',data=df).fit()\n",
    "an=sm.stats.anova_lm(annova,typ=2)\n",
    "print(an.round(decimals=5))"
   ]
  },
  {
   "cell_type": "code",
   "execution_count": null,
   "id": "0b0c5734",
   "metadata": {},
   "outputs": [],
   "source": [
    "tukey = pairwise_tukeyhsd(df.SalePrice,df.BsmtQual,alpha=0.05)\n",
    "print (tukey)"
   ]
  },
  {
   "cell_type": "markdown",
   "id": "3ceb22a5",
   "metadata": {},
   "source": [
    "'BsmtCond'"
   ]
  },
  {
   "cell_type": "code",
   "execution_count": null,
   "id": "f63055e4",
   "metadata": {},
   "outputs": [],
   "source": [
    "annova=ols('SalePrice ~ BsmtCond',data=df).fit()\n",
    "an=sm.stats.anova_lm(annova,typ=2)\n",
    "print(an.round(decimals=5))"
   ]
  },
  {
   "cell_type": "code",
   "execution_count": null,
   "id": "13311136",
   "metadata": {},
   "outputs": [],
   "source": [
    "tukey = pairwise_tukeyhsd(df.SalePrice,df.BsmtCond,alpha=0.05)\n",
    "print (tukey)"
   ]
  },
  {
   "cell_type": "code",
   "execution_count": null,
   "id": "0d286037",
   "metadata": {},
   "outputs": [],
   "source": [
    "df['BsmtCond'].replace({'Po':'Fa'},inplace=True)\n"
   ]
  },
  {
   "cell_type": "code",
   "execution_count": null,
   "id": "a5995dce",
   "metadata": {},
   "outputs": [],
   "source": [
    "tukey = pairwise_tukeyhsd(df.SalePrice,df.BsmtCond,alpha=0.05)\n",
    "print (tukey)"
   ]
  },
  {
   "cell_type": "code",
   "execution_count": null,
   "id": "0fbc8ae5",
   "metadata": {},
   "outputs": [],
   "source": [
    "annova=ols('SalePrice ~ BsmtCond',data=df).fit()\n",
    "an=sm.stats.anova_lm(annova,typ=2)\n",
    "print(an.round(decimals=5))"
   ]
  },
  {
   "cell_type": "markdown",
   "id": "aea4f149",
   "metadata": {},
   "source": [
    "'BsmtExposure'"
   ]
  },
  {
   "cell_type": "code",
   "execution_count": null,
   "id": "adad8c31",
   "metadata": {},
   "outputs": [],
   "source": [
    "annova=ols('SalePrice ~ BsmtExposure',data=df).fit()\n",
    "an=sm.stats.anova_lm(annova,typ=2)\n",
    "print(an.round(decimals=5))"
   ]
  },
  {
   "cell_type": "code",
   "execution_count": null,
   "id": "b7d5f444",
   "metadata": {},
   "outputs": [],
   "source": [
    "tukey = pairwise_tukeyhsd(df.SalePrice,df.BsmtExposure,alpha=0.05)\n",
    "print (tukey)"
   ]
  },
  {
   "cell_type": "code",
   "execution_count": null,
   "id": "f774af57",
   "metadata": {},
   "outputs": [],
   "source": [
    "df['BsmtExposure'].replace({'Mn':'Av'},inplace=True)"
   ]
  },
  {
   "cell_type": "code",
   "execution_count": null,
   "id": "e75b5497",
   "metadata": {},
   "outputs": [],
   "source": [
    "tukey = pairwise_tukeyhsd(df.SalePrice,df.BsmtExposure,alpha=0.05)\n",
    "print (tukey)"
   ]
  },
  {
   "cell_type": "code",
   "execution_count": null,
   "id": "857f4d8e",
   "metadata": {},
   "outputs": [],
   "source": [
    "annova=ols('SalePrice ~ BsmtExposure',data=df).fit()\n",
    "an=sm.stats.anova_lm(annova,typ=2)\n",
    "print(an.round(decimals=5))"
   ]
  },
  {
   "cell_type": "code",
   "execution_count": null,
   "id": "4b4a1b76",
   "metadata": {},
   "outputs": [],
   "source": [
    "'BsmtFinType1'"
   ]
  },
  {
   "cell_type": "code",
   "execution_count": null,
   "id": "656df1b7",
   "metadata": {},
   "outputs": [],
   "source": [
    "annova=ols('SalePrice ~ BsmtFinType1',data=df).fit()\n",
    "an=sm.stats.anova_lm(annova,typ=2)\n",
    "print(an.round(decimals=5))"
   ]
  },
  {
   "cell_type": "code",
   "execution_count": null,
   "id": "7e959fad",
   "metadata": {},
   "outputs": [],
   "source": [
    "tukey = pairwise_tukeyhsd(df.SalePrice,df.BsmtFinType1,alpha=0.05)\n",
    "print (tukey)"
   ]
  },
  {
   "cell_type": "code",
   "execution_count": null,
   "id": "0730f407",
   "metadata": {},
   "outputs": [],
   "source": [
    "df['BsmtFinType1'].replace({'BLQ':'ALQ'},inplace=True)\n",
    "df['BsmtFinType1'].replace({'LwQ':'ALQ'},inplace=True)\n",
    "df['BsmtFinType1'].replace({'Rec':'ALQ'},inplace=True)\n",
    "df['BsmtFinType1'].replace({'Unf':'ALQ'},inplace=True)"
   ]
  },
  {
   "cell_type": "code",
   "execution_count": null,
   "id": "0d0ef504",
   "metadata": {},
   "outputs": [],
   "source": [
    "tukey = pairwise_tukeyhsd(df.SalePrice,df.BsmtFinType1,alpha=0.05)\n",
    "print (tukey)"
   ]
  },
  {
   "cell_type": "code",
   "execution_count": null,
   "id": "298abc1e",
   "metadata": {},
   "outputs": [],
   "source": [
    "annova=ols('SalePrice ~ BsmtFinType1',data=df).fit()\n",
    "an=sm.stats.anova_lm(annova,typ=2)\n",
    "print(an.round(decimals=5))"
   ]
  },
  {
   "cell_type": "markdown",
   "id": "49ce7613",
   "metadata": {},
   "source": [
    "'BsmtFinType2'"
   ]
  },
  {
   "cell_type": "code",
   "execution_count": null,
   "id": "104d9851",
   "metadata": {},
   "outputs": [],
   "source": [
    "annova=ols('SalePrice ~ BsmtFinType2',data=df).fit()\n",
    "an=sm.stats.anova_lm(annova,typ=2)\n",
    "print(an.round(decimals=5))"
   ]
  },
  {
   "cell_type": "code",
   "execution_count": null,
   "id": "a63f622e",
   "metadata": {},
   "outputs": [],
   "source": [
    "tukey = pairwise_tukeyhsd(df.SalePrice,df.BsmtFinType2,alpha=0.05)\n",
    "print (tukey)"
   ]
  },
  {
   "cell_type": "code",
   "execution_count": null,
   "id": "401c2740",
   "metadata": {},
   "outputs": [],
   "source": [
    "df['BsmtFinType2'].replace({'BLQ':'ALQ'},inplace=True)\n",
    "df['BsmtFinType2'].replace({'GLQ':'ALQ'},inplace=True)\n",
    "df['BsmtFinType2'].replace({'LwQ':'ALQ'},inplace=True)\n",
    "df['BsmtFinType2'].replace({'Rec':'ALQ'},inplace=True)\n",
    "df['BsmtFinType2'].replace({'Unf':'ALQ'},inplace=True)"
   ]
  },
  {
   "cell_type": "code",
   "execution_count": null,
   "id": "f8472cc9",
   "metadata": {},
   "outputs": [],
   "source": [
    "tukey = pairwise_tukeyhsd(df.SalePrice,df.BsmtFinType2,alpha=0.05)\n",
    "print (tukey)"
   ]
  },
  {
   "cell_type": "code",
   "execution_count": null,
   "id": "0e80ee0e",
   "metadata": {},
   "outputs": [],
   "source": [
    "df['BsmtFinType2'].value_counts()"
   ]
  },
  {
   "cell_type": "code",
   "execution_count": null,
   "id": "7f126a1d",
   "metadata": {},
   "outputs": [],
   "source": [
    "annova=ols('SalePrice ~ BsmtFinType2',data=df).fit()\n",
    "an=sm.stats.anova_lm(annova,typ=2)\n",
    "print(an.round(decimals=5))"
   ]
  },
  {
   "cell_type": "markdown",
   "id": "3a04bb1b",
   "metadata": {},
   "source": [
    "'Heating'"
   ]
  },
  {
   "cell_type": "code",
   "execution_count": null,
   "id": "0ac11ee2",
   "metadata": {},
   "outputs": [],
   "source": [
    "annova=ols('SalePrice ~ Heating',data=df).fit()\n",
    "an=sm.stats.anova_lm(annova,typ=2)\n",
    "print(an.round(decimals=5))"
   ]
  },
  {
   "cell_type": "code",
   "execution_count": null,
   "id": "8cc73362",
   "metadata": {},
   "outputs": [],
   "source": [
    "tukey = pairwise_tukeyhsd(df.SalePrice,df.Heating,alpha=0.05)\n",
    "print (tukey)"
   ]
  },
  {
   "cell_type": "code",
   "execution_count": null,
   "id": "599572cd",
   "metadata": {},
   "outputs": [],
   "source": [
    "df['Heating'].replace({'GasA':'Floor'},inplace=True)\n",
    "df['Heating'].replace({'GasW':'Floor'},inplace=True)\n",
    "df['Heating'].replace({'Grav':'Floor'},inplace=True)\n",
    "df['Heating'].replace({'OthW':'Floor'},inplace=True)\n",
    "df['Heating'].replace({'Wall':'Floor'},inplace=True)"
   ]
  },
  {
   "cell_type": "code",
   "execution_count": null,
   "id": "b1f11993",
   "metadata": {},
   "outputs": [],
   "source": [
    "tukey = pairwise_tukeyhsd(df.SalePrice,df.Heating,alpha=0.05)\n",
    "print (tukey)"
   ]
  },
  {
   "cell_type": "code",
   "execution_count": null,
   "id": "5ad3b3fd",
   "metadata": {},
   "outputs": [],
   "source": [
    "df['Heating'].value_counts()"
   ]
  },
  {
   "cell_type": "markdown",
   "id": "d6290fdb",
   "metadata": {},
   "source": [
    "'HeatingQC'"
   ]
  },
  {
   "cell_type": "code",
   "execution_count": null,
   "id": "1015b593",
   "metadata": {},
   "outputs": [],
   "source": [
    "annova=ols('SalePrice ~ HeatingQC',data=df).fit()\n",
    "an=sm.stats.anova_lm(annova,typ=2)\n",
    "print(an.round(decimals=5))"
   ]
  },
  {
   "cell_type": "code",
   "execution_count": null,
   "id": "67acfb72",
   "metadata": {},
   "outputs": [],
   "source": [
    "tukey = pairwise_tukeyhsd(df.SalePrice,df.HeatingQC,alpha=0.05)\n",
    "print (tukey)"
   ]
  },
  {
   "cell_type": "code",
   "execution_count": null,
   "id": "95b4e54c",
   "metadata": {},
   "outputs": [],
   "source": [
    "df['HeatingQC'].replace({'Po':'Ex'},inplace=True)\n",
    "df['HeatingQC'].replace({'Gd':'Fa'},inplace=True)\n",
    "df['HeatingQC'].replace({'TA':'Fa'},inplace=True)"
   ]
  },
  {
   "cell_type": "code",
   "execution_count": null,
   "id": "afa65e34",
   "metadata": {},
   "outputs": [],
   "source": [
    "tukey = pairwise_tukeyhsd(df.SalePrice,df.HeatingQC,alpha=0.05)\n",
    "print (tukey)"
   ]
  },
  {
   "cell_type": "code",
   "execution_count": null,
   "id": "e031b9b3",
   "metadata": {},
   "outputs": [],
   "source": [
    "annova=ols('SalePrice ~ HeatingQC',data=df).fit()\n",
    "an=sm.stats.anova_lm(annova,typ=2)\n",
    "print(an.round(decimals=5))"
   ]
  },
  {
   "cell_type": "markdown",
   "id": "d42d1765",
   "metadata": {},
   "source": [
    " 'CentralAir'"
   ]
  },
  {
   "cell_type": "code",
   "execution_count": null,
   "id": "bd680551",
   "metadata": {},
   "outputs": [],
   "source": [
    "annova=ols('SalePrice ~ CentralAir',data=df).fit()\n",
    "an=sm.stats.anova_lm(annova,typ=2)\n",
    "print(an.round(decimals=5))"
   ]
  },
  {
   "cell_type": "code",
   "execution_count": null,
   "id": "33ef9363",
   "metadata": {},
   "outputs": [],
   "source": [
    "tukey = pairwise_tukeyhsd(df.SalePrice,df.CentralAir,alpha=0.05)\n",
    "print (tukey)"
   ]
  },
  {
   "cell_type": "markdown",
   "id": "1d893c2d",
   "metadata": {},
   "source": [
    " 'Electrical'"
   ]
  },
  {
   "cell_type": "code",
   "execution_count": null,
   "id": "6e710e9a",
   "metadata": {},
   "outputs": [],
   "source": [
    "annova=ols('SalePrice ~ Electrical',data=df).fit()\n",
    "an=sm.stats.anova_lm(annova,typ=2)\n",
    "print(an.round(decimals=5))"
   ]
  },
  {
   "cell_type": "code",
   "execution_count": null,
   "id": "6d626749",
   "metadata": {},
   "outputs": [],
   "source": [
    "tukey = pairwise_tukeyhsd(df.SalePrice,df.Electrical,alpha=0.05)\n",
    "print (tukey)"
   ]
  },
  {
   "cell_type": "code",
   "execution_count": null,
   "id": "f3f2c925",
   "metadata": {},
   "outputs": [],
   "source": [
    "df['Electrical'].replace({'FuseF':'FuseA'},inplace=True)\n",
    "df['Electrical'].replace({'FuseP':'FuseA'},inplace=True)\n",
    "df['Electrical'].replace({'Mix':'FuseA'},inplace=True)"
   ]
  },
  {
   "cell_type": "code",
   "execution_count": null,
   "id": "dd735627",
   "metadata": {},
   "outputs": [],
   "source": [
    "tukey = pairwise_tukeyhsd(df.SalePrice,df.Electrical,alpha=0.05)\n",
    "print (tukey)"
   ]
  },
  {
   "cell_type": "code",
   "execution_count": null,
   "id": "a3932a49",
   "metadata": {},
   "outputs": [],
   "source": [
    "annova=ols('SalePrice ~ Electrical',data=df).fit()\n",
    "an=sm.stats.anova_lm(annova,typ=2)\n",
    "print(an.round(decimals=5))"
   ]
  },
  {
   "cell_type": "markdown",
   "id": "90961553",
   "metadata": {},
   "source": [
    "'KitchenQual'"
   ]
  },
  {
   "cell_type": "code",
   "execution_count": null,
   "id": "18cdde1f",
   "metadata": {},
   "outputs": [],
   "source": [
    "annova=ols('SalePrice ~ KitchenQual',data=df).fit()\n",
    "an=sm.stats.anova_lm(annova,typ=2)\n",
    "print(an.round(decimals=5))"
   ]
  },
  {
   "cell_type": "code",
   "execution_count": null,
   "id": "6d67d954",
   "metadata": {},
   "outputs": [],
   "source": [
    "tukey = pairwise_tukeyhsd(df.SalePrice,df.KitchenQual,alpha=0.05)\n",
    "print (tukey)"
   ]
  },
  {
   "cell_type": "markdown",
   "id": "f41db810",
   "metadata": {},
   "source": [
    "'Functional'"
   ]
  },
  {
   "cell_type": "code",
   "execution_count": null,
   "id": "f2177178",
   "metadata": {},
   "outputs": [],
   "source": [
    "annova=ols('SalePrice ~ Functional',data=df).fit()\n",
    "an=sm.stats.anova_lm(annova,typ=2)\n",
    "print(an.round(decimals=5))"
   ]
  },
  {
   "cell_type": "code",
   "execution_count": null,
   "id": "5541f704",
   "metadata": {
    "scrolled": true
   },
   "outputs": [],
   "source": [
    "tukey = pairwise_tukeyhsd(df.SalePrice,df.Functional,alpha=0.05)\n",
    "print (tukey)"
   ]
  },
  {
   "cell_type": "code",
   "execution_count": null,
   "id": "a35ba941",
   "metadata": {},
   "outputs": [],
   "source": [
    "df['Functional'].replace({'Maj2':'Maj1'},inplace=True)\n",
    "df['Functional'].replace({'Min1':'Maj1'},inplace=True)\n",
    "df['Functional'].replace({'Min2':'Maj1'},inplace=True)\n",
    "df['Functional'].replace({'Mod':'Maj1'},inplace=True)\n",
    "df['Functional'].replace({'Sev':'Maj1'},inplace=True)\n",
    "df['Functional'].replace({'Typ':'Maj1'},inplace=True)"
   ]
  },
  {
   "cell_type": "code",
   "execution_count": null,
   "id": "f3bfc4ed",
   "metadata": {},
   "outputs": [],
   "source": [
    "tukey = pairwise_tukeyhsd(df.SalePrice,df.Functional,alpha=0.05)\n",
    "print (tukey)"
   ]
  },
  {
   "cell_type": "code",
   "execution_count": null,
   "id": "6148e701",
   "metadata": {},
   "outputs": [],
   "source": [
    "df['Functional'].value_counts()"
   ]
  },
  {
   "cell_type": "markdown",
   "id": "62ac9e70",
   "metadata": {},
   "source": [
    " 'FireplaceQu'"
   ]
  },
  {
   "cell_type": "code",
   "execution_count": null,
   "id": "e598f169",
   "metadata": {},
   "outputs": [],
   "source": [
    "annova=ols('SalePrice ~ FireplaceQu',data=df).fit()\n",
    "an=sm.stats.anova_lm(annova,typ=2)\n",
    "print(an.round(decimals=5))"
   ]
  },
  {
   "cell_type": "code",
   "execution_count": null,
   "id": "6cc206c0",
   "metadata": {},
   "outputs": [],
   "source": [
    "tukey = pairwise_tukeyhsd(df.SalePrice,df.FireplaceQu,alpha=0.05)\n",
    "print (tukey)"
   ]
  },
  {
   "cell_type": "code",
   "execution_count": null,
   "id": "53aba36b",
   "metadata": {},
   "outputs": [],
   "source": [
    "df['FireplaceQu'].replace({'Gd':'Fa'},inplace=True)\n",
    "df['FireplaceQu'].replace({'Po':'Fa'},inplace=True)"
   ]
  },
  {
   "cell_type": "code",
   "execution_count": null,
   "id": "62adc4ed",
   "metadata": {},
   "outputs": [],
   "source": [
    "tukey = pairwise_tukeyhsd(df.SalePrice,df.FireplaceQu,alpha=0.05)\n",
    "print (tukey)"
   ]
  },
  {
   "cell_type": "code",
   "execution_count": null,
   "id": "15950e8c",
   "metadata": {},
   "outputs": [],
   "source": [
    "annova=ols('SalePrice ~ FireplaceQu',data=df).fit()\n",
    "an=sm.stats.anova_lm(annova,typ=2)\n",
    "print(an.round(decimals=5))"
   ]
  },
  {
   "cell_type": "markdown",
   "id": "3de3bc07",
   "metadata": {},
   "source": [
    " 'GarageType'"
   ]
  },
  {
   "cell_type": "code",
   "execution_count": null,
   "id": "82e5e84e",
   "metadata": {},
   "outputs": [],
   "source": [
    "annova=ols('SalePrice ~ GarageType',data=df).fit()\n",
    "an=sm.stats.anova_lm(annova,typ=2)\n",
    "print(an.round(decimals=5))"
   ]
  },
  {
   "cell_type": "code",
   "execution_count": null,
   "id": "b4b09f42",
   "metadata": {},
   "outputs": [],
   "source": [
    "tukey = pairwise_tukeyhsd(df.SalePrice,df.GarageType,alpha=0.05)\n",
    "print (tukey)"
   ]
  },
  {
   "cell_type": "code",
   "execution_count": null,
   "id": "64507856",
   "metadata": {},
   "outputs": [],
   "source": [
    "df['GarageType'].replace({'Attchd':'2Types'},inplace=True)\n",
    "df['GarageType'].replace({'Basment':'2Types'},inplace=True)\n",
    "df['GarageType'].replace({'CarPort':'2Types'},inplace=True)\n",
    "df['GarageType'].replace({'Detchd':'2Types'},inplace=True)"
   ]
  },
  {
   "cell_type": "code",
   "execution_count": null,
   "id": "80778bdb",
   "metadata": {},
   "outputs": [],
   "source": [
    "tukey = pairwise_tukeyhsd(df.SalePrice,df.GarageType,alpha=0.05)\n",
    "print (tukey)"
   ]
  },
  {
   "cell_type": "code",
   "execution_count": null,
   "id": "434918b0",
   "metadata": {},
   "outputs": [],
   "source": [
    "annova=ols('SalePrice ~ GarageType',data=df).fit()\n",
    "an=sm.stats.anova_lm(annova,typ=2)\n",
    "print(an.round(decimals=5))"
   ]
  },
  {
   "cell_type": "markdown",
   "id": "ec500525",
   "metadata": {},
   "source": [
    "'GarageFinish'"
   ]
  },
  {
   "cell_type": "code",
   "execution_count": null,
   "id": "46082388",
   "metadata": {},
   "outputs": [],
   "source": [
    "annova=ols('SalePrice ~ GarageFinish',data=df).fit()\n",
    "an=sm.stats.anova_lm(annova,typ=2)\n",
    "print(an.round(decimals=5))"
   ]
  },
  {
   "cell_type": "code",
   "execution_count": null,
   "id": "56c571db",
   "metadata": {},
   "outputs": [],
   "source": [
    "tukey = pairwise_tukeyhsd(df.SalePrice,df.GarageFinish,alpha=0.05)\n",
    "print (tukey)"
   ]
  },
  {
   "cell_type": "markdown",
   "id": "1eb57f70",
   "metadata": {},
   "source": [
    " 'GarageQual'"
   ]
  },
  {
   "cell_type": "code",
   "execution_count": null,
   "id": "9b9dbfeb",
   "metadata": {},
   "outputs": [],
   "source": [
    "annova=ols('SalePrice ~ GarageQual',data=df).fit()\n",
    "an=sm.stats.anova_lm(annova,typ=2)\n",
    "print(an.round(decimals=5))"
   ]
  },
  {
   "cell_type": "code",
   "execution_count": null,
   "id": "0aa7b842",
   "metadata": {},
   "outputs": [],
   "source": [
    "tukey = pairwise_tukeyhsd(df.SalePrice,df.GarageQual,alpha=0.05)\n",
    "print (tukey)"
   ]
  },
  {
   "cell_type": "code",
   "execution_count": null,
   "id": "2f98025d",
   "metadata": {},
   "outputs": [],
   "source": [
    "df['GarageQual'].replace({'Fa':'Ex'},inplace=True)\n",
    "df['GarageQual'].replace({'Gd':'Ex'},inplace=True)\n",
    "df['GarageQual'].replace({'Po':'Ex'},inplace=True)\n",
    "df['GarageQual'].replace({'TA':'Ex'},inplace=True)"
   ]
  },
  {
   "cell_type": "code",
   "execution_count": null,
   "id": "bb0037ea",
   "metadata": {},
   "outputs": [],
   "source": [
    "tukey = pairwise_tukeyhsd(df.SalePrice,df.GarageQual,alpha=0.05)\n",
    "print (tukey)"
   ]
  },
  {
   "cell_type": "code",
   "execution_count": null,
   "id": "39aed890",
   "metadata": {},
   "outputs": [],
   "source": [
    "df['GarageQual'].value_counts()"
   ]
  },
  {
   "cell_type": "markdown",
   "id": "bcf5e0c6",
   "metadata": {},
   "source": [
    " 'GarageCond'"
   ]
  },
  {
   "cell_type": "code",
   "execution_count": null,
   "id": "fd128522",
   "metadata": {},
   "outputs": [],
   "source": [
    "annova=ols('SalePrice ~ GarageCond',data=df).fit()\n",
    "an=sm.stats.anova_lm(annova,typ=2)\n",
    "print(an.round(decimals=5))"
   ]
  },
  {
   "cell_type": "code",
   "execution_count": null,
   "id": "fee6ec70",
   "metadata": {},
   "outputs": [],
   "source": [
    "tukey = pairwise_tukeyhsd(df.SalePrice,df.GarageCond,alpha=0.05)\n",
    "print (tukey)"
   ]
  },
  {
   "cell_type": "code",
   "execution_count": null,
   "id": "c0172b39",
   "metadata": {},
   "outputs": [],
   "source": [
    "df['GarageCond'].replace({'Fa':'Ex'},inplace=True)\n",
    "df['GarageCond'].replace({'Gd':'Ex'},inplace=True)\n",
    "df['GarageCond'].replace({'Po':'Ex'},inplace=True)\n",
    "df['GarageCond'].replace({'TA':'Ex'},inplace=True)"
   ]
  },
  {
   "cell_type": "code",
   "execution_count": null,
   "id": "0dde6b1f",
   "metadata": {},
   "outputs": [],
   "source": [
    "tukey = pairwise_tukeyhsd(df.SalePrice,df.GarageCond,alpha=0.05)\n",
    "print (tukey)"
   ]
  },
  {
   "cell_type": "code",
   "execution_count": null,
   "id": "5e5977ed",
   "metadata": {},
   "outputs": [],
   "source": [
    "df['GarageCond'].value_counts()"
   ]
  },
  {
   "cell_type": "markdown",
   "id": "e105de28",
   "metadata": {},
   "source": [
    " 'PavedDrive'"
   ]
  },
  {
   "cell_type": "code",
   "execution_count": null,
   "id": "906c33c2",
   "metadata": {},
   "outputs": [],
   "source": [
    "annova=ols('SalePrice ~ PavedDrive',data=df).fit()\n",
    "an=sm.stats.anova_lm(annova,typ=2)\n",
    "print(an.round(decimals=5))"
   ]
  },
  {
   "cell_type": "code",
   "execution_count": null,
   "id": "7603249d",
   "metadata": {},
   "outputs": [],
   "source": [
    "tukey = pairwise_tukeyhsd(df.SalePrice,df.PavedDrive,alpha=0.05)\n",
    "print (tukey)"
   ]
  },
  {
   "cell_type": "code",
   "execution_count": null,
   "id": "0c0a369b",
   "metadata": {},
   "outputs": [],
   "source": [
    "df['PavedDrive'].replace({'P':'N'},inplace=True)"
   ]
  },
  {
   "cell_type": "code",
   "execution_count": null,
   "id": "a8f36613",
   "metadata": {},
   "outputs": [],
   "source": [
    "tukey = pairwise_tukeyhsd(df.SalePrice,df.PavedDrive,alpha=0.05)\n",
    "print (tukey)"
   ]
  },
  {
   "cell_type": "code",
   "execution_count": null,
   "id": "14e9fbe2",
   "metadata": {},
   "outputs": [],
   "source": [
    "annova=ols('SalePrice ~ PavedDrive',data=df).fit()\n",
    "an=sm.stats.anova_lm(annova,typ=2)\n",
    "print(an.round(decimals=5))"
   ]
  },
  {
   "cell_type": "markdown",
   "id": "9c3bb2c4",
   "metadata": {},
   "source": [
    " 'SaleType'"
   ]
  },
  {
   "cell_type": "code",
   "execution_count": null,
   "id": "69f80667",
   "metadata": {},
   "outputs": [],
   "source": [
    "annova=ols('SalePrice ~ SaleType',data=df).fit()\n",
    "an=sm.stats.anova_lm(annova,typ=2)\n",
    "print(an.round(decimals=5))"
   ]
  },
  {
   "cell_type": "code",
   "execution_count": null,
   "id": "d5565db0",
   "metadata": {
    "scrolled": true
   },
   "outputs": [],
   "source": [
    "tukey = pairwise_tukeyhsd(df.SalePrice,df.SaleType,alpha=0.05)\n",
    "print (tukey)"
   ]
  },
  {
   "cell_type": "code",
   "execution_count": null,
   "id": "05703686",
   "metadata": {},
   "outputs": [],
   "source": [
    "df['SaleType'].replace({'CWD':'COD'},inplace=True)\n",
    "df['SaleType'].replace({'Con':'COD'},inplace=True)\n",
    "df['SaleType'].replace({'ConLD':'COD'},inplace=True)\n",
    "df['SaleType'].replace({'ConLI':'COD'},inplace=True)\n",
    "df['SaleType'].replace({'ConLw':'COD'},inplace=True)\n",
    "df['SaleType'].replace({'Oth':'COD'},inplace=True)\n",
    "df['SaleType'].replace({'WD':'COD'},inplace=True)"
   ]
  },
  {
   "cell_type": "code",
   "execution_count": null,
   "id": "cde4be35",
   "metadata": {},
   "outputs": [],
   "source": [
    "tukey = pairwise_tukeyhsd(df.SalePrice,df.SaleType,alpha=0.05)\n",
    "print (tukey)"
   ]
  },
  {
   "cell_type": "code",
   "execution_count": null,
   "id": "574011df",
   "metadata": {},
   "outputs": [],
   "source": [
    "annova=ols('SalePrice ~ SaleType',data=df).fit()\n",
    "an=sm.stats.anova_lm(annova,typ=2)\n",
    "print(an.round(decimals=5))"
   ]
  },
  {
   "cell_type": "markdown",
   "id": "a4abcb27",
   "metadata": {},
   "source": [
    " 'SaleCondition'"
   ]
  },
  {
   "cell_type": "code",
   "execution_count": null,
   "id": "11a7636b",
   "metadata": {},
   "outputs": [],
   "source": [
    "annova=ols('SalePrice ~ SaleCondition',data=df).fit()\n",
    "an=sm.stats.anova_lm(annova,typ=2)\n",
    "print(an.round(decimals=5))"
   ]
  },
  {
   "cell_type": "code",
   "execution_count": null,
   "id": "8fa83f6a",
   "metadata": {},
   "outputs": [],
   "source": [
    "tukey = pairwise_tukeyhsd(df.SalePrice,df.SaleCondition,alpha=0.05)\n",
    "print (tukey)"
   ]
  },
  {
   "cell_type": "code",
   "execution_count": null,
   "id": "3b6efdb4",
   "metadata": {},
   "outputs": [],
   "source": [
    "df['SaleCondition'].replace({'AdjLand':'Abnorml'},inplace=True)\n",
    "df['SaleCondition'].replace({'Alloca':'Abnorml'},inplace=True)\n",
    "df['SaleCondition'].replace({'Family':'Abnorml'},inplace=True)"
   ]
  },
  {
   "cell_type": "code",
   "execution_count": null,
   "id": "3c1aa8bb",
   "metadata": {},
   "outputs": [],
   "source": [
    "tukey = pairwise_tukeyhsd(df.SalePrice,df.SaleCondition,alpha=0.05)\n",
    "print (tukey)"
   ]
  },
  {
   "cell_type": "code",
   "execution_count": null,
   "id": "a001d02d",
   "metadata": {},
   "outputs": [],
   "source": [
    "annova=ols('SalePrice ~ SaleCondition',data=df).fit()\n",
    "an=sm.stats.anova_lm(annova,typ=2)\n",
    "print(an.round(decimals=5))"
   ]
  },
  {
   "cell_type": "code",
   "execution_count": null,
   "id": "bd56335a",
   "metadata": {
    "scrolled": true
   },
   "outputs": [],
   "source": [
    "df.info()"
   ]
  },
  {
   "cell_type": "code",
   "execution_count": null,
   "id": "d7e29bc2",
   "metadata": {},
   "outputs": [],
   "source": [
    "df.columns"
   ]
  },
  {
   "cell_type": "markdown",
   "id": "3c62a3c6",
   "metadata": {},
   "source": [
    "FITTING INTO MODEL TO CHECK P VALUES OF THE REMAINING COLUMNS"
   ]
  },
  {
   "cell_type": "code",
   "execution_count": null,
   "id": "70005f8b",
   "metadata": {},
   "outputs": [],
   "source": [
    "#transforming dependent variable(SalePrice) to make it near normal distribution\n",
    "df['SalePrice']=df['SalePrice'].transform(np.sqrt)"
   ]
  },
  {
   "cell_type": "code",
   "execution_count": null,
   "id": "8c1dbb7c",
   "metadata": {},
   "outputs": [],
   "source": [
    "#Running Linear regression \n",
    "model_1=smf.ols(formula='SalePrice~ MSSubClass+MSZoning+LotFrontage+LotArea+LotShape+LandContour+LotConfig+LandSlope+Neighborhood+Condition1+Condition2+BldgType+HouseStyle+OverallQual+OverallCond+YearBuilt+YearRemodAdd+RoofStyle+RoofMatl+Exterior1st+Exterior2nd+MasVnrType+MasVnrArea+ExterQual+ExterCond+Foundation+BsmtQual+BsmtCond+BsmtExposure+BsmtFinType1+BsmtFinSF1+BsmtFinType2+TotalBsmtSF+Heating+HeatingQC+CentralAir+Electrical+1stFlrSF+2ndFlrSF+LowQualFinSF+GrLivArea+BsmtFullBath+FullBath+HalfBath+BedroomAbvGr+KitchenAbvGr+KitchenQual+TotRmsAbvGrd+Functional+Fireplaces+FireplaceQu+GarageType+GarageYrBlt+GarageCars+GarageArea+GarageQual+GarageCond+PavedDrive+WoodDeckSF+OpenPorchSF+PoolArea+MoSold+YrSold+SaleType+SaleCondition',data=df).fit()\n",
    "print(model_1.summary())\n"
   ]
  },
  {
   "cell_type": "code",
   "execution_count": null,
   "id": "357c4bf4",
   "metadata": {},
   "outputs": [],
   "source": [
    "#dropping column '1stFlrSF'and'2ndFlrSF'\n",
    "df.drop(['1stFlrSF','2ndFlrSF'],axis=1,inplace=True)"
   ]
  },
  {
   "cell_type": "code",
   "execution_count": null,
   "id": "1e7ccdb7",
   "metadata": {
    "scrolled": false
   },
   "outputs": [],
   "source": [
    "#Running Linear regression \n",
    "model_1=smf.ols(formula='SalePrice~ MSSubClass+MSZoning+LotFrontage+LotArea+LotShape+LandContour+LotConfig+LandSlope+Neighborhood+Condition1+Condition2+BldgType+HouseStyle+OverallQual+OverallCond+YearBuilt+YearRemodAdd+RoofStyle+RoofMatl+Exterior1st+Exterior2nd+MasVnrType+MasVnrArea+ExterQual+ExterCond+Foundation+BsmtQual+BsmtCond+BsmtExposure+BsmtFinType1+BsmtFinSF1+BsmtFinType2+TotalBsmtSF+Heating+HeatingQC+CentralAir+Electrical+GrLivArea+BsmtFullBath+FullBath+HalfBath+BedroomAbvGr+KitchenAbvGr+KitchenQual+TotRmsAbvGrd+Functional+Fireplaces+FireplaceQu+GarageType+GarageYrBlt+GarageCars+GarageArea+GarageQual+GarageCond+PavedDrive+WoodDeckSF+OpenPorchSF+PoolArea+MoSold+YrSold+SaleType+SaleCondition',data=df).fit()\n",
    "print(model_1.summary())\n"
   ]
  },
  {
   "cell_type": "markdown",
   "id": "244c8614",
   "metadata": {},
   "source": [
    "#replacing values for columns whose p>0.05"
   ]
  },
  {
   "cell_type": "code",
   "execution_count": null,
   "id": "ddf0a593",
   "metadata": {},
   "outputs": [],
   "source": [
    "#LotShape[T.Reg]=0.511 "
   ]
  },
  {
   "cell_type": "code",
   "execution_count": null,
   "id": "4fb1ba74",
   "metadata": {},
   "outputs": [],
   "source": [
    "df['LotShape'].value_counts()"
   ]
  },
  {
   "cell_type": "code",
   "execution_count": null,
   "id": "19e8bc2c",
   "metadata": {},
   "outputs": [],
   "source": [
    "df['LotShape'].replace({'Reg':'IR1'},inplace=True)"
   ]
  },
  {
   "cell_type": "code",
   "execution_count": null,
   "id": "6173db4f",
   "metadata": {},
   "outputs": [],
   "source": [
    "df['LotShape'].value_counts()"
   ]
  },
  {
   "cell_type": "code",
   "execution_count": null,
   "id": "bc1e4a74",
   "metadata": {},
   "outputs": [],
   "source": [
    "#LandContour[T.Lvl]=0.097"
   ]
  },
  {
   "cell_type": "code",
   "execution_count": null,
   "id": "ffc16be8",
   "metadata": {},
   "outputs": [],
   "source": [
    "df['LandContour'].value_counts()"
   ]
  },
  {
   "cell_type": "code",
   "execution_count": null,
   "id": "91d52e1b",
   "metadata": {},
   "outputs": [],
   "source": [
    "df['LandContour'].replace({'Lvl':'Bnk'},inplace=True)"
   ]
  },
  {
   "cell_type": "code",
   "execution_count": null,
   "id": "9a6d4752",
   "metadata": {},
   "outputs": [],
   "source": [
    "df['LandContour'].value_counts()"
   ]
  },
  {
   "cell_type": "code",
   "execution_count": null,
   "id": "fdfff71d",
   "metadata": {},
   "outputs": [],
   "source": [
    "annova=ols('SalePrice ~ LandContour',data=df).fit()\n",
    "an=sm.stats.anova_lm(annova,typ=2)\n",
    "print(an.round(decimals=5))"
   ]
  },
  {
   "cell_type": "code",
   "execution_count": null,
   "id": "6a8ccc36",
   "metadata": {},
   "outputs": [],
   "source": [
    "tukey = pairwise_tukeyhsd(df.SalePrice,df.LandContour,alpha=0.05)\n",
    "print (tukey)"
   ]
  },
  {
   "cell_type": "code",
   "execution_count": null,
   "id": "d4c025f1",
   "metadata": {},
   "outputs": [],
   "source": [
    "#HouseStyle[T.1Story]=0.571\n",
    "#HouseStyle[T.2Story]=0.170"
   ]
  },
  {
   "cell_type": "code",
   "execution_count": null,
   "id": "fc783dd5",
   "metadata": {},
   "outputs": [],
   "source": [
    "df['HouseStyle'].value_counts()"
   ]
  },
  {
   "cell_type": "code",
   "execution_count": null,
   "id": "5ff2b092",
   "metadata": {},
   "outputs": [],
   "source": [
    "df['HouseStyle'].replace({'1Story':'1.5Fin'},inplace=True)\n",
    "df['HouseStyle'].replace({'2Story':'1.5Fin'},inplace=True)"
   ]
  },
  {
   "cell_type": "code",
   "execution_count": null,
   "id": "29e7ce0c",
   "metadata": {},
   "outputs": [],
   "source": [
    "df['HouseStyle'].value_counts()"
   ]
  },
  {
   "cell_type": "code",
   "execution_count": null,
   "id": "cdea3e9a",
   "metadata": {},
   "outputs": [],
   "source": [
    "#Exterior2nd[T.Plywood]=0.332 "
   ]
  },
  {
   "cell_type": "code",
   "execution_count": null,
   "id": "0d840e9e",
   "metadata": {},
   "outputs": [],
   "source": [
    "df['Exterior2nd'].value_counts()"
   ]
  },
  {
   "cell_type": "code",
   "execution_count": null,
   "id": "a120cddc",
   "metadata": {},
   "outputs": [],
   "source": [
    "df['Exterior2nd'].replace({'Plywood':'AsbShng'},inplace=True)"
   ]
  },
  {
   "cell_type": "code",
   "execution_count": null,
   "id": "f839afb7",
   "metadata": {},
   "outputs": [],
   "source": [
    "df['Exterior2nd'].value_counts()"
   ]
  },
  {
   "cell_type": "code",
   "execution_count": null,
   "id": "aa0b3d3f",
   "metadata": {},
   "outputs": [],
   "source": [
    "annova=ols('SalePrice ~ Exterior2nd',data=df).fit()\n",
    "an=sm.stats.anova_lm(annova,typ=2)\n",
    "print(an.round(decimals=5))"
   ]
  },
  {
   "cell_type": "code",
   "execution_count": null,
   "id": "20048459",
   "metadata": {},
   "outputs": [],
   "source": [
    "tukey = pairwise_tukeyhsd(df.SalePrice,df.Exterior2nd,alpha=0.05)\n",
    "print (tukey)"
   ]
  },
  {
   "cell_type": "code",
   "execution_count": null,
   "id": "85085720",
   "metadata": {},
   "outputs": [],
   "source": [
    "#MasVnrType[T.BrkFace]=0.790 \n",
    "#MasVnrType[T.Stone]=0.305"
   ]
  },
  {
   "cell_type": "code",
   "execution_count": null,
   "id": "97364873",
   "metadata": {},
   "outputs": [],
   "source": [
    "df['MasVnrType'].value_counts()"
   ]
  },
  {
   "cell_type": "code",
   "execution_count": null,
   "id": "ece045f0",
   "metadata": {},
   "outputs": [],
   "source": [
    "df['MasVnrType'].replace({'BrkFace':'BrkCmn'},inplace=True)\n",
    "df['MasVnrType'].replace({'Stone':'BrkCmn'},inplace=True)"
   ]
  },
  {
   "cell_type": "code",
   "execution_count": null,
   "id": "e21f6932",
   "metadata": {},
   "outputs": [],
   "source": [
    "df['MasVnrType'].value_counts()"
   ]
  },
  {
   "cell_type": "code",
   "execution_count": null,
   "id": "9969c200",
   "metadata": {},
   "outputs": [],
   "source": [
    "#ExterQual[T.Fa]=0.410\n",
    "#ExterQual[T.Gd]=0.257\n",
    "#ExterQual[T.TA]=0.653"
   ]
  },
  {
   "cell_type": "code",
   "execution_count": null,
   "id": "f1b5dcbd",
   "metadata": {},
   "outputs": [],
   "source": [
    "df['ExterQual'].value_counts()"
   ]
  },
  {
   "cell_type": "code",
   "execution_count": null,
   "id": "6d415476",
   "metadata": {},
   "outputs": [],
   "source": [
    "df['ExterQual'].replace({'Fa':'Ex'},inplace=True)\n",
    "df['ExterQual'].replace({'Gd':'Ex'},inplace=True)\n",
    "df['ExterQual'].replace({'TA':'Ex'},inplace=True)"
   ]
  },
  {
   "cell_type": "code",
   "execution_count": null,
   "id": "e00e1754",
   "metadata": {},
   "outputs": [],
   "source": [
    "df['ExterQual'].value_counts()"
   ]
  },
  {
   "cell_type": "code",
   "execution_count": null,
   "id": "6a529f97",
   "metadata": {},
   "outputs": [],
   "source": [
    "#ExterCond[T.Fa]=0.308"
   ]
  },
  {
   "cell_type": "code",
   "execution_count": null,
   "id": "cdad1932",
   "metadata": {},
   "outputs": [],
   "source": [
    "df['ExterCond'].value_counts()"
   ]
  },
  {
   "cell_type": "code",
   "execution_count": null,
   "id": "d29fd8c2",
   "metadata": {},
   "outputs": [],
   "source": [
    "df['ExterCond'].replace({'Fa':'Ex'},inplace=True)"
   ]
  },
  {
   "cell_type": "code",
   "execution_count": null,
   "id": "e7e1f445",
   "metadata": {},
   "outputs": [],
   "source": [
    "df['ExterCond'].value_counts()"
   ]
  },
  {
   "cell_type": "code",
   "execution_count": null,
   "id": "be673a30",
   "metadata": {},
   "outputs": [],
   "source": [
    "#Foundation[T.PConc]=0.149"
   ]
  },
  {
   "cell_type": "code",
   "execution_count": null,
   "id": "3d041555",
   "metadata": {},
   "outputs": [],
   "source": [
    "df['Foundation'].value_counts()"
   ]
  },
  {
   "cell_type": "code",
   "execution_count": null,
   "id": "e02842d7",
   "metadata": {},
   "outputs": [],
   "source": [
    "df['Foundation'].replace({'PConc':'BrkTil'},inplace=True)"
   ]
  },
  {
   "cell_type": "code",
   "execution_count": null,
   "id": "07851611",
   "metadata": {},
   "outputs": [],
   "source": [
    "df['Foundation'].value_counts()"
   ]
  },
  {
   "cell_type": "code",
   "execution_count": null,
   "id": "d05afa98",
   "metadata": {},
   "outputs": [],
   "source": [
    "#BsmtQual[T.Fa]=0.103"
   ]
  },
  {
   "cell_type": "code",
   "execution_count": null,
   "id": "dd4a3c7c",
   "metadata": {},
   "outputs": [],
   "source": [
    "df['BsmtQual'].value_counts()"
   ]
  },
  {
   "cell_type": "code",
   "execution_count": null,
   "id": "3fdea673",
   "metadata": {},
   "outputs": [],
   "source": [
    "df['BsmtQual'].replace({'Fa':'Ex'},inplace=True)"
   ]
  },
  {
   "cell_type": "code",
   "execution_count": null,
   "id": "d5cb2e08",
   "metadata": {},
   "outputs": [],
   "source": [
    "df['BsmtQual'].value_counts()"
   ]
  },
  {
   "cell_type": "code",
   "execution_count": null,
   "id": "7ed6f562",
   "metadata": {},
   "outputs": [],
   "source": [
    "annova=ols('SalePrice ~ BsmtQual',data=df).fit()\n",
    "an=sm.stats.anova_lm(annova,typ=2)\n",
    "print(an.round(decimals=5))"
   ]
  },
  {
   "cell_type": "code",
   "execution_count": null,
   "id": "ab3da652",
   "metadata": {},
   "outputs": [],
   "source": [
    "tukey = pairwise_tukeyhsd(df.SalePrice,df.BsmtQual,alpha=0.05)\n",
    "print (tukey)"
   ]
  },
  {
   "cell_type": "code",
   "execution_count": null,
   "id": "14c90d70",
   "metadata": {},
   "outputs": [],
   "source": [
    "#BsmtExposure[T.No]=0.072"
   ]
  },
  {
   "cell_type": "code",
   "execution_count": null,
   "id": "170e5e84",
   "metadata": {},
   "outputs": [],
   "source": [
    "df['BsmtExposure'].value_counts()"
   ]
  },
  {
   "cell_type": "code",
   "execution_count": null,
   "id": "5b909a31",
   "metadata": {},
   "outputs": [],
   "source": [
    "df['BsmtExposure'].replace({'No':'Av'},inplace=True)"
   ]
  },
  {
   "cell_type": "code",
   "execution_count": null,
   "id": "68e54c87",
   "metadata": {},
   "outputs": [],
   "source": [
    "df['BsmtExposure'].value_counts()"
   ]
  },
  {
   "cell_type": "code",
   "execution_count": null,
   "id": "feb9514e",
   "metadata": {},
   "outputs": [],
   "source": [
    "annova=ols('SalePrice ~ BsmtExposure',data=df).fit()\n",
    "an=sm.stats.anova_lm(annova,typ=2)\n",
    "print(an.round(decimals=5))"
   ]
  },
  {
   "cell_type": "code",
   "execution_count": null,
   "id": "cff55c0b",
   "metadata": {},
   "outputs": [],
   "source": [
    "tukey = pairwise_tukeyhsd(df.SalePrice,df.BsmtExposure,alpha=0.05)\n",
    "print (tukey)"
   ]
  },
  {
   "cell_type": "code",
   "execution_count": null,
   "id": "f1edf1f0",
   "metadata": {},
   "outputs": [],
   "source": [
    "#BsmtFinType1[T.GLQ]=0.089"
   ]
  },
  {
   "cell_type": "code",
   "execution_count": null,
   "id": "3940b9d9",
   "metadata": {},
   "outputs": [],
   "source": [
    "df['BsmtFinType1'].value_counts()"
   ]
  },
  {
   "cell_type": "code",
   "execution_count": null,
   "id": "180dd841",
   "metadata": {},
   "outputs": [],
   "source": [
    "df['BsmtFinType1'].replace({'GLQ':'ALQ'},inplace=True)"
   ]
  },
  {
   "cell_type": "code",
   "execution_count": null,
   "id": "9be6ef71",
   "metadata": {},
   "outputs": [],
   "source": [
    "df['BsmtFinType1'].value_counts()"
   ]
  },
  {
   "cell_type": "code",
   "execution_count": null,
   "id": "726a7ad9",
   "metadata": {},
   "outputs": [],
   "source": [
    "#Electrical[T.SBrkr]=0.555"
   ]
  },
  {
   "cell_type": "code",
   "execution_count": null,
   "id": "0081886e",
   "metadata": {},
   "outputs": [],
   "source": [
    "df['Electrical'].value_counts()"
   ]
  },
  {
   "cell_type": "code",
   "execution_count": null,
   "id": "a8a1673a",
   "metadata": {},
   "outputs": [],
   "source": [
    "df['Electrical'].replace({'SBrkr':'FuseA'},inplace=True)"
   ]
  },
  {
   "cell_type": "code",
   "execution_count": null,
   "id": "59e75441",
   "metadata": {},
   "outputs": [],
   "source": [
    "df['Electrical'].value_counts()"
   ]
  },
  {
   "cell_type": "code",
   "execution_count": null,
   "id": "b452e249",
   "metadata": {},
   "outputs": [],
   "source": [
    "#FireplaceQu[T.Fa]=0.766\n",
    "#FireplaceQu[T.TA]=0.924 "
   ]
  },
  {
   "cell_type": "code",
   "execution_count": null,
   "id": "5ae93ab2",
   "metadata": {},
   "outputs": [],
   "source": [
    "df['FireplaceQu'].value_counts()"
   ]
  },
  {
   "cell_type": "code",
   "execution_count": null,
   "id": "5dd71da2",
   "metadata": {},
   "outputs": [],
   "source": [
    "df['FireplaceQu'].replace({'Fa':'Ex'},inplace=True)\n",
    "df['FireplaceQu'].replace({'TA':'Ex'},inplace=True)"
   ]
  },
  {
   "cell_type": "code",
   "execution_count": null,
   "id": "47c1268d",
   "metadata": {},
   "outputs": [],
   "source": [
    "df['FireplaceQu'].value_counts()"
   ]
  },
  {
   "cell_type": "code",
   "execution_count": null,
   "id": "df68b06f",
   "metadata": {},
   "outputs": [],
   "source": [
    "#GarageType[T.BuiltIn]= 0.702"
   ]
  },
  {
   "cell_type": "code",
   "execution_count": null,
   "id": "83cf1f22",
   "metadata": {},
   "outputs": [],
   "source": [
    "df['GarageType'].value_counts()"
   ]
  },
  {
   "cell_type": "code",
   "execution_count": null,
   "id": "98a53bde",
   "metadata": {},
   "outputs": [],
   "source": [
    "df['GarageType'].replace({'BuiltIn':'2Types'},inplace=True)"
   ]
  },
  {
   "cell_type": "code",
   "execution_count": null,
   "id": "8f6d06b4",
   "metadata": {},
   "outputs": [],
   "source": [
    "df['GarageType'].value_counts()"
   ]
  },
  {
   "cell_type": "code",
   "execution_count": null,
   "id": "03d4076b",
   "metadata": {},
   "outputs": [],
   "source": [
    "#PavedDrive[T.Y]=0.126"
   ]
  },
  {
   "cell_type": "code",
   "execution_count": null,
   "id": "347a27ee",
   "metadata": {},
   "outputs": [],
   "source": [
    "df['PavedDrive'].value_counts()"
   ]
  },
  {
   "cell_type": "code",
   "execution_count": null,
   "id": "04a3ebb4",
   "metadata": {},
   "outputs": [],
   "source": [
    "df['PavedDrive'].replace({'Y':'N'},inplace=True)"
   ]
  },
  {
   "cell_type": "code",
   "execution_count": null,
   "id": "c278c5de",
   "metadata": {},
   "outputs": [],
   "source": [
    "df['PavedDrive'].value_counts()"
   ]
  },
  {
   "cell_type": "code",
   "execution_count": null,
   "id": "4e718b8c",
   "metadata": {},
   "outputs": [],
   "source": [
    "#SaleType[T.New]=0.368"
   ]
  },
  {
   "cell_type": "code",
   "execution_count": null,
   "id": "a88d1687",
   "metadata": {},
   "outputs": [],
   "source": [
    "df['SaleType'].value_counts()"
   ]
  },
  {
   "cell_type": "code",
   "execution_count": null,
   "id": "cd246403",
   "metadata": {},
   "outputs": [],
   "source": [
    "df['SaleType'].replace({'New':'COD'},inplace=True)"
   ]
  },
  {
   "cell_type": "code",
   "execution_count": null,
   "id": "6918cc01",
   "metadata": {},
   "outputs": [],
   "source": [
    "df['SaleType'].value_counts()"
   ]
  },
  {
   "cell_type": "code",
   "execution_count": null,
   "id": "bd3a8328",
   "metadata": {},
   "outputs": [],
   "source": [
    "#SaleCondition[T.Partial]=0.768"
   ]
  },
  {
   "cell_type": "code",
   "execution_count": null,
   "id": "3b9d0cf6",
   "metadata": {},
   "outputs": [],
   "source": [
    "df['SaleCondition'].value_counts()"
   ]
  },
  {
   "cell_type": "code",
   "execution_count": null,
   "id": "f0529563",
   "metadata": {},
   "outputs": [],
   "source": [
    "df['SaleCondition'].replace({'Partial':'Abnorml'},inplace=True)"
   ]
  },
  {
   "cell_type": "code",
   "execution_count": null,
   "id": "3240a69b",
   "metadata": {},
   "outputs": [],
   "source": [
    "df['SaleCondition'].value_counts()"
   ]
  },
  {
   "cell_type": "code",
   "execution_count": null,
   "id": "0d931839",
   "metadata": {},
   "outputs": [],
   "source": [
    "annova=ols('SalePrice ~ SaleCondition',data=df).fit()\n",
    "an=sm.stats.anova_lm(annova,typ=2)\n",
    "print(an.round(decimals=5))"
   ]
  },
  {
   "cell_type": "code",
   "execution_count": null,
   "id": "4628a059",
   "metadata": {},
   "outputs": [],
   "source": [
    "tukey = pairwise_tukeyhsd(df.SalePrice,df.SaleCondition,alpha=0.05)\n",
    "print (tukey)"
   ]
  },
  {
   "cell_type": "markdown",
   "id": "536ec9dd",
   "metadata": {},
   "source": [
    "#running regression again after replacing values"
   ]
  },
  {
   "cell_type": "code",
   "execution_count": null,
   "id": "ab82e69a",
   "metadata": {},
   "outputs": [],
   "source": [
    "#Running Linear regression \n",
    "model_1=smf.ols(formula='SalePrice~ MSSubClass+MSZoning+LotFrontage+LotArea+LotShape+LandContour+LotConfig+LandSlope+Neighborhood+Condition1+Condition2+BldgType+HouseStyle+OverallQual+OverallCond+YearBuilt+YearRemodAdd+RoofStyle+RoofMatl+Exterior1st+Exterior2nd+MasVnrType+MasVnrArea+ExterQual+ExterCond+Foundation+BsmtQual+BsmtCond+BsmtExposure+BsmtFinType1+BsmtFinSF1+BsmtFinType2+TotalBsmtSF+Heating+HeatingQC+CentralAir+Electrical+GrLivArea+BsmtFullBath+FullBath+HalfBath+BedroomAbvGr+KitchenAbvGr+KitchenQual+TotRmsAbvGrd+Functional+Fireplaces+FireplaceQu+GarageType+GarageYrBlt+GarageCars+GarageArea+GarageQual+GarageCond+PavedDrive+WoodDeckSF+OpenPorchSF+PoolArea+MoSold+YrSold+SaleType+SaleCondition',data=df).fit()\n",
    "print(model_1.summary())\n"
   ]
  },
  {
   "cell_type": "code",
   "execution_count": null,
   "id": "0d8167fb",
   "metadata": {},
   "outputs": [],
   "source": [
    "#Dropping columns with p>0.05\n",
    "#Dropping columns with p>0.05\n",
    "df.drop(['LotFrontage','OverallCond','MasVnrArea','BsmtFullBath','FullBath','HalfBath','KitchenAbvGr','GarageYrBlt','GarageCars','PoolArea','MoSold'],axis=1,inplace=True)"
   ]
  },
  {
   "cell_type": "code",
   "execution_count": null,
   "id": "b2277a74",
   "metadata": {},
   "outputs": [],
   "source": [
    "#Running Linear regression \n",
    "model_1=smf.ols(formula='SalePrice~ MSSubClass+MSZoning+LotArea+LotShape+LandContour+LotConfig+LandSlope+Neighborhood+Condition1+Condition2+BldgType+HouseStyle+OverallQual+YearBuilt+YearRemodAdd+RoofStyle+RoofMatl+Exterior1st+Exterior2nd+MasVnrType+ExterQual+ExterCond+Foundation+BsmtQual+BsmtCond+BsmtExposure+BsmtFinType1+BsmtFinSF1+BsmtFinType2+TotalBsmtSF+Heating+HeatingQC+CentralAir+Electrical+GrLivArea+BedroomAbvGr+KitchenQual+TotRmsAbvGrd+Functional+Fireplaces+FireplaceQu+GarageType+GarageArea+GarageQual+GarageCond+PavedDrive+WoodDeckSF+OpenPorchSF+YrSold+SaleType+SaleCondition',data=df).fit()\n",
    "print(model_1.summary())\n"
   ]
  },
  {
   "cell_type": "code",
   "execution_count": null,
   "id": "03f3026e",
   "metadata": {},
   "outputs": [],
   "source": [
    "#LotConfig[T.CulDSac]=0.107"
   ]
  },
  {
   "cell_type": "code",
   "execution_count": null,
   "id": "843f5c93",
   "metadata": {},
   "outputs": [],
   "source": [
    "df['LotConfig'].value_counts()"
   ]
  },
  {
   "cell_type": "code",
   "execution_count": null,
   "id": "b8b36f71",
   "metadata": {},
   "outputs": [],
   "source": [
    "df['LotConfig'].replace({'CulDSac':'Corner'},inplace=True)"
   ]
  },
  {
   "cell_type": "code",
   "execution_count": null,
   "id": "e9f31f81",
   "metadata": {},
   "outputs": [],
   "source": [
    "df['LotConfig'].value_counts()"
   ]
  },
  {
   "cell_type": "code",
   "execution_count": null,
   "id": "3f6dfb9a",
   "metadata": {},
   "outputs": [],
   "source": [
    "#Running Linear regression \n",
    "model_1=smf.ols(formula='SalePrice~ MSSubClass+MSZoning+LotArea+LotShape+LandContour+LotConfig+LandSlope+Neighborhood+Condition1+Condition2+BldgType+HouseStyle+OverallQual+YearBuilt+YearRemodAdd+RoofStyle+RoofMatl+Exterior1st+Exterior2nd+MasVnrType+ExterQual+ExterCond+Foundation+BsmtQual+BsmtCond+BsmtExposure+BsmtFinType1+BsmtFinSF1+BsmtFinType2+TotalBsmtSF+Heating+HeatingQC+CentralAir+Electrical+GrLivArea+BedroomAbvGr+KitchenQual+TotRmsAbvGrd+Functional+Fireplaces+FireplaceQu+GarageType+GarageArea+GarageQual+GarageCond+PavedDrive+WoodDeckSF+OpenPorchSF+YrSold+SaleType+SaleCondition',data=df).fit()\n",
    "print(model_1.summary())\n"
   ]
  },
  {
   "cell_type": "code",
   "execution_count": null,
   "id": "6cc984d8",
   "metadata": {},
   "outputs": [],
   "source": [
    "#Dropping columns with p>0.05\n",
    "df.drop(['BedroomAbvGr'],axis=1,inplace=True)"
   ]
  },
  {
   "cell_type": "code",
   "execution_count": null,
   "id": "cf0d9e71",
   "metadata": {},
   "outputs": [],
   "source": [
    "#Running Linear regression \n",
    "model_1=smf.ols(formula='SalePrice~ MSSubClass+MSZoning+LotArea+LotShape+LandContour+LotConfig+LandSlope+Neighborhood+Condition1+Condition2+BldgType+HouseStyle+OverallQual+YearBuilt+YearRemodAdd+RoofStyle+RoofMatl+Exterior1st+Exterior2nd+MasVnrType+ExterQual+ExterCond+Foundation+BsmtQual+BsmtCond+BsmtExposure+BsmtFinType1+BsmtFinSF1+BsmtFinType2+TotalBsmtSF+Heating+HeatingQC+CentralAir+Electrical+GrLivArea+KitchenQual+TotRmsAbvGrd+Functional+Fireplaces+FireplaceQu+GarageType+GarageArea+GarageQual+GarageCond+PavedDrive+WoodDeckSF+OpenPorchSF+YrSold+SaleType+SaleCondition',data=df).fit()\n",
    "print(model_1.summary())\n"
   ]
  },
  {
   "cell_type": "code",
   "execution_count": null,
   "id": "8fddf585",
   "metadata": {},
   "outputs": [],
   "source": [
    "df.info()"
   ]
  },
  {
   "cell_type": "markdown",
   "id": "c667eebf",
   "metadata": {},
   "source": [
    "VIF"
   ]
  },
  {
   "cell_type": "code",
   "execution_count": null,
   "id": "3e9d4973",
   "metadata": {},
   "outputs": [],
   "source": [
    "from statsmodels.stats.outliers_influence import variance_inflation_factor"
   ]
  },
  {
   "cell_type": "code",
   "execution_count": null,
   "id": "e4b6f066",
   "metadata": {},
   "outputs": [],
   "source": [
    "df= pd.DataFrame(df)\n",
    "df.info()"
   ]
  },
  {
   "cell_type": "code",
   "execution_count": null,
   "id": "a207a54c",
   "metadata": {},
   "outputs": [],
   "source": [
    "x = df.iloc[:,[0,1,2,3,4,5,6,7,8,9,10,11,12,13,14,15,16,17,18,19,20,21,22,23,24,25,26,27,28,29,30,31,32,33,34,35,36,37,38,39,40,41,42,43,44,45,46,47,48,49,50]]\n",
    "y = df.iloc[:,[51]]\n",
    "x.info() "
   ]
  },
  {
   "cell_type": "code",
   "execution_count": null,
   "id": "a5aa4a98",
   "metadata": {},
   "outputs": [],
   "source": [
    "# only continious variable\n",
    "\n",
    "Xx = df.iloc[:,[0,2,12,13,14,27,29,34,36,38,42,46,47,48]]\n",
    "\n",
    "Xx.info()"
   ]
  },
  {
   "cell_type": "code",
   "execution_count": null,
   "id": "73b156ef",
   "metadata": {},
   "outputs": [],
   "source": [
    "vif_data = pd.DataFrame()\n",
    "vif_data[\"feature\"] = Xx.columns\n",
    "  \n",
    "# calculating VIF for each feature\n",
    "vif_data[\"VIF\"] = [variance_inflation_factor(Xx.values, i)\n",
    "                          for i in range(len(Xx.columns))]\n",
    "  \n",
    "print(vif_data)"
   ]
  },
  {
   "cell_type": "code",
   "execution_count": null,
   "id": "4566a085",
   "metadata": {},
   "outputs": [],
   "source": [
    "#Dropping columns with VIF>10(becoz they are Multicollnier)\n",
    "df.drop(['LotArea','YearBuilt','YearRemodAdd','TotalBsmtSF','GrLivArea','GarageArea','YrSold'],axis=1,inplace=True)"
   ]
  },
  {
   "cell_type": "code",
   "execution_count": null,
   "id": "f63f180d",
   "metadata": {},
   "outputs": [],
   "source": [
    "df"
   ]
  },
  {
   "cell_type": "code",
   "execution_count": null,
   "id": "f6f5be64",
   "metadata": {},
   "outputs": [],
   "source": [
    "#liner regression on train data\n",
    "model_1=smf.ols(formula='SalePrice~MSSubClass+MSZoning+LotShape+LandContour+LotConfig+LandSlope+Neighborhood+Condition1+Condition2+BldgType+HouseStyle+OverallQual+RoofStyle+RoofMatl+Exterior1st+Exterior2nd+MasVnrType+ExterQual+ExterCond+Foundation+BsmtQual+BsmtCond+BsmtExposure+BsmtFinType1+BsmtFinSF1+BsmtFinType2+Heating+HeatingQC+CentralAir+Electrical+KitchenQual+TotRmsAbvGrd+Functional+Fireplaces+FireplaceQu+GarageType+GarageFinish+GarageQual+GarageCond+PavedDrive+WoodDeckSF+OpenPorchSF+SaleType+SaleCondition',data=df).fit()\n",
    "print(model_1.summary())"
   ]
  },
  {
   "cell_type": "code",
   "execution_count": null,
   "id": "8b26c77f",
   "metadata": {},
   "outputs": [],
   "source": [
    "#GarageFinish[T.RFn]=0.207\n",
    "#GarageFinish[T.Unf]=0.185"
   ]
  },
  {
   "cell_type": "code",
   "execution_count": null,
   "id": "5226cb12",
   "metadata": {},
   "outputs": [],
   "source": [
    "df['GarageFinish'].value_counts()"
   ]
  },
  {
   "cell_type": "code",
   "execution_count": null,
   "id": "3fe171f0",
   "metadata": {},
   "outputs": [],
   "source": [
    "df['GarageFinish'].replace({'RFn':'Fin'},inplace=True)\n",
    "df['GarageFinish'].replace({'Unf':'Fin'},inplace=True)"
   ]
  },
  {
   "cell_type": "code",
   "execution_count": null,
   "id": "1be5a2cc",
   "metadata": {},
   "outputs": [],
   "source": [
    "df['GarageFinish'].value_counts()"
   ]
  },
  {
   "cell_type": "code",
   "execution_count": null,
   "id": "20c16fc5",
   "metadata": {},
   "outputs": [],
   "source": [
    "#SaleCondition[T.Normal]=0.229"
   ]
  },
  {
   "cell_type": "code",
   "execution_count": null,
   "id": "9b8a2469",
   "metadata": {},
   "outputs": [],
   "source": [
    "df['SaleCondition'].value_counts()"
   ]
  },
  {
   "cell_type": "code",
   "execution_count": null,
   "id": "b4b17513",
   "metadata": {},
   "outputs": [],
   "source": [
    "df['SaleCondition'].replace({'Normal':'Abnorml'},inplace=True)"
   ]
  },
  {
   "cell_type": "code",
   "execution_count": null,
   "id": "40ddd061",
   "metadata": {},
   "outputs": [],
   "source": [
    "df['SaleCondition'].value_counts()"
   ]
  },
  {
   "cell_type": "code",
   "execution_count": null,
   "id": "50ffddf8",
   "metadata": {},
   "outputs": [],
   "source": [
    "#liner regression on train data\n",
    "model_1=smf.ols(formula='SalePrice~MSSubClass+MSZoning+LotShape+LandContour+LotConfig+LandSlope+Neighborhood+Condition1+Condition2+BldgType+HouseStyle+OverallQual+RoofStyle+RoofMatl+Exterior1st+Exterior2nd+MasVnrType+ExterQual+ExterCond+Foundation+BsmtQual+BsmtCond+BsmtExposure+BsmtFinType1+BsmtFinSF1+BsmtFinType2+Heating+HeatingQC+CentralAir+Electrical+KitchenQual+TotRmsAbvGrd+Functional+Fireplaces+FireplaceQu+GarageType+GarageFinish+GarageQual+GarageCond+PavedDrive+WoodDeckSF+OpenPorchSF+SaleType+SaleCondition',data=df).fit()\n",
    "print(model_1.summary())"
   ]
  },
  {
   "cell_type": "markdown",
   "id": "be06dee1",
   "metadata": {},
   "source": [
    "BUILDING MODEL ON TRAIN DATA AND TESTING IT ON TEST DATA"
   ]
  },
  {
   "cell_type": "code",
   "execution_count": null,
   "id": "efb46082",
   "metadata": {},
   "outputs": [],
   "source": [
    "from sklearn.model_selection import train_test_split"
   ]
  },
  {
   "cell_type": "code",
   "execution_count": null,
   "id": "00eaa0d9",
   "metadata": {},
   "outputs": [],
   "source": [
    "train,test= train_test_split(df, test_size=0.2, random_state=42)"
   ]
  },
  {
   "cell_type": "code",
   "execution_count": null,
   "id": "499c3b2e",
   "metadata": {},
   "outputs": [],
   "source": [
    "train.info()"
   ]
  },
  {
   "cell_type": "code",
   "execution_count": null,
   "id": "6de4d423",
   "metadata": {},
   "outputs": [],
   "source": [
    "test.info()"
   ]
  },
  {
   "cell_type": "code",
   "execution_count": null,
   "id": "0a44ec24",
   "metadata": {},
   "outputs": [],
   "source": [
    "test.columns"
   ]
  },
  {
   "cell_type": "code",
   "execution_count": null,
   "id": "98c0c1bb",
   "metadata": {},
   "outputs": [],
   "source": [
    "#liner regression on train data\n",
    "model_1=smf.ols(formula='SalePrice~MSSubClass+MSZoning+LotShape+LandContour+LotConfig+LandSlope+Neighborhood+Condition1+Condition2+BldgType+HouseStyle+OverallQual+RoofStyle+RoofMatl+Exterior1st+Exterior2nd+MasVnrType+ExterQual+ExterCond+Foundation+BsmtQual+BsmtCond+BsmtExposure+BsmtFinType1+BsmtFinSF1+BsmtFinType2+Heating+HeatingQC+CentralAir+Electrical+KitchenQual+TotRmsAbvGrd+Functional+Fireplaces+FireplaceQu+GarageType+GarageFinish+GarageQual+GarageCond+PavedDrive+WoodDeckSF+OpenPorchSF+SaleType+SaleCondition',data=train).fit()\n",
    "print(model_1.summary())"
   ]
  },
  {
   "cell_type": "markdown",
   "id": "43a3649c",
   "metadata": {},
   "source": [
    "#CHECKING MODEL ON TEST DATA"
   ]
  },
  {
   "cell_type": "code",
   "execution_count": null,
   "id": "d4f4e48c",
   "metadata": {},
   "outputs": [],
   "source": [
    "test.info()"
   ]
  },
  {
   "cell_type": "code",
   "execution_count": null,
   "id": "7b2d51aa",
   "metadata": {},
   "outputs": [],
   "source": [
    "x_test=test.loc[:,test.columns != 'SalePrice']\n",
    "y_test=test.loc[:,test.columns == 'SalePrice']"
   ]
  },
  {
   "cell_type": "code",
   "execution_count": null,
   "id": "822930d8",
   "metadata": {},
   "outputs": [],
   "source": [
    "x_test"
   ]
  },
  {
   "cell_type": "code",
   "execution_count": null,
   "id": "89b92701",
   "metadata": {},
   "outputs": [],
   "source": [
    "y_test"
   ]
  },
  {
   "cell_type": "code",
   "execution_count": null,
   "id": "03efed21",
   "metadata": {},
   "outputs": [],
   "source": [
    "pred_1=model_1.predict(x_test) #Prediction on test data"
   ]
  },
  {
   "cell_type": "code",
   "execution_count": null,
   "id": "bd6b52da",
   "metadata": {},
   "outputs": [],
   "source": [
    "pred_1"
   ]
  },
  {
   "cell_type": "code",
   "execution_count": null,
   "id": "f00f907b",
   "metadata": {},
   "outputs": [],
   "source": [
    "#Converting y_test into series\n",
    "y_test_series=y_test.iloc[:,0] "
   ]
  },
  {
   "cell_type": "code",
   "execution_count": null,
   "id": "e13d7678",
   "metadata": {},
   "outputs": [],
   "source": [
    "resd_1=y_test_series-pred_1"
   ]
  },
  {
   "cell_type": "code",
   "execution_count": null,
   "id": "3fc7f29e",
   "metadata": {},
   "outputs": [],
   "source": [
    "#Residuals\n",
    "resd_1"
   ]
  },
  {
   "cell_type": "code",
   "execution_count": null,
   "id": "3cf9a334",
   "metadata": {},
   "outputs": [],
   "source": [
    "#Square of errors\n",
    "se_1=resd_1.pow(2)"
   ]
  },
  {
   "cell_type": "code",
   "execution_count": null,
   "id": "4f0311da",
   "metadata": {},
   "outputs": [],
   "source": [
    "se_1"
   ]
  },
  {
   "cell_type": "code",
   "execution_count": null,
   "id": "b1f93693",
   "metadata": {},
   "outputs": [],
   "source": [
    "#Sum of Squared errors/residuals\n",
    "sse_1=se_1.sum()"
   ]
  },
  {
   "cell_type": "code",
   "execution_count": null,
   "id": "35e787ea",
   "metadata": {},
   "outputs": [],
   "source": [
    "sse_1"
   ]
  },
  {
   "cell_type": "code",
   "execution_count": null,
   "id": "08aee155",
   "metadata": {},
   "outputs": [],
   "source": [
    "#Mean sum squared errors\n",
    "msse_1=sse_1/len(se_1)"
   ]
  },
  {
   "cell_type": "code",
   "execution_count": null,
   "id": "5c326459",
   "metadata": {},
   "outputs": [],
   "source": [
    "msse_1"
   ]
  },
  {
   "cell_type": "code",
   "execution_count": null,
   "id": "d46d72bf",
   "metadata": {},
   "outputs": [],
   "source": [
    "import math"
   ]
  },
  {
   "cell_type": "code",
   "execution_count": null,
   "id": "92e4fc88",
   "metadata": {},
   "outputs": [],
   "source": [
    "#sqr root of mean sum squared errors\n",
    "math.sqrt(msse_1)"
   ]
  },
  {
   "cell_type": "markdown",
   "id": "bef660a9",
   "metadata": {},
   "source": [
    "plot of actual data and predictions"
   ]
  },
  {
   "cell_type": "code",
   "execution_count": null,
   "id": "36f06cb3",
   "metadata": {},
   "outputs": [],
   "source": [
    "obsno=np.arange(0,276,1)\n",
    "fig,ax=plt.subplots()\n",
    "ax.plot(obsno,y_test_series,'o',label='data')\n",
    "ax.plot(obsno,pred_1,'r',label='predicted')\n",
    "ax.legend(loc='best')"
   ]
  },
  {
   "cell_type": "code",
   "execution_count": null,
   "id": "5bc4183f",
   "metadata": {},
   "outputs": [],
   "source": []
  }
 ],
 "metadata": {
  "kernelspec": {
   "display_name": "Python 3",
   "language": "python",
   "name": "python3"
  },
  "language_info": {
   "codemirror_mode": {
    "name": "ipython",
    "version": 3
   },
   "file_extension": ".py",
   "mimetype": "text/x-python",
   "name": "python",
   "nbconvert_exporter": "python",
   "pygments_lexer": "ipython3",
   "version": "3.10.9"
  }
 },
 "nbformat": 4,
 "nbformat_minor": 5
}
